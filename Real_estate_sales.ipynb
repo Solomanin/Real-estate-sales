{
 "cells": [
  {
   "cell_type": "markdown",
   "metadata": {
    "toc": true
   },
   "source": [
    "<h1>Сontent<span class=\"tocSkip\"></span></h1>\n",
    "<div class=\"toc\"><ul class=\"toc-item\"><li><span><a href=\"#Examining-data-from-file\" data-toc-modified-id=\"Examining-data-from-file\"><span class=\"toc-item-num\">1&nbsp;&nbsp;</span>Examining-data-from-file</a></span><ul class=\"toc-item\"><li><span><a href=\"#Findings\" data-toc-modified-id=\"Findings-1.1\"><span class=\"toc-item-num\">1.1&nbsp;&nbsp;</span>Findings</a></span></li></ul></li><li><span><a href=\"#Data-preprocessing\" data-toc-modified-id=\"Data-preprocessing-2\"><span class=\"toc-item-num\">2&nbsp;&nbsp;</span>Data preprocessing</a></span></li><li><span><a href=\"#Calculations-and-adding-results-to-the-table\" data-toc-modified-id=\"Calculations-and-adding-results-to-the-table-3\"><span class=\"toc-item-num\">3&nbsp;&nbsp;</span>Calculations and adding results to the table</a></span></li><li><span><a href=\"#Exploratory-data-analysis\" data-toc-modified-id=\"Exploratory-data-analysis-4\"><span class=\"toc-item-num\">4&nbsp;&nbsp;</span>Exploratory data analysis</a></span></li><li><span><a href=\"#Conclusion\" data-toc-modified-id=\"Conclusion-5\"><span class=\"toc-item-num\">5&nbsp;&nbsp;</span>Conclusion</a>"
   ]
  },
  {
   "cell_type": "markdown",
   "metadata": {},
   "source": [
    "## Examining-data-from-file"
   ]
  },
  {
   "cell_type": "code",
   "execution_count": 1,
   "metadata": {},
   "outputs": [
    {
     "data": {
      "text/html": [
       "<div>\n",
       "<style scoped>\n",
       "    .dataframe tbody tr th:only-of-type {\n",
       "        vertical-align: middle;\n",
       "    }\n",
       "\n",
       "    .dataframe tbody tr th {\n",
       "        vertical-align: top;\n",
       "    }\n",
       "\n",
       "    .dataframe thead th {\n",
       "        text-align: right;\n",
       "    }\n",
       "</style>\n",
       "<table border=\"1\" class=\"dataframe\">\n",
       "  <thead>\n",
       "    <tr style=\"text-align: right;\">\n",
       "      <th></th>\n",
       "      <th>total_images</th>\n",
       "      <th>last_price</th>\n",
       "      <th>total_area</th>\n",
       "      <th>first_day_exposition</th>\n",
       "      <th>rooms</th>\n",
       "      <th>ceiling_height</th>\n",
       "      <th>floors_total</th>\n",
       "      <th>living_area</th>\n",
       "      <th>floor</th>\n",
       "      <th>is_apartment</th>\n",
       "      <th>...</th>\n",
       "      <th>kitchen_area</th>\n",
       "      <th>balcony</th>\n",
       "      <th>locality_name</th>\n",
       "      <th>airports_nearest</th>\n",
       "      <th>cityCenters_nearest</th>\n",
       "      <th>parks_around3000</th>\n",
       "      <th>parks_nearest</th>\n",
       "      <th>ponds_around3000</th>\n",
       "      <th>ponds_nearest</th>\n",
       "      <th>days_exposition</th>\n",
       "    </tr>\n",
       "  </thead>\n",
       "  <tbody>\n",
       "    <tr>\n",
       "      <td>0</td>\n",
       "      <td>20</td>\n",
       "      <td>13000000.0</td>\n",
       "      <td>108.0</td>\n",
       "      <td>2019-03-07T00:00:00</td>\n",
       "      <td>3</td>\n",
       "      <td>2.70</td>\n",
       "      <td>16.0</td>\n",
       "      <td>51.0</td>\n",
       "      <td>8</td>\n",
       "      <td>NaN</td>\n",
       "      <td>...</td>\n",
       "      <td>25.0</td>\n",
       "      <td>NaN</td>\n",
       "      <td>Санкт-Петербург</td>\n",
       "      <td>18863.0</td>\n",
       "      <td>16028.0</td>\n",
       "      <td>1.0</td>\n",
       "      <td>482.0</td>\n",
       "      <td>2.0</td>\n",
       "      <td>755.0</td>\n",
       "      <td>NaN</td>\n",
       "    </tr>\n",
       "    <tr>\n",
       "      <td>1</td>\n",
       "      <td>7</td>\n",
       "      <td>3350000.0</td>\n",
       "      <td>40.4</td>\n",
       "      <td>2018-12-04T00:00:00</td>\n",
       "      <td>1</td>\n",
       "      <td>NaN</td>\n",
       "      <td>11.0</td>\n",
       "      <td>18.6</td>\n",
       "      <td>1</td>\n",
       "      <td>NaN</td>\n",
       "      <td>...</td>\n",
       "      <td>11.0</td>\n",
       "      <td>2.0</td>\n",
       "      <td>посёлок Шушары</td>\n",
       "      <td>12817.0</td>\n",
       "      <td>18603.0</td>\n",
       "      <td>0.0</td>\n",
       "      <td>NaN</td>\n",
       "      <td>0.0</td>\n",
       "      <td>NaN</td>\n",
       "      <td>81.0</td>\n",
       "    </tr>\n",
       "    <tr>\n",
       "      <td>2</td>\n",
       "      <td>10</td>\n",
       "      <td>5196000.0</td>\n",
       "      <td>56.0</td>\n",
       "      <td>2015-08-20T00:00:00</td>\n",
       "      <td>2</td>\n",
       "      <td>NaN</td>\n",
       "      <td>5.0</td>\n",
       "      <td>34.3</td>\n",
       "      <td>4</td>\n",
       "      <td>NaN</td>\n",
       "      <td>...</td>\n",
       "      <td>8.3</td>\n",
       "      <td>0.0</td>\n",
       "      <td>Санкт-Петербург</td>\n",
       "      <td>21741.0</td>\n",
       "      <td>13933.0</td>\n",
       "      <td>1.0</td>\n",
       "      <td>90.0</td>\n",
       "      <td>2.0</td>\n",
       "      <td>574.0</td>\n",
       "      <td>558.0</td>\n",
       "    </tr>\n",
       "    <tr>\n",
       "      <td>3</td>\n",
       "      <td>0</td>\n",
       "      <td>64900000.0</td>\n",
       "      <td>159.0</td>\n",
       "      <td>2015-07-24T00:00:00</td>\n",
       "      <td>3</td>\n",
       "      <td>NaN</td>\n",
       "      <td>14.0</td>\n",
       "      <td>NaN</td>\n",
       "      <td>9</td>\n",
       "      <td>NaN</td>\n",
       "      <td>...</td>\n",
       "      <td>NaN</td>\n",
       "      <td>0.0</td>\n",
       "      <td>Санкт-Петербург</td>\n",
       "      <td>28098.0</td>\n",
       "      <td>6800.0</td>\n",
       "      <td>2.0</td>\n",
       "      <td>84.0</td>\n",
       "      <td>3.0</td>\n",
       "      <td>234.0</td>\n",
       "      <td>424.0</td>\n",
       "    </tr>\n",
       "    <tr>\n",
       "      <td>4</td>\n",
       "      <td>2</td>\n",
       "      <td>10000000.0</td>\n",
       "      <td>100.0</td>\n",
       "      <td>2018-06-19T00:00:00</td>\n",
       "      <td>2</td>\n",
       "      <td>3.03</td>\n",
       "      <td>14.0</td>\n",
       "      <td>32.0</td>\n",
       "      <td>13</td>\n",
       "      <td>NaN</td>\n",
       "      <td>...</td>\n",
       "      <td>41.0</td>\n",
       "      <td>NaN</td>\n",
       "      <td>Санкт-Петербург</td>\n",
       "      <td>31856.0</td>\n",
       "      <td>8098.0</td>\n",
       "      <td>2.0</td>\n",
       "      <td>112.0</td>\n",
       "      <td>1.0</td>\n",
       "      <td>48.0</td>\n",
       "      <td>121.0</td>\n",
       "    </tr>\n",
       "  </tbody>\n",
       "</table>\n",
       "<p>5 rows × 22 columns</p>\n",
       "</div>"
      ],
      "text/plain": [
       "   total_images  last_price  total_area first_day_exposition  rooms  \\\n",
       "0            20  13000000.0       108.0  2019-03-07T00:00:00      3   \n",
       "1             7   3350000.0        40.4  2018-12-04T00:00:00      1   \n",
       "2            10   5196000.0        56.0  2015-08-20T00:00:00      2   \n",
       "3             0  64900000.0       159.0  2015-07-24T00:00:00      3   \n",
       "4             2  10000000.0       100.0  2018-06-19T00:00:00      2   \n",
       "\n",
       "   ceiling_height  floors_total  living_area  floor is_apartment  ...  \\\n",
       "0            2.70          16.0         51.0      8          NaN  ...   \n",
       "1             NaN          11.0         18.6      1          NaN  ...   \n",
       "2             NaN           5.0         34.3      4          NaN  ...   \n",
       "3             NaN          14.0          NaN      9          NaN  ...   \n",
       "4            3.03          14.0         32.0     13          NaN  ...   \n",
       "\n",
       "   kitchen_area  balcony    locality_name  airports_nearest  \\\n",
       "0          25.0      NaN  Санкт-Петербург           18863.0   \n",
       "1          11.0      2.0   посёлок Шушары           12817.0   \n",
       "2           8.3      0.0  Санкт-Петербург           21741.0   \n",
       "3           NaN      0.0  Санкт-Петербург           28098.0   \n",
       "4          41.0      NaN  Санкт-Петербург           31856.0   \n",
       "\n",
       "  cityCenters_nearest  parks_around3000  parks_nearest  ponds_around3000  \\\n",
       "0             16028.0               1.0          482.0               2.0   \n",
       "1             18603.0               0.0            NaN               0.0   \n",
       "2             13933.0               1.0           90.0               2.0   \n",
       "3              6800.0               2.0           84.0               3.0   \n",
       "4              8098.0               2.0          112.0               1.0   \n",
       "\n",
       "   ponds_nearest  days_exposition  \n",
       "0          755.0              NaN  \n",
       "1            NaN             81.0  \n",
       "2          574.0            558.0  \n",
       "3          234.0            424.0  \n",
       "4           48.0            121.0  \n",
       "\n",
       "[5 rows x 22 columns]"
      ]
     },
     "execution_count": 1,
     "metadata": {},
     "output_type": "execute_result"
    }
   ],
   "source": [
    "import pandas as pd\n",
    "df = pd.read_csv(\"/datasets/real_estate_data.csv\", sep=\"\\t\")\n",
    "df.head()\n"
   ]
  },
  {
   "cell_type": "code",
   "execution_count": 2,
   "metadata": {},
   "outputs": [
    {
     "data": {
      "text/html": [
       "<div>\n",
       "<style scoped>\n",
       "    .dataframe tbody tr th:only-of-type {\n",
       "        vertical-align: middle;\n",
       "    }\n",
       "\n",
       "    .dataframe tbody tr th {\n",
       "        vertical-align: top;\n",
       "    }\n",
       "\n",
       "    .dataframe thead th {\n",
       "        text-align: right;\n",
       "    }\n",
       "</style>\n",
       "<table border=\"1\" class=\"dataframe\">\n",
       "  <thead>\n",
       "    <tr style=\"text-align: right;\">\n",
       "      <th></th>\n",
       "      <th>total_images</th>\n",
       "      <th>last_price</th>\n",
       "      <th>total_area</th>\n",
       "      <th>rooms</th>\n",
       "      <th>ceiling_height</th>\n",
       "      <th>floors_total</th>\n",
       "      <th>living_area</th>\n",
       "      <th>floor</th>\n",
       "      <th>kitchen_area</th>\n",
       "      <th>balcony</th>\n",
       "      <th>airports_nearest</th>\n",
       "      <th>cityCenters_nearest</th>\n",
       "      <th>parks_around3000</th>\n",
       "      <th>parks_nearest</th>\n",
       "      <th>ponds_around3000</th>\n",
       "      <th>ponds_nearest</th>\n",
       "      <th>days_exposition</th>\n",
       "    </tr>\n",
       "  </thead>\n",
       "  <tbody>\n",
       "    <tr>\n",
       "      <td>count</td>\n",
       "      <td>23699.000000</td>\n",
       "      <td>2.369900e+04</td>\n",
       "      <td>23699.000000</td>\n",
       "      <td>23699.000000</td>\n",
       "      <td>14504.000000</td>\n",
       "      <td>23613.000000</td>\n",
       "      <td>21796.000000</td>\n",
       "      <td>23699.000000</td>\n",
       "      <td>21421.000000</td>\n",
       "      <td>12180.000000</td>\n",
       "      <td>18157.000000</td>\n",
       "      <td>18180.000000</td>\n",
       "      <td>18181.000000</td>\n",
       "      <td>8079.000000</td>\n",
       "      <td>18181.000000</td>\n",
       "      <td>9110.000000</td>\n",
       "      <td>20518.000000</td>\n",
       "    </tr>\n",
       "    <tr>\n",
       "      <td>mean</td>\n",
       "      <td>9.858475</td>\n",
       "      <td>6.541549e+06</td>\n",
       "      <td>60.348651</td>\n",
       "      <td>2.070636</td>\n",
       "      <td>2.771499</td>\n",
       "      <td>10.673824</td>\n",
       "      <td>34.457852</td>\n",
       "      <td>5.892358</td>\n",
       "      <td>10.569807</td>\n",
       "      <td>1.150082</td>\n",
       "      <td>28793.672193</td>\n",
       "      <td>14191.277833</td>\n",
       "      <td>0.611408</td>\n",
       "      <td>490.804555</td>\n",
       "      <td>0.770255</td>\n",
       "      <td>517.980900</td>\n",
       "      <td>180.888634</td>\n",
       "    </tr>\n",
       "    <tr>\n",
       "      <td>std</td>\n",
       "      <td>5.682529</td>\n",
       "      <td>1.088701e+07</td>\n",
       "      <td>35.654083</td>\n",
       "      <td>1.078405</td>\n",
       "      <td>1.261056</td>\n",
       "      <td>6.597173</td>\n",
       "      <td>22.030445</td>\n",
       "      <td>4.885249</td>\n",
       "      <td>5.905438</td>\n",
       "      <td>1.071300</td>\n",
       "      <td>12630.880622</td>\n",
       "      <td>8608.386210</td>\n",
       "      <td>0.802074</td>\n",
       "      <td>342.317995</td>\n",
       "      <td>0.938346</td>\n",
       "      <td>277.720643</td>\n",
       "      <td>219.727988</td>\n",
       "    </tr>\n",
       "    <tr>\n",
       "      <td>min</td>\n",
       "      <td>0.000000</td>\n",
       "      <td>1.219000e+04</td>\n",
       "      <td>12.000000</td>\n",
       "      <td>0.000000</td>\n",
       "      <td>1.000000</td>\n",
       "      <td>1.000000</td>\n",
       "      <td>2.000000</td>\n",
       "      <td>1.000000</td>\n",
       "      <td>1.300000</td>\n",
       "      <td>0.000000</td>\n",
       "      <td>0.000000</td>\n",
       "      <td>181.000000</td>\n",
       "      <td>0.000000</td>\n",
       "      <td>1.000000</td>\n",
       "      <td>0.000000</td>\n",
       "      <td>13.000000</td>\n",
       "      <td>1.000000</td>\n",
       "    </tr>\n",
       "    <tr>\n",
       "      <td>25%</td>\n",
       "      <td>6.000000</td>\n",
       "      <td>3.400000e+06</td>\n",
       "      <td>40.000000</td>\n",
       "      <td>1.000000</td>\n",
       "      <td>2.520000</td>\n",
       "      <td>5.000000</td>\n",
       "      <td>18.600000</td>\n",
       "      <td>2.000000</td>\n",
       "      <td>7.000000</td>\n",
       "      <td>0.000000</td>\n",
       "      <td>18585.000000</td>\n",
       "      <td>9238.000000</td>\n",
       "      <td>0.000000</td>\n",
       "      <td>288.000000</td>\n",
       "      <td>0.000000</td>\n",
       "      <td>294.000000</td>\n",
       "      <td>45.000000</td>\n",
       "    </tr>\n",
       "    <tr>\n",
       "      <td>50%</td>\n",
       "      <td>9.000000</td>\n",
       "      <td>4.650000e+06</td>\n",
       "      <td>52.000000</td>\n",
       "      <td>2.000000</td>\n",
       "      <td>2.650000</td>\n",
       "      <td>9.000000</td>\n",
       "      <td>30.000000</td>\n",
       "      <td>4.000000</td>\n",
       "      <td>9.100000</td>\n",
       "      <td>1.000000</td>\n",
       "      <td>26726.000000</td>\n",
       "      <td>13098.500000</td>\n",
       "      <td>0.000000</td>\n",
       "      <td>455.000000</td>\n",
       "      <td>1.000000</td>\n",
       "      <td>502.000000</td>\n",
       "      <td>95.000000</td>\n",
       "    </tr>\n",
       "    <tr>\n",
       "      <td>75%</td>\n",
       "      <td>14.000000</td>\n",
       "      <td>6.800000e+06</td>\n",
       "      <td>69.900000</td>\n",
       "      <td>3.000000</td>\n",
       "      <td>2.800000</td>\n",
       "      <td>16.000000</td>\n",
       "      <td>42.300000</td>\n",
       "      <td>8.000000</td>\n",
       "      <td>12.000000</td>\n",
       "      <td>2.000000</td>\n",
       "      <td>37273.000000</td>\n",
       "      <td>16293.000000</td>\n",
       "      <td>1.000000</td>\n",
       "      <td>612.000000</td>\n",
       "      <td>1.000000</td>\n",
       "      <td>729.000000</td>\n",
       "      <td>232.000000</td>\n",
       "    </tr>\n",
       "    <tr>\n",
       "      <td>max</td>\n",
       "      <td>50.000000</td>\n",
       "      <td>7.630000e+08</td>\n",
       "      <td>900.000000</td>\n",
       "      <td>19.000000</td>\n",
       "      <td>100.000000</td>\n",
       "      <td>60.000000</td>\n",
       "      <td>409.700000</td>\n",
       "      <td>33.000000</td>\n",
       "      <td>112.000000</td>\n",
       "      <td>5.000000</td>\n",
       "      <td>84869.000000</td>\n",
       "      <td>65968.000000</td>\n",
       "      <td>3.000000</td>\n",
       "      <td>3190.000000</td>\n",
       "      <td>3.000000</td>\n",
       "      <td>1344.000000</td>\n",
       "      <td>1580.000000</td>\n",
       "    </tr>\n",
       "  </tbody>\n",
       "</table>\n",
       "</div>"
      ],
      "text/plain": [
       "       total_images    last_price    total_area         rooms  ceiling_height  \\\n",
       "count  23699.000000  2.369900e+04  23699.000000  23699.000000    14504.000000   \n",
       "mean       9.858475  6.541549e+06     60.348651      2.070636        2.771499   \n",
       "std        5.682529  1.088701e+07     35.654083      1.078405        1.261056   \n",
       "min        0.000000  1.219000e+04     12.000000      0.000000        1.000000   \n",
       "25%        6.000000  3.400000e+06     40.000000      1.000000        2.520000   \n",
       "50%        9.000000  4.650000e+06     52.000000      2.000000        2.650000   \n",
       "75%       14.000000  6.800000e+06     69.900000      3.000000        2.800000   \n",
       "max       50.000000  7.630000e+08    900.000000     19.000000      100.000000   \n",
       "\n",
       "       floors_total   living_area         floor  kitchen_area       balcony  \\\n",
       "count  23613.000000  21796.000000  23699.000000  21421.000000  12180.000000   \n",
       "mean      10.673824     34.457852      5.892358     10.569807      1.150082   \n",
       "std        6.597173     22.030445      4.885249      5.905438      1.071300   \n",
       "min        1.000000      2.000000      1.000000      1.300000      0.000000   \n",
       "25%        5.000000     18.600000      2.000000      7.000000      0.000000   \n",
       "50%        9.000000     30.000000      4.000000      9.100000      1.000000   \n",
       "75%       16.000000     42.300000      8.000000     12.000000      2.000000   \n",
       "max       60.000000    409.700000     33.000000    112.000000      5.000000   \n",
       "\n",
       "       airports_nearest  cityCenters_nearest  parks_around3000  parks_nearest  \\\n",
       "count      18157.000000         18180.000000      18181.000000    8079.000000   \n",
       "mean       28793.672193         14191.277833          0.611408     490.804555   \n",
       "std        12630.880622          8608.386210          0.802074     342.317995   \n",
       "min            0.000000           181.000000          0.000000       1.000000   \n",
       "25%        18585.000000          9238.000000          0.000000     288.000000   \n",
       "50%        26726.000000         13098.500000          0.000000     455.000000   \n",
       "75%        37273.000000         16293.000000          1.000000     612.000000   \n",
       "max        84869.000000         65968.000000          3.000000    3190.000000   \n",
       "\n",
       "       ponds_around3000  ponds_nearest  days_exposition  \n",
       "count      18181.000000    9110.000000     20518.000000  \n",
       "mean           0.770255     517.980900       180.888634  \n",
       "std            0.938346     277.720643       219.727988  \n",
       "min            0.000000      13.000000         1.000000  \n",
       "25%            0.000000     294.000000        45.000000  \n",
       "50%            1.000000     502.000000        95.000000  \n",
       "75%            1.000000     729.000000       232.000000  \n",
       "max            3.000000    1344.000000      1580.000000  "
      ]
     },
     "execution_count": 2,
     "metadata": {},
     "output_type": "execute_result"
    }
   ],
   "source": [
    "# examine the data\n",
    "df.describe()"
   ]
  },
  {
   "cell_type": "code",
   "execution_count": 3,
   "metadata": {},
   "outputs": [
    {
     "name": "stdout",
     "output_type": "stream",
     "text": [
      "<class 'pandas.core.frame.DataFrame'>\n",
      "RangeIndex: 23699 entries, 0 to 23698\n",
      "Data columns (total 22 columns):\n",
      "total_images            23699 non-null int64\n",
      "last_price              23699 non-null float64\n",
      "total_area              23699 non-null float64\n",
      "first_day_exposition    23699 non-null object\n",
      "rooms                   23699 non-null int64\n",
      "ceiling_height          14504 non-null float64\n",
      "floors_total            23613 non-null float64\n",
      "living_area             21796 non-null float64\n",
      "floor                   23699 non-null int64\n",
      "is_apartment            2775 non-null object\n",
      "studio                  23699 non-null bool\n",
      "open_plan               23699 non-null bool\n",
      "kitchen_area            21421 non-null float64\n",
      "balcony                 12180 non-null float64\n",
      "locality_name           23650 non-null object\n",
      "airports_nearest        18157 non-null float64\n",
      "cityCenters_nearest     18180 non-null float64\n",
      "parks_around3000        18181 non-null float64\n",
      "parks_nearest           8079 non-null float64\n",
      "ponds_around3000        18181 non-null float64\n",
      "ponds_nearest           9110 non-null float64\n",
      "days_exposition         20518 non-null float64\n",
      "dtypes: bool(2), float64(14), int64(3), object(3)\n",
      "memory usage: 3.7+ MB\n"
     ]
    }
   ],
   "source": [
    "df.info()"
   ]
  },
  {
   "cell_type": "markdown",
   "metadata": {},
   "source": [
    "### Findings"
   ]
  },
  {
   "cell_type": "markdown",
   "metadata": {},
   "source": [
    "Displayed the first 5 rows of the table. We see that the data without spaces and all with a small letter."
   ]
  },
  {
   "cell_type": "markdown",
   "metadata": {},
   "source": [
    "## Data preprocessing"
   ]
  },
  {
   "cell_type": "code",
   "execution_count": 4,
   "metadata": {},
   "outputs": [
    {
     "data": {
      "text/plain": [
       "total_images                0\n",
       "last_price                  0\n",
       "total_area                  0\n",
       "first_day_exposition        0\n",
       "rooms                       0\n",
       "ceiling_height           9195\n",
       "floors_total               86\n",
       "living_area              1903\n",
       "floor                       0\n",
       "is_apartment            20924\n",
       "studio                      0\n",
       "open_plan                   0\n",
       "kitchen_area             2278\n",
       "balcony                 11519\n",
       "locality_name              49\n",
       "airports_nearest         5542\n",
       "cityCenters_nearest      5519\n",
       "parks_around3000         5518\n",
       "parks_nearest           15620\n",
       "ponds_around3000         5518\n",
       "ponds_nearest           14589\n",
       "days_exposition          3181\n",
       "dtype: int64"
      ]
     },
     "execution_count": 4,
     "metadata": {},
     "output_type": "execute_result"
    }
   ],
   "source": [
    "# See where the passes\n",
    "df.isna().sum()"
   ]
  },
  {
   "cell_type": "markdown",
   "metadata": {},
   "source": [
    "We see that there are enough gaps in a large number of columns.\n",
    "\n",
    "If people did not indicate the number of balconies, most likely they do not exist."
   ]
  },
  {
   "cell_type": "code",
   "execution_count": 5,
   "metadata": {},
   "outputs": [],
   "source": [
    "\n",
    "df[\"balcony\"] = df.fillna(0)\n"
   ]
  },
  {
   "cell_type": "markdown",
   "metadata": {},
   "source": [
    "In all other cases, most likely people did not indicate this information, since they simply do not know it.\n",
    "In this case, we can only leave gaps"
   ]
  },
  {
   "cell_type": "code",
   "execution_count": 6,
   "metadata": {},
   "outputs": [],
   "source": [
    "import numpy as np\n",
    "# Replace all value with integers\n",
    "df = df.fillna(np.nan)"
   ]
  },
  {
   "cell_type": "markdown",
   "metadata": {},
   "source": [
    " An important indicator in this data is livin_area. It seems to me that if people did not enter data in this column\n",
    " then this number is not very large. It is better to make this value below the average, rather than making it the average."
   ]
  },
  {
   "cell_type": "code",
   "execution_count": 7,
   "metadata": {},
   "outputs": [
    {
     "name": "stdout",
     "output_type": "stream",
     "text": [
      "34.457852427601395\n"
     ]
    }
   ],
   "source": [
    "m = df[\"living_area\"].mean()\n",
    "\n",
    "print(m) # the average area of ​​an apartment is 34 meters^2. Let's replace gaps by 15 m^2\n",
    "df[\"living_area\"] = df[\"living_area\"].fillna(17)\n",
    "\n",
    "# Here we replace the average value, because most people really do not know the area of ​​\\u200b\\u200bthe kitchen\n",
    "avg = df[\"kitchen_area\"].mean()\n",
    "df[\"kitchen_area\"]  = df[\"kitchen_area\"].fillna(value=avg)"
   ]
  },
  {
   "cell_type": "code",
   "execution_count": 8,
   "metadata": {},
   "outputs": [
    {
     "data": {
      "text/plain": [
       "total_images                0\n",
       "last_price                  0\n",
       "total_area                  0\n",
       "first_day_exposition        0\n",
       "rooms                       0\n",
       "ceiling_height           9195\n",
       "floors_total               86\n",
       "living_area                 0\n",
       "floor                       0\n",
       "is_apartment            20924\n",
       "studio                      0\n",
       "open_plan                   0\n",
       "kitchen_area                0\n",
       "balcony                     0\n",
       "locality_name              49\n",
       "airports_nearest         5542\n",
       "cityCenters_nearest      5519\n",
       "parks_around3000         5518\n",
       "parks_nearest           15620\n",
       "ponds_around3000         5518\n",
       "ponds_nearest           14589\n",
       "days_exposition          3181\n",
       "dtype: int64"
      ]
     },
     "execution_count": 8,
     "metadata": {},
     "output_type": "execute_result"
    }
   ],
   "source": [
    "df.isna().sum()"
   ]
  },
  {
   "cell_type": "code",
   "execution_count": 9,
   "metadata": {},
   "outputs": [
    {
     "data": {
      "text/html": [
       "<div>\n",
       "<style scoped>\n",
       "    .dataframe tbody tr th:only-of-type {\n",
       "        vertical-align: middle;\n",
       "    }\n",
       "\n",
       "    .dataframe tbody tr th {\n",
       "        vertical-align: top;\n",
       "    }\n",
       "\n",
       "    .dataframe thead th {\n",
       "        text-align: right;\n",
       "    }\n",
       "</style>\n",
       "<table border=\"1\" class=\"dataframe\">\n",
       "  <thead>\n",
       "    <tr style=\"text-align: right;\">\n",
       "      <th></th>\n",
       "      <th>total_images</th>\n",
       "      <th>last_price</th>\n",
       "      <th>total_area</th>\n",
       "      <th>first_day_exposition</th>\n",
       "      <th>rooms</th>\n",
       "      <th>ceiling_height</th>\n",
       "      <th>floors_total</th>\n",
       "      <th>living_area</th>\n",
       "      <th>floor</th>\n",
       "      <th>is_apartment</th>\n",
       "      <th>...</th>\n",
       "      <th>kitchen_area</th>\n",
       "      <th>balcony</th>\n",
       "      <th>locality_name</th>\n",
       "      <th>airports_nearest</th>\n",
       "      <th>cityCenters_nearest</th>\n",
       "      <th>parks_around3000</th>\n",
       "      <th>parks_nearest</th>\n",
       "      <th>ponds_around3000</th>\n",
       "      <th>ponds_nearest</th>\n",
       "      <th>days_exposition</th>\n",
       "    </tr>\n",
       "  </thead>\n",
       "  <tbody>\n",
       "    <tr>\n",
       "      <td>0</td>\n",
       "      <td>20</td>\n",
       "      <td>13000000</td>\n",
       "      <td>108.0</td>\n",
       "      <td>2019-03-07T00:00:00</td>\n",
       "      <td>3</td>\n",
       "      <td>2.70</td>\n",
       "      <td>16.0</td>\n",
       "      <td>51</td>\n",
       "      <td>8</td>\n",
       "      <td>NaN</td>\n",
       "      <td>...</td>\n",
       "      <td>25</td>\n",
       "      <td>20</td>\n",
       "      <td>Санкт-Петербург</td>\n",
       "      <td>18863.0</td>\n",
       "      <td>16028.0</td>\n",
       "      <td>1.0</td>\n",
       "      <td>482.0</td>\n",
       "      <td>2.0</td>\n",
       "      <td>755.0</td>\n",
       "      <td>NaN</td>\n",
       "    </tr>\n",
       "    <tr>\n",
       "      <td>1</td>\n",
       "      <td>7</td>\n",
       "      <td>3350000</td>\n",
       "      <td>40.4</td>\n",
       "      <td>2018-12-04T00:00:00</td>\n",
       "      <td>1</td>\n",
       "      <td>NaN</td>\n",
       "      <td>11.0</td>\n",
       "      <td>18</td>\n",
       "      <td>1</td>\n",
       "      <td>NaN</td>\n",
       "      <td>...</td>\n",
       "      <td>11</td>\n",
       "      <td>7</td>\n",
       "      <td>посёлок Шушары</td>\n",
       "      <td>12817.0</td>\n",
       "      <td>18603.0</td>\n",
       "      <td>0.0</td>\n",
       "      <td>NaN</td>\n",
       "      <td>0.0</td>\n",
       "      <td>NaN</td>\n",
       "      <td>81.0</td>\n",
       "    </tr>\n",
       "    <tr>\n",
       "      <td>2</td>\n",
       "      <td>10</td>\n",
       "      <td>5196000</td>\n",
       "      <td>56.0</td>\n",
       "      <td>2015-08-20T00:00:00</td>\n",
       "      <td>2</td>\n",
       "      <td>NaN</td>\n",
       "      <td>5.0</td>\n",
       "      <td>34</td>\n",
       "      <td>4</td>\n",
       "      <td>NaN</td>\n",
       "      <td>...</td>\n",
       "      <td>8</td>\n",
       "      <td>10</td>\n",
       "      <td>Санкт-Петербург</td>\n",
       "      <td>21741.0</td>\n",
       "      <td>13933.0</td>\n",
       "      <td>1.0</td>\n",
       "      <td>90.0</td>\n",
       "      <td>2.0</td>\n",
       "      <td>574.0</td>\n",
       "      <td>558.0</td>\n",
       "    </tr>\n",
       "    <tr>\n",
       "      <td>3</td>\n",
       "      <td>0</td>\n",
       "      <td>64900000</td>\n",
       "      <td>159.0</td>\n",
       "      <td>2015-07-24T00:00:00</td>\n",
       "      <td>3</td>\n",
       "      <td>NaN</td>\n",
       "      <td>14.0</td>\n",
       "      <td>17</td>\n",
       "      <td>9</td>\n",
       "      <td>NaN</td>\n",
       "      <td>...</td>\n",
       "      <td>10</td>\n",
       "      <td>0</td>\n",
       "      <td>Санкт-Петербург</td>\n",
       "      <td>28098.0</td>\n",
       "      <td>6800.0</td>\n",
       "      <td>2.0</td>\n",
       "      <td>84.0</td>\n",
       "      <td>3.0</td>\n",
       "      <td>234.0</td>\n",
       "      <td>424.0</td>\n",
       "    </tr>\n",
       "    <tr>\n",
       "      <td>4</td>\n",
       "      <td>2</td>\n",
       "      <td>10000000</td>\n",
       "      <td>100.0</td>\n",
       "      <td>2018-06-19T00:00:00</td>\n",
       "      <td>2</td>\n",
       "      <td>3.03</td>\n",
       "      <td>14.0</td>\n",
       "      <td>32</td>\n",
       "      <td>13</td>\n",
       "      <td>NaN</td>\n",
       "      <td>...</td>\n",
       "      <td>41</td>\n",
       "      <td>2</td>\n",
       "      <td>Санкт-Петербург</td>\n",
       "      <td>31856.0</td>\n",
       "      <td>8098.0</td>\n",
       "      <td>2.0</td>\n",
       "      <td>112.0</td>\n",
       "      <td>1.0</td>\n",
       "      <td>48.0</td>\n",
       "      <td>121.0</td>\n",
       "    </tr>\n",
       "  </tbody>\n",
       "</table>\n",
       "<p>5 rows × 22 columns</p>\n",
       "</div>"
      ],
      "text/plain": [
       "   total_images  last_price  total_area first_day_exposition  rooms  \\\n",
       "0            20    13000000       108.0  2019-03-07T00:00:00      3   \n",
       "1             7     3350000        40.4  2018-12-04T00:00:00      1   \n",
       "2            10     5196000        56.0  2015-08-20T00:00:00      2   \n",
       "3             0    64900000       159.0  2015-07-24T00:00:00      3   \n",
       "4             2    10000000       100.0  2018-06-19T00:00:00      2   \n",
       "\n",
       "   ceiling_height  floors_total  living_area  floor is_apartment  ...  \\\n",
       "0            2.70          16.0           51      8          NaN  ...   \n",
       "1             NaN          11.0           18      1          NaN  ...   \n",
       "2             NaN           5.0           34      4          NaN  ...   \n",
       "3             NaN          14.0           17      9          NaN  ...   \n",
       "4            3.03          14.0           32     13          NaN  ...   \n",
       "\n",
       "   kitchen_area  balcony    locality_name  airports_nearest  \\\n",
       "0            25       20  Санкт-Петербург           18863.0   \n",
       "1            11        7   посёлок Шушары           12817.0   \n",
       "2             8       10  Санкт-Петербург           21741.0   \n",
       "3            10        0  Санкт-Петербург           28098.0   \n",
       "4            41        2  Санкт-Петербург           31856.0   \n",
       "\n",
       "  cityCenters_nearest  parks_around3000  parks_nearest  ponds_around3000  \\\n",
       "0             16028.0               1.0          482.0               2.0   \n",
       "1             18603.0               0.0            NaN               0.0   \n",
       "2             13933.0               1.0           90.0               2.0   \n",
       "3              6800.0               2.0           84.0               3.0   \n",
       "4              8098.0               2.0          112.0               1.0   \n",
       "\n",
       "   ponds_nearest  days_exposition  \n",
       "0          755.0              NaN  \n",
       "1            NaN             81.0  \n",
       "2          574.0            558.0  \n",
       "3          234.0            424.0  \n",
       "4           48.0            121.0  \n",
       "\n",
       "[5 rows x 22 columns]"
      ]
     },
     "execution_count": 9,
     "metadata": {},
     "output_type": "execute_result"
    }
   ],
   "source": [
    "# Next, replace float with int to make it more convenient\n",
    "\n",
    "# Change the data type here to int to make it more convenient\n",
    "df[[\"living_area\", \"kitchen_area\", \"last_price\"]] = df[[\"living_area\", \"kitchen_area\",\"last_price\"]].astype(\"int\")\n",
    "df.head()"
   ]
  },
  {
   "cell_type": "markdown",
   "metadata": {},
   "source": [
    "# Findings:\n",
    " studied the gaps in the data and replaced the value where they could. Also cast important values ​​to type int."
   ]
  },
  {
   "cell_type": "markdown",
   "metadata": {},
   "source": [
    "## Calculations and adding results to the table"
   ]
  },
  {
   "cell_type": "code",
   "execution_count": 10,
   "metadata": {},
   "outputs": [
    {
     "data": {
      "text/html": [
       "<div>\n",
       "<style scoped>\n",
       "    .dataframe tbody tr th:only-of-type {\n",
       "        vertical-align: middle;\n",
       "    }\n",
       "\n",
       "    .dataframe tbody tr th {\n",
       "        vertical-align: top;\n",
       "    }\n",
       "\n",
       "    .dataframe thead th {\n",
       "        text-align: right;\n",
       "    }\n",
       "</style>\n",
       "<table border=\"1\" class=\"dataframe\">\n",
       "  <thead>\n",
       "    <tr style=\"text-align: right;\">\n",
       "      <th></th>\n",
       "      <th>total_images</th>\n",
       "      <th>last_price</th>\n",
       "      <th>total_area</th>\n",
       "      <th>first_day_exposition</th>\n",
       "      <th>rooms</th>\n",
       "      <th>ceiling_height</th>\n",
       "      <th>floors_total</th>\n",
       "      <th>living_area</th>\n",
       "      <th>floor</th>\n",
       "      <th>is_apartment</th>\n",
       "      <th>...</th>\n",
       "      <th>airports_nearest</th>\n",
       "      <th>cityCenters_nearest</th>\n",
       "      <th>parks_around3000</th>\n",
       "      <th>parks_nearest</th>\n",
       "      <th>ponds_around3000</th>\n",
       "      <th>ponds_nearest</th>\n",
       "      <th>days_exposition</th>\n",
       "      <th>square_metr_price</th>\n",
       "      <th>l/t_area</th>\n",
       "      <th>k/t_area</th>\n",
       "    </tr>\n",
       "  </thead>\n",
       "  <tbody>\n",
       "    <tr>\n",
       "      <td>0</td>\n",
       "      <td>20</td>\n",
       "      <td>13000000</td>\n",
       "      <td>108.0</td>\n",
       "      <td>2019-03-07</td>\n",
       "      <td>3</td>\n",
       "      <td>2.70</td>\n",
       "      <td>16.0</td>\n",
       "      <td>51</td>\n",
       "      <td>8</td>\n",
       "      <td>NaN</td>\n",
       "      <td>...</td>\n",
       "      <td>18863.0</td>\n",
       "      <td>16028.0</td>\n",
       "      <td>1.0</td>\n",
       "      <td>482.0</td>\n",
       "      <td>2.0</td>\n",
       "      <td>755.0</td>\n",
       "      <td>NaN</td>\n",
       "      <td>120370</td>\n",
       "      <td>0.472222</td>\n",
       "      <td>0.231481</td>\n",
       "    </tr>\n",
       "    <tr>\n",
       "      <td>1</td>\n",
       "      <td>7</td>\n",
       "      <td>3350000</td>\n",
       "      <td>40.4</td>\n",
       "      <td>2018-12-04</td>\n",
       "      <td>1</td>\n",
       "      <td>NaN</td>\n",
       "      <td>11.0</td>\n",
       "      <td>18</td>\n",
       "      <td>1</td>\n",
       "      <td>NaN</td>\n",
       "      <td>...</td>\n",
       "      <td>12817.0</td>\n",
       "      <td>18603.0</td>\n",
       "      <td>0.0</td>\n",
       "      <td>NaN</td>\n",
       "      <td>0.0</td>\n",
       "      <td>NaN</td>\n",
       "      <td>81.0</td>\n",
       "      <td>82920</td>\n",
       "      <td>0.445545</td>\n",
       "      <td>0.272277</td>\n",
       "    </tr>\n",
       "    <tr>\n",
       "      <td>2</td>\n",
       "      <td>10</td>\n",
       "      <td>5196000</td>\n",
       "      <td>56.0</td>\n",
       "      <td>2015-08-20</td>\n",
       "      <td>2</td>\n",
       "      <td>NaN</td>\n",
       "      <td>5.0</td>\n",
       "      <td>34</td>\n",
       "      <td>4</td>\n",
       "      <td>NaN</td>\n",
       "      <td>...</td>\n",
       "      <td>21741.0</td>\n",
       "      <td>13933.0</td>\n",
       "      <td>1.0</td>\n",
       "      <td>90.0</td>\n",
       "      <td>2.0</td>\n",
       "      <td>574.0</td>\n",
       "      <td>558.0</td>\n",
       "      <td>92785</td>\n",
       "      <td>0.607143</td>\n",
       "      <td>0.142857</td>\n",
       "    </tr>\n",
       "    <tr>\n",
       "      <td>3</td>\n",
       "      <td>0</td>\n",
       "      <td>64900000</td>\n",
       "      <td>159.0</td>\n",
       "      <td>2015-07-24</td>\n",
       "      <td>3</td>\n",
       "      <td>NaN</td>\n",
       "      <td>14.0</td>\n",
       "      <td>17</td>\n",
       "      <td>9</td>\n",
       "      <td>NaN</td>\n",
       "      <td>...</td>\n",
       "      <td>28098.0</td>\n",
       "      <td>6800.0</td>\n",
       "      <td>2.0</td>\n",
       "      <td>84.0</td>\n",
       "      <td>3.0</td>\n",
       "      <td>234.0</td>\n",
       "      <td>424.0</td>\n",
       "      <td>408176</td>\n",
       "      <td>0.106918</td>\n",
       "      <td>0.062893</td>\n",
       "    </tr>\n",
       "    <tr>\n",
       "      <td>4</td>\n",
       "      <td>2</td>\n",
       "      <td>10000000</td>\n",
       "      <td>100.0</td>\n",
       "      <td>2018-06-19</td>\n",
       "      <td>2</td>\n",
       "      <td>3.03</td>\n",
       "      <td>14.0</td>\n",
       "      <td>32</td>\n",
       "      <td>13</td>\n",
       "      <td>NaN</td>\n",
       "      <td>...</td>\n",
       "      <td>31856.0</td>\n",
       "      <td>8098.0</td>\n",
       "      <td>2.0</td>\n",
       "      <td>112.0</td>\n",
       "      <td>1.0</td>\n",
       "      <td>48.0</td>\n",
       "      <td>121.0</td>\n",
       "      <td>100000</td>\n",
       "      <td>0.320000</td>\n",
       "      <td>0.410000</td>\n",
       "    </tr>\n",
       "  </tbody>\n",
       "</table>\n",
       "<p>5 rows × 25 columns</p>\n",
       "</div>"
      ],
      "text/plain": [
       "   total_images  last_price  total_area first_day_exposition  rooms  \\\n",
       "0            20    13000000       108.0           2019-03-07      3   \n",
       "1             7     3350000        40.4           2018-12-04      1   \n",
       "2            10     5196000        56.0           2015-08-20      2   \n",
       "3             0    64900000       159.0           2015-07-24      3   \n",
       "4             2    10000000       100.0           2018-06-19      2   \n",
       "\n",
       "   ceiling_height  floors_total  living_area  floor is_apartment  ...  \\\n",
       "0            2.70          16.0           51      8          NaN  ...   \n",
       "1             NaN          11.0           18      1          NaN  ...   \n",
       "2             NaN           5.0           34      4          NaN  ...   \n",
       "3             NaN          14.0           17      9          NaN  ...   \n",
       "4            3.03          14.0           32     13          NaN  ...   \n",
       "\n",
       "   airports_nearest  cityCenters_nearest  parks_around3000  parks_nearest  \\\n",
       "0           18863.0              16028.0               1.0          482.0   \n",
       "1           12817.0              18603.0               0.0            NaN   \n",
       "2           21741.0              13933.0               1.0           90.0   \n",
       "3           28098.0               6800.0               2.0           84.0   \n",
       "4           31856.0               8098.0               2.0          112.0   \n",
       "\n",
       "  ponds_around3000  ponds_nearest  days_exposition  square_metr_price  \\\n",
       "0              2.0          755.0              NaN             120370   \n",
       "1              0.0            NaN             81.0              82920   \n",
       "2              2.0          574.0            558.0              92785   \n",
       "3              3.0          234.0            424.0             408176   \n",
       "4              1.0           48.0            121.0             100000   \n",
       "\n",
       "   l/t_area  k/t_area  \n",
       "0  0.472222  0.231481  \n",
       "1  0.445545  0.272277  \n",
       "2  0.607143  0.142857  \n",
       "3  0.106918  0.062893  \n",
       "4  0.320000  0.410000  \n",
       "\n",
       "[5 rows x 25 columns]"
      ]
     },
     "execution_count": 10,
     "metadata": {},
     "output_type": "execute_result"
    }
   ],
   "source": [
    "# calculate the price per square meter for each apartment (to do this, divide the price by living space)\n",
    "df[\"square_metr_price\"] = df[\"last_price\"]/df[\"total_area\"]\n",
    "# cast to int for convenience\n",
    "df[\"square_metr_price\"] = df[\"square_metr_price\"].astype(\"int\")\n",
    "\n",
    "# convert the announcement date to normal\n",
    "df[\"first_day_exposition\"] = pd.to_datetime(df[\"first_day_exposition\"], format='%Y-%m-%dT%H:%M:%S')\n",
    "\n",
    "#correlation of residential and total area\n",
    "df[\"l/t_area\"] = df[\"living_area\"]/df[\"total_area\"]\n",
    "\n",
    "#correlation of kitchen area and total area\n",
    "df[\"k/t_area\"] = df[\"kitchen_area\"]/df[\"total_area\"]\n",
    "df.head()"
   ]
  },
  {
   "cell_type": "markdown",
   "metadata": {},
   "source": [
    "# Let's add a floor category:\n"
   ]
  },
  {
   "cell_type": "code",
   "execution_count": 11,
   "metadata": {},
   "outputs": [
    {
     "data": {
      "text/html": [
       "<div>\n",
       "<style scoped>\n",
       "    .dataframe tbody tr th:only-of-type {\n",
       "        vertical-align: middle;\n",
       "    }\n",
       "\n",
       "    .dataframe tbody tr th {\n",
       "        vertical-align: top;\n",
       "    }\n",
       "\n",
       "    .dataframe thead th {\n",
       "        text-align: right;\n",
       "    }\n",
       "</style>\n",
       "<table border=\"1\" class=\"dataframe\">\n",
       "  <thead>\n",
       "    <tr style=\"text-align: right;\">\n",
       "      <th></th>\n",
       "      <th>total_images</th>\n",
       "      <th>last_price</th>\n",
       "      <th>total_area</th>\n",
       "      <th>first_day_exposition</th>\n",
       "      <th>rooms</th>\n",
       "      <th>ceiling_height</th>\n",
       "      <th>floors_total</th>\n",
       "      <th>living_area</th>\n",
       "      <th>floor</th>\n",
       "      <th>is_apartment</th>\n",
       "      <th>...</th>\n",
       "      <th>cityCenters_nearest</th>\n",
       "      <th>parks_around3000</th>\n",
       "      <th>parks_nearest</th>\n",
       "      <th>ponds_around3000</th>\n",
       "      <th>ponds_nearest</th>\n",
       "      <th>days_exposition</th>\n",
       "      <th>square_metr_price</th>\n",
       "      <th>l/t_area</th>\n",
       "      <th>k/t_area</th>\n",
       "      <th>floors_level</th>\n",
       "    </tr>\n",
       "  </thead>\n",
       "  <tbody>\n",
       "    <tr>\n",
       "      <td>0</td>\n",
       "      <td>20</td>\n",
       "      <td>13000000</td>\n",
       "      <td>108.0</td>\n",
       "      <td>2019-03-07</td>\n",
       "      <td>3</td>\n",
       "      <td>2.70</td>\n",
       "      <td>16.0</td>\n",
       "      <td>51</td>\n",
       "      <td>8</td>\n",
       "      <td>NaN</td>\n",
       "      <td>...</td>\n",
       "      <td>16028.0</td>\n",
       "      <td>1.0</td>\n",
       "      <td>482.0</td>\n",
       "      <td>2.0</td>\n",
       "      <td>755.0</td>\n",
       "      <td>NaN</td>\n",
       "      <td>120370</td>\n",
       "      <td>0.472222</td>\n",
       "      <td>0.231481</td>\n",
       "      <td>последний</td>\n",
       "    </tr>\n",
       "    <tr>\n",
       "      <td>1</td>\n",
       "      <td>7</td>\n",
       "      <td>3350000</td>\n",
       "      <td>40.4</td>\n",
       "      <td>2018-12-04</td>\n",
       "      <td>1</td>\n",
       "      <td>NaN</td>\n",
       "      <td>11.0</td>\n",
       "      <td>18</td>\n",
       "      <td>1</td>\n",
       "      <td>NaN</td>\n",
       "      <td>...</td>\n",
       "      <td>18603.0</td>\n",
       "      <td>0.0</td>\n",
       "      <td>NaN</td>\n",
       "      <td>0.0</td>\n",
       "      <td>NaN</td>\n",
       "      <td>81.0</td>\n",
       "      <td>82920</td>\n",
       "      <td>0.445545</td>\n",
       "      <td>0.272277</td>\n",
       "      <td>первый</td>\n",
       "    </tr>\n",
       "    <tr>\n",
       "      <td>2</td>\n",
       "      <td>10</td>\n",
       "      <td>5196000</td>\n",
       "      <td>56.0</td>\n",
       "      <td>2015-08-20</td>\n",
       "      <td>2</td>\n",
       "      <td>NaN</td>\n",
       "      <td>5.0</td>\n",
       "      <td>34</td>\n",
       "      <td>4</td>\n",
       "      <td>NaN</td>\n",
       "      <td>...</td>\n",
       "      <td>13933.0</td>\n",
       "      <td>1.0</td>\n",
       "      <td>90.0</td>\n",
       "      <td>2.0</td>\n",
       "      <td>574.0</td>\n",
       "      <td>558.0</td>\n",
       "      <td>92785</td>\n",
       "      <td>0.607143</td>\n",
       "      <td>0.142857</td>\n",
       "      <td>другой</td>\n",
       "    </tr>\n",
       "    <tr>\n",
       "      <td>3</td>\n",
       "      <td>0</td>\n",
       "      <td>64900000</td>\n",
       "      <td>159.0</td>\n",
       "      <td>2015-07-24</td>\n",
       "      <td>3</td>\n",
       "      <td>NaN</td>\n",
       "      <td>14.0</td>\n",
       "      <td>17</td>\n",
       "      <td>9</td>\n",
       "      <td>NaN</td>\n",
       "      <td>...</td>\n",
       "      <td>6800.0</td>\n",
       "      <td>2.0</td>\n",
       "      <td>84.0</td>\n",
       "      <td>3.0</td>\n",
       "      <td>234.0</td>\n",
       "      <td>424.0</td>\n",
       "      <td>408176</td>\n",
       "      <td>0.106918</td>\n",
       "      <td>0.062893</td>\n",
       "      <td>другой</td>\n",
       "    </tr>\n",
       "    <tr>\n",
       "      <td>4</td>\n",
       "      <td>2</td>\n",
       "      <td>10000000</td>\n",
       "      <td>100.0</td>\n",
       "      <td>2018-06-19</td>\n",
       "      <td>2</td>\n",
       "      <td>3.03</td>\n",
       "      <td>14.0</td>\n",
       "      <td>32</td>\n",
       "      <td>13</td>\n",
       "      <td>NaN</td>\n",
       "      <td>...</td>\n",
       "      <td>8098.0</td>\n",
       "      <td>2.0</td>\n",
       "      <td>112.0</td>\n",
       "      <td>1.0</td>\n",
       "      <td>48.0</td>\n",
       "      <td>121.0</td>\n",
       "      <td>100000</td>\n",
       "      <td>0.320000</td>\n",
       "      <td>0.410000</td>\n",
       "      <td>другой</td>\n",
       "    </tr>\n",
       "  </tbody>\n",
       "</table>\n",
       "<p>5 rows × 26 columns</p>\n",
       "</div>"
      ],
      "text/plain": [
       "   total_images  last_price  total_area first_day_exposition  rooms  \\\n",
       "0            20    13000000       108.0           2019-03-07      3   \n",
       "1             7     3350000        40.4           2018-12-04      1   \n",
       "2            10     5196000        56.0           2015-08-20      2   \n",
       "3             0    64900000       159.0           2015-07-24      3   \n",
       "4             2    10000000       100.0           2018-06-19      2   \n",
       "\n",
       "   ceiling_height  floors_total  living_area  floor is_apartment  ...  \\\n",
       "0            2.70          16.0           51      8          NaN  ...   \n",
       "1             NaN          11.0           18      1          NaN  ...   \n",
       "2             NaN           5.0           34      4          NaN  ...   \n",
       "3             NaN          14.0           17      9          NaN  ...   \n",
       "4            3.03          14.0           32     13          NaN  ...   \n",
       "\n",
       "   cityCenters_nearest  parks_around3000  parks_nearest  ponds_around3000  \\\n",
       "0              16028.0               1.0          482.0               2.0   \n",
       "1              18603.0               0.0            NaN               0.0   \n",
       "2              13933.0               1.0           90.0               2.0   \n",
       "3               6800.0               2.0           84.0               3.0   \n",
       "4               8098.0               2.0          112.0               1.0   \n",
       "\n",
       "  ponds_nearest  days_exposition  square_metr_price  l/t_area  k/t_area  \\\n",
       "0         755.0              NaN             120370  0.472222  0.231481   \n",
       "1           NaN             81.0              82920  0.445545  0.272277   \n",
       "2         574.0            558.0              92785  0.607143  0.142857   \n",
       "3         234.0            424.0             408176  0.106918  0.062893   \n",
       "4          48.0            121.0             100000  0.320000  0.410000   \n",
       "\n",
       "   floors_level  \n",
       "0     последний  \n",
       "1        первый  \n",
       "2        другой  \n",
       "3        другой  \n",
       "4        другой  \n",
       "\n",
       "[5 rows x 26 columns]"
      ]
     },
     "metadata": {},
     "output_type": "display_data"
    }
   ],
   "source": [
    "def floor_level(floor):\n",
    "    for ad in df[\"floor\"]:\n",
    "        if floor == 1:\n",
    "            return(\"первый\")\n",
    "        if floor == ad and floor!=1:\n",
    "            return(\"последний\")\n",
    "        else:\n",
    "            return(\"другой\")\n",
    "df[\"floors_level\"] = df[\"floor\"].apply(floor_level)\n",
    "display(df.head())"
   ]
  },
  {
   "cell_type": "markdown",
   "metadata": {},
   "source": [
    "## Findings:\n",
    "  made the calculations we needed and added to the table."
   ]
  },
  {
   "cell_type": "markdown",
   "metadata": {},
   "source": [
    "## Exploratory data analysis"
   ]
  },
  {
   "cell_type": "code",
   "execution_count": 12,
   "metadata": {},
   "outputs": [
    {
     "data": {
      "text/plain": [
       "Text(0.5, 1.0, 'price')"
      ]
     },
     "execution_count": 12,
     "metadata": {},
     "output_type": "execute_result"
    },
    {
     "data": {
      "image/png": "[encoded data removed]",
      "text/plain": [
       "<Figure size 432x288 with 1 Axes>"
      ]
     },
     "metadata": {
      "needs_background": "light"
     },
     "output_type": "display_data"
    }
   ],
   "source": [
    "# 1. Let's construct histograms for the given parameters.\n",
    "import matplotlib.pyplot as plt\n",
    "b= plt.hist(df[\"last_price\"],range=(600000,6000000)) # что больше всего квартир с ценой 4 миллиона\n",
    "plt.title(\"price\")\n",
    "\n"
   ]
  },
  {
   "cell_type": "code",
   "execution_count": 13,
   "metadata": {},
   "outputs": [
    {
     "data": {
      "text/plain": [
       "array([[<matplotlib.axes._subplots.AxesSubplot object at 0x7f2bf8bda190>]],\n",
       "      dtype=object)"
      ]
     },
     "metadata": {},
     "output_type": "display_data"
    },
    {
     "data": {
      "image/png": "[encoded data removed]",
      "text/plain": [
       "<Figure size 432x288 with 1 Axes>"
      ]
     },
     "metadata": {
      "needs_background": "light"
     },
     "output_type": "display_data"
    }
   ],
   "source": [
    "a = df.hist(\"total_area\") # we see that most apartments are about 75^2 meters\n",
    "display(a)\n"
   ]
  },
  {
   "cell_type": "code",
   "execution_count": 14,
   "metadata": {},
   "outputs": [
    {
     "data": {
      "text/plain": [
       "array([[<matplotlib.axes._subplots.AxesSubplot object at 0x7f2bf92e1d10>]],\n",
       "      dtype=object)"
      ]
     },
     "metadata": {},
     "output_type": "display_data"
    },
    {
     "data": {
      "image/png": "[encoded data removed]",
      "text/plain": [
       "<Figure size 432x288 with 1 Axes>"
      ]
     },
     "metadata": {
      "needs_background": "light"
     },
     "output_type": "display_data"
    }
   ],
   "source": [
    "c = df.hist(\"rooms\", bins=25) # we see that most of the apartments are one-room \n",
    "display(c)"
   ]
  },
  {
   "cell_type": "code",
   "execution_count": 15,
   "metadata": {},
   "outputs": [
    {
     "data": {
      "text/plain": [
       "array([[<matplotlib.axes._subplots.AxesSubplot object at 0x7f2bf9298a90>]],\n",
       "      dtype=object)"
      ]
     },
     "metadata": {},
     "output_type": "display_data"
    },
    {
     "data": {
      "image/png": "[encoded data removed]",
      "text/plain": [
       "<Figure size 432x288 with 1 Axes>"
      ]
     },
     "metadata": {
      "needs_background": "light"
     },
     "output_type": "display_data"
    }
   ],
   "source": [
    "d=df.hist(\"ceiling_height\", bins=24) #average ceiling height 2-3 meters\n",
    "display(d)"
   ]
  },
  {
   "cell_type": "markdown",
   "metadata": {},
   "source": [
    "#2. We will study the time of sale of the apartment. Let's build a histogram. Calculate the mean and median.\n",
    "#Describe how long a sale usually takes.\n",
    "#When can sales be considered very fast, and when is it unusually long?"
   ]
  },
  {
   "cell_type": "code",
   "execution_count": 16,
   "metadata": {},
   "outputs": [
    {
     "data": {
      "text/plain": [
       "array([[<matplotlib.axes._subplots.AxesSubplot object at 0x7f2bf92bcc90>]],\n",
       "      dtype=object)"
      ]
     },
     "execution_count": 16,
     "metadata": {},
     "output_type": "execute_result"
    },
    {
     "data": {
      "image/png": "[encoded data removed]",
      "text/plain": [
       "<Figure size 432x288 with 1 Axes>"
      ]
     },
     "metadata": {
      "needs_background": "light"
     },
     "output_type": "display_data"
    }
   ],
   "source": [
    "# build a histogram for the time of sale of apartments\n",
    "df.hist(\"days_exposition\") # we see that the average sale of an apartment takes about 100 days,\n",
    "                           #although it happens that the sale lasts more than a year"
   ]
  },
  {
   "cell_type": "markdown",
   "metadata": {},
   "source": [
    "# Findings:\n",
    " half of the apartments are sold within 90 days.\n",
    " apartments that sell faster than 90 days can be called fast sales\n",
    "  apartments that are sold longer than 90 days can be called long sales"
   ]
  },
  {
   "cell_type": "code",
   "execution_count": 17,
   "metadata": {},
   "outputs": [
    {
     "name": "stdout",
     "output_type": "stream",
     "text": [
      "                      mean  median\n",
      "cityCenters_nearest               \n",
      "208.0                167.0   167.0\n",
      "215.0                265.0   265.0\n",
      "287.0                 69.0    69.0\n",
      "318.0                835.0   877.5\n",
      "329.0                 89.0    89.0\n",
      "376.0                 35.0    35.0\n",
      "387.0                 14.0    14.0\n",
      "392.0                451.0   451.0\n",
      "399.0                199.5   199.5\n",
      "410.0                 60.0    60.0\n",
      "\n",
      "                       mean  median\n",
      "cityCenters_nearest                \n",
      "54926.0               201.0   201.0\n",
      "59052.0                24.0    24.0\n",
      "59626.0               232.0   232.0\n",
      "60223.0               147.0   147.0\n",
      "61495.0               240.0   240.0\n",
      "62454.0               205.0   205.0\n",
      "62706.0                13.0    13.0\n",
      "64857.0               121.0   121.0\n",
      "65105.0              1043.0  1043.0\n",
      "65968.0              1194.0  1194.0\n"
     ]
    }
   ],
   "source": [
    "# apply the pivot_table function and calculate the mean and median\n",
    "sell_time = df.pivot_table(index=\"cityCenters_nearest\", values=\"days_exposition\", aggfunc=[\"mean\", \"median\"])\n",
    "sell_time.columns = [\"mean\", \"median\"]\n",
    "print(sell_time.head(10))\n",
    "print()\n",
    "print(sell_time.tail(10))\n",
    "\n",
    "# In principle, we see that the longer the distance from the center, the longer the apartments are bought.\n",
    "# Although, of course, many factors can be taken into account here (for example, number of rooms, living area, etc.)"
   ]
  },
  {
   "cell_type": "code",
   "execution_count": 18,
   "metadata": {},
   "outputs": [
    {
     "name": "stdout",
     "output_type": "stream",
     "text": [
      "180.88863436982163\n"
     ]
    }
   ],
   "source": [
    "print(df[\"days_exposition\"].mean())\n",
    "# We see that the average number of sales times is 180 days"
   ]
  },
  {
   "cell_type": "markdown",
   "metadata": {},
   "source": [
    "# Let's deal with the remaining emissions"
   ]
  },
  {
   "cell_type": "code",
   "execution_count": 19,
   "metadata": {},
   "outputs": [
    {
     "data": {
      "text/html": [
       "<div>\n",
       "<style scoped>\n",
       "    .dataframe tbody tr th:only-of-type {\n",
       "        vertical-align: middle;\n",
       "    }\n",
       "\n",
       "    .dataframe tbody tr th {\n",
       "        vertical-align: top;\n",
       "    }\n",
       "\n",
       "    .dataframe thead th {\n",
       "        text-align: right;\n",
       "    }\n",
       "</style>\n",
       "<table border=\"1\" class=\"dataframe\">\n",
       "  <thead>\n",
       "    <tr style=\"text-align: right;\">\n",
       "      <th></th>\n",
       "      <th>total_images</th>\n",
       "      <th>last_price</th>\n",
       "      <th>total_area</th>\n",
       "      <th>first_day_exposition</th>\n",
       "      <th>rooms</th>\n",
       "      <th>ceiling_height</th>\n",
       "      <th>floors_total</th>\n",
       "      <th>living_area</th>\n",
       "      <th>floor</th>\n",
       "      <th>is_apartment</th>\n",
       "      <th>...</th>\n",
       "      <th>cityCenters_nearest</th>\n",
       "      <th>parks_around3000</th>\n",
       "      <th>parks_nearest</th>\n",
       "      <th>ponds_around3000</th>\n",
       "      <th>ponds_nearest</th>\n",
       "      <th>days_exposition</th>\n",
       "      <th>square_metr_price</th>\n",
       "      <th>l/t_area</th>\n",
       "      <th>k/t_area</th>\n",
       "      <th>floors_level</th>\n",
       "    </tr>\n",
       "  </thead>\n",
       "  <tbody>\n",
       "    <tr>\n",
       "      <td>1</td>\n",
       "      <td>7</td>\n",
       "      <td>3350000</td>\n",
       "      <td>40.4</td>\n",
       "      <td>2018-12-04</td>\n",
       "      <td>1</td>\n",
       "      <td>NaN</td>\n",
       "      <td>11.0</td>\n",
       "      <td>18</td>\n",
       "      <td>1</td>\n",
       "      <td>NaN</td>\n",
       "      <td>...</td>\n",
       "      <td>18603.0</td>\n",
       "      <td>0.0</td>\n",
       "      <td>NaN</td>\n",
       "      <td>0.0</td>\n",
       "      <td>NaN</td>\n",
       "      <td>81.0</td>\n",
       "      <td>82920</td>\n",
       "      <td>0.445545</td>\n",
       "      <td>0.272277</td>\n",
       "      <td>первый</td>\n",
       "    </tr>\n",
       "    <tr>\n",
       "      <td>2</td>\n",
       "      <td>10</td>\n",
       "      <td>5196000</td>\n",
       "      <td>56.0</td>\n",
       "      <td>2015-08-20</td>\n",
       "      <td>2</td>\n",
       "      <td>NaN</td>\n",
       "      <td>5.0</td>\n",
       "      <td>34</td>\n",
       "      <td>4</td>\n",
       "      <td>NaN</td>\n",
       "      <td>...</td>\n",
       "      <td>13933.0</td>\n",
       "      <td>1.0</td>\n",
       "      <td>90.0</td>\n",
       "      <td>2.0</td>\n",
       "      <td>574.0</td>\n",
       "      <td>558.0</td>\n",
       "      <td>92785</td>\n",
       "      <td>0.607143</td>\n",
       "      <td>0.142857</td>\n",
       "      <td>другой</td>\n",
       "    </tr>\n",
       "    <tr>\n",
       "      <td>4</td>\n",
       "      <td>2</td>\n",
       "      <td>10000000</td>\n",
       "      <td>100.0</td>\n",
       "      <td>2018-06-19</td>\n",
       "      <td>2</td>\n",
       "      <td>3.03</td>\n",
       "      <td>14.0</td>\n",
       "      <td>32</td>\n",
       "      <td>13</td>\n",
       "      <td>NaN</td>\n",
       "      <td>...</td>\n",
       "      <td>8098.0</td>\n",
       "      <td>2.0</td>\n",
       "      <td>112.0</td>\n",
       "      <td>1.0</td>\n",
       "      <td>48.0</td>\n",
       "      <td>121.0</td>\n",
       "      <td>100000</td>\n",
       "      <td>0.320000</td>\n",
       "      <td>0.410000</td>\n",
       "      <td>другой</td>\n",
       "    </tr>\n",
       "    <tr>\n",
       "      <td>5</td>\n",
       "      <td>10</td>\n",
       "      <td>2890000</td>\n",
       "      <td>30.4</td>\n",
       "      <td>2018-09-10</td>\n",
       "      <td>1</td>\n",
       "      <td>NaN</td>\n",
       "      <td>12.0</td>\n",
       "      <td>14</td>\n",
       "      <td>5</td>\n",
       "      <td>NaN</td>\n",
       "      <td>...</td>\n",
       "      <td>NaN</td>\n",
       "      <td>NaN</td>\n",
       "      <td>NaN</td>\n",
       "      <td>NaN</td>\n",
       "      <td>NaN</td>\n",
       "      <td>55.0</td>\n",
       "      <td>95065</td>\n",
       "      <td>0.460526</td>\n",
       "      <td>0.296053</td>\n",
       "      <td>другой</td>\n",
       "    </tr>\n",
       "    <tr>\n",
       "      <td>6</td>\n",
       "      <td>6</td>\n",
       "      <td>3700000</td>\n",
       "      <td>37.3</td>\n",
       "      <td>2017-11-02</td>\n",
       "      <td>1</td>\n",
       "      <td>NaN</td>\n",
       "      <td>26.0</td>\n",
       "      <td>10</td>\n",
       "      <td>6</td>\n",
       "      <td>NaN</td>\n",
       "      <td>...</td>\n",
       "      <td>19143.0</td>\n",
       "      <td>0.0</td>\n",
       "      <td>NaN</td>\n",
       "      <td>0.0</td>\n",
       "      <td>NaN</td>\n",
       "      <td>155.0</td>\n",
       "      <td>99195</td>\n",
       "      <td>0.268097</td>\n",
       "      <td>0.375335</td>\n",
       "      <td>другой</td>\n",
       "    </tr>\n",
       "  </tbody>\n",
       "</table>\n",
       "<p>5 rows × 26 columns</p>\n",
       "</div>"
      ],
      "text/plain": [
       "   total_images  last_price  total_area first_day_exposition  rooms  \\\n",
       "1             7     3350000        40.4           2018-12-04      1   \n",
       "2            10     5196000        56.0           2015-08-20      2   \n",
       "4             2    10000000       100.0           2018-06-19      2   \n",
       "5            10     2890000        30.4           2018-09-10      1   \n",
       "6             6     3700000        37.3           2017-11-02      1   \n",
       "\n",
       "   ceiling_height  floors_total  living_area  floor is_apartment  ...  \\\n",
       "1             NaN          11.0           18      1          NaN  ...   \n",
       "2             NaN           5.0           34      4          NaN  ...   \n",
       "4            3.03          14.0           32     13          NaN  ...   \n",
       "5             NaN          12.0           14      5          NaN  ...   \n",
       "6             NaN          26.0           10      6          NaN  ...   \n",
       "\n",
       "   cityCenters_nearest  parks_around3000  parks_nearest  ponds_around3000  \\\n",
       "1              18603.0               0.0            NaN               0.0   \n",
       "2              13933.0               1.0           90.0               2.0   \n",
       "4               8098.0               2.0          112.0               1.0   \n",
       "5                  NaN               NaN            NaN               NaN   \n",
       "6              19143.0               0.0            NaN               0.0   \n",
       "\n",
       "  ponds_nearest  days_exposition  square_metr_price  l/t_area  k/t_area  \\\n",
       "1           NaN             81.0              82920  0.445545  0.272277   \n",
       "2         574.0            558.0              92785  0.607143  0.142857   \n",
       "4          48.0            121.0             100000  0.320000  0.410000   \n",
       "5           NaN             55.0              95065  0.460526  0.296053   \n",
       "6           NaN            155.0              99195  0.268097  0.375335   \n",
       "\n",
       "   floors_level  \n",
       "1        первый  \n",
       "2        другой  \n",
       "4        другой  \n",
       "5        другой  \n",
       "6        другой  \n",
       "\n",
       "[5 rows x 26 columns]"
      ]
     },
     "metadata": {},
     "output_type": "display_data"
    }
   ],
   "source": [
    "#3. Remove rare and outliers\n",
    "\n",
    "# First, remove ads that have been on sale for more than 800 days, because they can distort the results\n",
    "df = df.query('0 < days_exposition <= 800')\n",
    "# we will also remove the prices of apartments that are more than 15 million and less than 100,000 because there are very few of them and they can create emissions\n",
    "df = df.query('100000 < last_price <= 15000000')\n",
    "\n",
    "display(df.head())\n"
   ]
  },
  {
   "cell_type": "code",
   "execution_count": 20,
   "metadata": {},
   "outputs": [
    {
     "data": {
      "image/png": "[encoded data removed]",
      "text/plain": [
       "<Figure size 432x288 with 1 Axes>"
      ]
     },
     "metadata": {
      "needs_background": "light"
     },
     "output_type": "display_data"
    }
   ],
   "source": [
    "# we see that most ceilings are from 2 to 5 meters\n",
    "# remove ceilings that are higher than 6 meters\n",
    "plt.plot(df[\"ceiling_height\"])\n",
    "df = df.query(\" 2 <= ceiling_height <= 6\")"
   ]
  },
  {
   "cell_type": "code",
   "execution_count": 21,
   "metadata": {},
   "outputs": [
    {
     "data": {
      "text/html": [
       "<div>\n",
       "<style scoped>\n",
       "    .dataframe tbody tr th:only-of-type {\n",
       "        vertical-align: middle;\n",
       "    }\n",
       "\n",
       "    .dataframe tbody tr th {\n",
       "        vertical-align: top;\n",
       "    }\n",
       "\n",
       "    .dataframe thead th {\n",
       "        text-align: right;\n",
       "    }\n",
       "</style>\n",
       "<table border=\"1\" class=\"dataframe\">\n",
       "  <thead>\n",
       "    <tr style=\"text-align: right;\">\n",
       "      <th></th>\n",
       "      <th>last_price</th>\n",
       "      <th>ceiling_height</th>\n",
       "    </tr>\n",
       "  </thead>\n",
       "  <tbody>\n",
       "    <tr>\n",
       "      <td>min</td>\n",
       "      <td>450000.0</td>\n",
       "      <td>2.0</td>\n",
       "    </tr>\n",
       "    <tr>\n",
       "      <td>max</td>\n",
       "      <td>15000000.0</td>\n",
       "      <td>5.8</td>\n",
       "    </tr>\n",
       "  </tbody>\n",
       "</table>\n",
       "</div>"
      ],
      "text/plain": [
       "     last_price  ceiling_height\n",
       "min    450000.0             2.0\n",
       "max  15000000.0             5.8"
      ]
     },
     "execution_count": 21,
     "metadata": {},
     "output_type": "execute_result"
    }
   ],
   "source": [
    "df[['last_price',  'ceiling_height' ]].describe().loc[['min', 'max']]"
   ]
  },
  {
   "cell_type": "code",
   "execution_count": 22,
   "metadata": {},
   "outputs": [
    {
     "name": "stdout",
     "output_type": "stream",
     "text": [
      "0.7565931487639727\n"
     ]
    },
    {
     "data": {
      "image/png": "[encoded data removed]",
      "text/plain": [
       "<Figure size 432x288 with 1 Axes>"
      ]
     },
     "metadata": {
      "needs_background": "light"
     },
     "output_type": "display_data"
    }
   ],
   "source": [
    "#4. We will study whether the price depends on the area, number of rooms, distance from the center.\n",
    "\n",
    "# dependence of price on area\n",
    "df.plot(x = \"total_area\",y=\"last_price\", kind='scatter', alpha=0.3) # here we see a very good positive relationship\n",
    "                                                                    # the larger the area, the higher the price\n",
    "# look at the correlation\n",
    "print(df['total_area'].corr(df['last_price'])) # we see that the correlation is quite strong and there is clearly a dependence"
   ]
  },
  {
   "cell_type": "code",
   "execution_count": 23,
   "metadata": {},
   "outputs": [
    {
     "data": {
      "image/png": "[encoded data removed]",
      "text/plain": [
       "<Figure size 432x288 with 1 Axes>"
      ]
     },
     "metadata": {
      "needs_background": "light"
     },
     "output_type": "display_data"
    },
    {
     "name": "stdout",
     "output_type": "stream",
     "text": [
      "0.5041791893079711\n"
     ]
    }
   ],
   "source": [
    "# dependence of the price on the number of rooms\n",
    "import matplotlib.pyplot as plt\n",
    "\n",
    "df.groupby('rooms')['last_price'].median().plot()\n",
    "\n",
    "\n",
    "plt.title('price/room_dep')\n",
    "plt.xlabel('rooms')\n",
    "plt.ylabel('last_price')\n",
    "plt.show()\n",
    "# correlation\n",
    "print(df['rooms'].corr(df['last_price'])) # we see that there is a dependence, but not very strong"
   ]
  },
  {
   "cell_type": "code",
   "execution_count": 24,
   "metadata": {},
   "outputs": [
    {
     "data": {
      "text/html": [
       "<div>\n",
       "<style scoped>\n",
       "    .dataframe tbody tr th:only-of-type {\n",
       "        vertical-align: middle;\n",
       "    }\n",
       "\n",
       "    .dataframe tbody tr th {\n",
       "        vertical-align: top;\n",
       "    }\n",
       "\n",
       "    .dataframe thead th {\n",
       "        text-align: right;\n",
       "    }\n",
       "</style>\n",
       "<table border=\"1\" class=\"dataframe\">\n",
       "  <thead>\n",
       "    <tr style=\"text-align: right;\">\n",
       "      <th></th>\n",
       "      <th>total_images</th>\n",
       "      <th>last_price</th>\n",
       "      <th>total_area</th>\n",
       "      <th>first_day_exposition</th>\n",
       "      <th>rooms</th>\n",
       "      <th>ceiling_height</th>\n",
       "      <th>floors_total</th>\n",
       "      <th>living_area</th>\n",
       "      <th>floor</th>\n",
       "      <th>is_apartment</th>\n",
       "      <th>...</th>\n",
       "      <th>cityCenters_nearest</th>\n",
       "      <th>parks_around3000</th>\n",
       "      <th>parks_nearest</th>\n",
       "      <th>ponds_around3000</th>\n",
       "      <th>ponds_nearest</th>\n",
       "      <th>days_exposition</th>\n",
       "      <th>square_metr_price</th>\n",
       "      <th>l/t_area</th>\n",
       "      <th>k/t_area</th>\n",
       "      <th>floors_level</th>\n",
       "    </tr>\n",
       "  </thead>\n",
       "  <tbody>\n",
       "    <tr>\n",
       "      <td>4</td>\n",
       "      <td>2</td>\n",
       "      <td>10000000</td>\n",
       "      <td>100.0</td>\n",
       "      <td>2018-06-19</td>\n",
       "      <td>2</td>\n",
       "      <td>3.03</td>\n",
       "      <td>14.0</td>\n",
       "      <td>32</td>\n",
       "      <td>13</td>\n",
       "      <td>NaN</td>\n",
       "      <td>...</td>\n",
       "      <td>8098.0</td>\n",
       "      <td>2.0</td>\n",
       "      <td>112.0</td>\n",
       "      <td>1.0</td>\n",
       "      <td>48.0</td>\n",
       "      <td>121.0</td>\n",
       "      <td>100000</td>\n",
       "      <td>0.320000</td>\n",
       "      <td>0.410000</td>\n",
       "      <td>другой</td>\n",
       "    </tr>\n",
       "    <tr>\n",
       "      <td>9</td>\n",
       "      <td>18</td>\n",
       "      <td>5400000</td>\n",
       "      <td>61.0</td>\n",
       "      <td>2017-02-26</td>\n",
       "      <td>3</td>\n",
       "      <td>2.50</td>\n",
       "      <td>9.0</td>\n",
       "      <td>43</td>\n",
       "      <td>7</td>\n",
       "      <td>NaN</td>\n",
       "      <td>...</td>\n",
       "      <td>15008.0</td>\n",
       "      <td>0.0</td>\n",
       "      <td>NaN</td>\n",
       "      <td>0.0</td>\n",
       "      <td>NaN</td>\n",
       "      <td>289.0</td>\n",
       "      <td>88524</td>\n",
       "      <td>0.704918</td>\n",
       "      <td>0.098361</td>\n",
       "      <td>другой</td>\n",
       "    </tr>\n",
       "    <tr>\n",
       "      <td>10</td>\n",
       "      <td>5</td>\n",
       "      <td>5050000</td>\n",
       "      <td>39.6</td>\n",
       "      <td>2017-11-16</td>\n",
       "      <td>1</td>\n",
       "      <td>2.67</td>\n",
       "      <td>12.0</td>\n",
       "      <td>20</td>\n",
       "      <td>3</td>\n",
       "      <td>NaN</td>\n",
       "      <td>...</td>\n",
       "      <td>13878.0</td>\n",
       "      <td>1.0</td>\n",
       "      <td>310.0</td>\n",
       "      <td>2.0</td>\n",
       "      <td>553.0</td>\n",
       "      <td>137.0</td>\n",
       "      <td>127525</td>\n",
       "      <td>0.505051</td>\n",
       "      <td>0.202020</td>\n",
       "      <td>другой</td>\n",
       "    </tr>\n",
       "    <tr>\n",
       "      <td>13</td>\n",
       "      <td>20</td>\n",
       "      <td>3550000</td>\n",
       "      <td>42.8</td>\n",
       "      <td>2017-07-01</td>\n",
       "      <td>2</td>\n",
       "      <td>2.56</td>\n",
       "      <td>5.0</td>\n",
       "      <td>27</td>\n",
       "      <td>5</td>\n",
       "      <td>NaN</td>\n",
       "      <td>...</td>\n",
       "      <td>33058.0</td>\n",
       "      <td>1.0</td>\n",
       "      <td>294.0</td>\n",
       "      <td>3.0</td>\n",
       "      <td>298.0</td>\n",
       "      <td>366.0</td>\n",
       "      <td>82943</td>\n",
       "      <td>0.630841</td>\n",
       "      <td>0.116822</td>\n",
       "      <td>другой</td>\n",
       "    </tr>\n",
       "    <tr>\n",
       "      <td>16</td>\n",
       "      <td>11</td>\n",
       "      <td>6700000</td>\n",
       "      <td>82.0</td>\n",
       "      <td>2017-11-23</td>\n",
       "      <td>3</td>\n",
       "      <td>3.05</td>\n",
       "      <td>5.0</td>\n",
       "      <td>55</td>\n",
       "      <td>1</td>\n",
       "      <td>NaN</td>\n",
       "      <td>...</td>\n",
       "      <td>10698.0</td>\n",
       "      <td>3.0</td>\n",
       "      <td>420.0</td>\n",
       "      <td>0.0</td>\n",
       "      <td>NaN</td>\n",
       "      <td>397.0</td>\n",
       "      <td>81707</td>\n",
       "      <td>0.670732</td>\n",
       "      <td>0.109756</td>\n",
       "      <td>первый</td>\n",
       "    </tr>\n",
       "  </tbody>\n",
       "</table>\n",
       "<p>5 rows × 26 columns</p>\n",
       "</div>"
      ],
      "text/plain": [
       "    total_images  last_price  total_area first_day_exposition  rooms  \\\n",
       "4              2    10000000       100.0           2018-06-19      2   \n",
       "9             18     5400000        61.0           2017-02-26      3   \n",
       "10             5     5050000        39.6           2017-11-16      1   \n",
       "13            20     3550000        42.8           2017-07-01      2   \n",
       "16            11     6700000        82.0           2017-11-23      3   \n",
       "\n",
       "    ceiling_height  floors_total  living_area  floor is_apartment  ...  \\\n",
       "4             3.03          14.0           32     13          NaN  ...   \n",
       "9             2.50           9.0           43      7          NaN  ...   \n",
       "10            2.67          12.0           20      3          NaN  ...   \n",
       "13            2.56           5.0           27      5          NaN  ...   \n",
       "16            3.05           5.0           55      1          NaN  ...   \n",
       "\n",
       "    cityCenters_nearest  parks_around3000  parks_nearest  ponds_around3000  \\\n",
       "4                8098.0               2.0          112.0               1.0   \n",
       "9               15008.0               0.0            NaN               0.0   \n",
       "10              13878.0               1.0          310.0               2.0   \n",
       "13              33058.0               1.0          294.0               3.0   \n",
       "16              10698.0               3.0          420.0               0.0   \n",
       "\n",
       "   ponds_nearest  days_exposition  square_metr_price  l/t_area  k/t_area  \\\n",
       "4           48.0            121.0             100000  0.320000  0.410000   \n",
       "9            NaN            289.0              88524  0.704918  0.098361   \n",
       "10         553.0            137.0             127525  0.505051  0.202020   \n",
       "13         298.0            366.0              82943  0.630841  0.116822   \n",
       "16           NaN            397.0              81707  0.670732  0.109756   \n",
       "\n",
       "    floors_level  \n",
       "4         другой  \n",
       "9         другой  \n",
       "10        другой  \n",
       "13        другой  \n",
       "16        первый  \n",
       "\n",
       "[5 rows x 26 columns]"
      ]
     },
     "metadata": {},
     "output_type": "display_data"
    }
   ],
   "source": [
    "display(df.head())"
   ]
  },
  {
   "cell_type": "code",
   "execution_count": 25,
   "metadata": {},
   "outputs": [
    {
     "data": {
      "image/png": "[encoded data removed]",
      "text/plain": [
       "<Figure size 432x288 with 1 Axes>"
      ]
     },
     "metadata": {
      "needs_background": "light"
     },
     "output_type": "display_data"
    },
    {
     "name": "stdout",
     "output_type": "stream",
     "text": [
      "-0.04060455978034457\n"
     ]
    }
   ],
   "source": [
    "# build a graph for the time of year\n",
    "df[\"year_day\"] = df[\"first_day_exposition\"].dt.year\n",
    "\n",
    "df.groupby('year_day')['last_price'].median().plot()\n",
    "\n",
    "\n",
    "plt.title('price/year_dep')\n",
    "plt.xlabel('year')\n",
    "plt.ylabel('last_price')\n",
    "plt.show()\n",
    "# look at the correlation\n",
    "print(df['year_day'].corr(df['last_price']))"
   ]
  },
  {
   "cell_type": "markdown",
   "metadata": {},
   "source": [
    "We see that from 14 to 18, the price of real estate fell sharply. from 18 to 19 started growing again"
   ]
  },
  {
   "cell_type": "code",
   "execution_count": 26,
   "metadata": {},
   "outputs": [
    {
     "data": {
      "image/png": "[encoded data removed]",
      "text/plain": [
       "<Figure size 432x288 with 1 Axes>"
      ]
     },
     "metadata": {
      "needs_background": "light"
     },
     "output_type": "display_data"
    },
    {
     "name": "stdout",
     "output_type": "stream",
     "text": [
      "0.005932171708394852\n"
     ]
    }
   ],
   "source": [
    "df[\"month_day\"] = df[\"first_day_exposition\"].dt.month\n",
    "\n",
    "df.groupby('month_day')['last_price'].median().plot()\n",
    "\n",
    "\n",
    "plt.title('price/month_dep')\n",
    "plt.xlabel('week')\n",
    "plt.ylabel('last_price')\n",
    "plt.show()\n",
    "#look at the correlation\n",
    "print(df['month_day'].corr(df['last_price']))"
   ]
  },
  {
   "cell_type": "markdown",
   "metadata": {},
   "source": [
    "we see that apartments are the most expensive at the end of the year"
   ]
  },
  {
   "cell_type": "code",
   "execution_count": 27,
   "metadata": {},
   "outputs": [
    {
     "data": {
      "image/png": "[encoded data removed]",
      "text/plain": [
       "<Figure size 432x288 with 1 Axes>"
      ]
     },
     "metadata": {
      "needs_background": "light"
     },
     "output_type": "display_data"
    }
   ],
   "source": [
    "df[\"weekday\"] = df[\"first_day_exposition\"].dt.weekday\n",
    "\n",
    "df.groupby('weekday')['last_price'].median().plot()\n",
    "\n",
    "\n",
    "plt.title('price/day_ep')\n",
    "plt.xlabel('week')\n",
    "plt.ylabel('last_price')\n",
    "plt.show()\n"
   ]
  },
  {
   "cell_type": "markdown",
   "metadata": {},
   "source": [
    "We see that the apartments listed on Thursday are the most expensive and the cheapest on Sunday."
   ]
  },
  {
   "cell_type": "code",
   "execution_count": 28,
   "metadata": {},
   "outputs": [
    {
     "data": {
      "image/png": "[encoded data removed]",
      "text/plain": [
       "<Figure size 432x288 with 1 Axes>"
      ]
     },
     "metadata": {
      "needs_background": "light"
     },
     "output_type": "display_data"
    }
   ],
   "source": [
    "#dependence of the price on which floor the apartment is located\n",
    "df.groupby('floors_level')['last_price'].median().plot()\n",
    "\n",
    "\n",
    "plt.title('price/room_dep')\n",
    "plt.xlabel('floor')\n",
    "plt.ylabel('last_price')\n",
    "plt.show()\n"
   ]
  },
  {
   "cell_type": "markdown",
   "metadata": {},
   "source": [
    "# Findings:\n",
    " It can be seen that apartments located on the top floor are more expensive than those on the first floor.\n",
    " people are willing to pay for a good view):"
   ]
  },
  {
   "cell_type": "code",
   "execution_count": 29,
   "metadata": {},
   "outputs": [
    {
     "data": {
      "text/html": [
       "<div>\n",
       "<style scoped>\n",
       "    .dataframe tbody tr th:only-of-type {\n",
       "        vertical-align: middle;\n",
       "    }\n",
       "\n",
       "    .dataframe tbody tr th {\n",
       "        vertical-align: top;\n",
       "    }\n",
       "\n",
       "    .dataframe thead th {\n",
       "        text-align: right;\n",
       "    }\n",
       "</style>\n",
       "<table border=\"1\" class=\"dataframe\">\n",
       "  <thead>\n",
       "    <tr style=\"text-align: right;\">\n",
       "      <th></th>\n",
       "      <th>mean</th>\n",
       "      <th>count</th>\n",
       "    </tr>\n",
       "    <tr>\n",
       "      <th>locality_name</th>\n",
       "      <th></th>\n",
       "      <th></th>\n",
       "    </tr>\n",
       "  </thead>\n",
       "  <tbody>\n",
       "    <tr>\n",
       "      <td>Санкт-Петербург</td>\n",
       "      <td>106385.401652</td>\n",
       "      <td>7626</td>\n",
       "    </tr>\n",
       "    <tr>\n",
       "      <td>Всеволожск</td>\n",
       "      <td>66550.188940</td>\n",
       "      <td>217</td>\n",
       "    </tr>\n",
       "    <tr>\n",
       "      <td>посёлок Мурино</td>\n",
       "      <td>87540.226316</td>\n",
       "      <td>190</td>\n",
       "    </tr>\n",
       "    <tr>\n",
       "      <td>посёлок Шушары</td>\n",
       "      <td>78566.882979</td>\n",
       "      <td>188</td>\n",
       "    </tr>\n",
       "    <tr>\n",
       "      <td>Колпино</td>\n",
       "      <td>75007.806818</td>\n",
       "      <td>176</td>\n",
       "    </tr>\n",
       "    <tr>\n",
       "      <td>Пушкин</td>\n",
       "      <td>99093.052023</td>\n",
       "      <td>173</td>\n",
       "    </tr>\n",
       "    <tr>\n",
       "      <td>Петергоф</td>\n",
       "      <td>82911.700000</td>\n",
       "      <td>120</td>\n",
       "    </tr>\n",
       "    <tr>\n",
       "      <td>Гатчина</td>\n",
       "      <td>69695.966387</td>\n",
       "      <td>119</td>\n",
       "    </tr>\n",
       "    <tr>\n",
       "      <td>деревня Кудрово</td>\n",
       "      <td>90781.367521</td>\n",
       "      <td>117</td>\n",
       "    </tr>\n",
       "    <tr>\n",
       "      <td>посёлок Парголово</td>\n",
       "      <td>89559.504274</td>\n",
       "      <td>117</td>\n",
       "    </tr>\n",
       "  </tbody>\n",
       "</table>\n",
       "</div>"
      ],
      "text/plain": [
       "                            mean  count\n",
       "locality_name                          \n",
       "Санкт-Петербург    106385.401652   7626\n",
       "Всеволожск          66550.188940    217\n",
       "посёлок Мурино      87540.226316    190\n",
       "посёлок Шушары      78566.882979    188\n",
       "Колпино             75007.806818    176\n",
       "Пушкин              99093.052023    173\n",
       "Петергоф            82911.700000    120\n",
       "Гатчина             69695.966387    119\n",
       "деревня Кудрово     90781.367521    117\n",
       "посёлок Парголово   89559.504274    117"
      ]
     },
     "execution_count": 29,
     "metadata": {},
     "output_type": "execute_result"
    }
   ],
   "source": [
    "# 5.\n",
    "#Let's highlight the settlements with the highest and lowest cost of housing.\n",
    "top_t = df.groupby(\"locality_name\")[\"square_metr_price\"].agg([\"mean\", \"count\"]).sort_values(by=\"count\",ascending=False).head(10)\n",
    "top_t"
   ]
  },
  {
   "cell_type": "code",
   "execution_count": 30,
   "metadata": {},
   "outputs": [
    {
     "name": "stdout",
     "output_type": "stream",
     "text": [
      "84609.20969095771\n",
      "106385.40165224233\n",
      "66550.18894009216\n"
     ]
    }
   ],
   "source": [
    "# calculate the average price per square meter\n",
    "print(top_t[\"mean\"].mean())\n",
    "print(top_t[\"mean\"].max())\n",
    "print(top_t[\"mean\"].min())"
   ]
  },
  {
   "cell_type": "markdown",
   "metadata": {},
   "source": [
    "# Findings:\n",
    "  80% of advertisements for the sale of apartments from St. Petersburg\n",
    "  the average selling price of an apartment is 100,000\n",
    "  lowest-66000"
   ]
  },
  {
   "cell_type": "code",
   "execution_count": 31,
   "metadata": {},
   "outputs": [
    {
     "name": "stderr",
     "output_type": "stream",
     "text": [
      "/opt/conda/lib/python3.7/site-packages/ipykernel_launcher.py:9: SettingWithCopyWarning: \n",
      "A value is trying to be set on a copy of a slice from a DataFrame.\n",
      "Try using .loc[row_indexer,col_indexer] = value instead\n",
      "\n",
      "See the caveats in the documentation: http://pandas.pydata.org/pandas-docs/stable/user_guide/indexing.html#returning-a-view-versus-a-copy\n",
      "  if __name__ == '__main__':\n",
      "/opt/conda/lib/python3.7/site-packages/ipykernel_launcher.py:10: SettingWithCopyWarning: \n",
      "A value is trying to be set on a copy of a slice from a DataFrame.\n",
      "Try using .loc[row_indexer,col_indexer] = value instead\n",
      "\n",
      "See the caveats in the documentation: http://pandas.pydata.org/pandas-docs/stable/user_guide/indexing.html#returning-a-view-versus-a-copy\n",
      "  # Remove the CWD from sys.path while we load stuff.\n",
      "/opt/conda/lib/python3.7/site-packages/ipykernel_launcher.py:11: SettingWithCopyWarning: \n",
      "A value is trying to be set on a copy of a slice from a DataFrame.\n",
      "Try using .loc[row_indexer,col_indexer] = value instead\n",
      "\n",
      "See the caveats in the documentation: http://pandas.pydata.org/pandas-docs/stable/user_guide/indexing.html#returning-a-view-versus-a-copy\n",
      "  # This is added back by InteractiveShellApp.init_path()\n",
      "/opt/conda/lib/python3.7/site-packages/ipykernel_launcher.py:12: SettingWithCopyWarning: \n",
      "A value is trying to be set on a copy of a slice from a DataFrame.\n",
      "Try using .loc[row_indexer,col_indexer] = value instead\n",
      "\n",
      "See the caveats in the documentation: http://pandas.pydata.org/pandas-docs/stable/user_guide/indexing.html#returning-a-view-versus-a-copy\n",
      "  if sys.path[0] == '':\n"
     ]
    },
    {
     "data": {
      "text/html": [
       "<div>\n",
       "<style scoped>\n",
       "    .dataframe tbody tr th:only-of-type {\n",
       "        vertical-align: middle;\n",
       "    }\n",
       "\n",
       "    .dataframe tbody tr th {\n",
       "        vertical-align: top;\n",
       "    }\n",
       "\n",
       "    .dataframe thead th {\n",
       "        text-align: right;\n",
       "    }\n",
       "</style>\n",
       "<table border=\"1\" class=\"dataframe\">\n",
       "  <thead>\n",
       "    <tr style=\"text-align: right;\">\n",
       "      <th></th>\n",
       "      <th>total_images</th>\n",
       "      <th>last_price</th>\n",
       "      <th>total_area</th>\n",
       "      <th>first_day_exposition</th>\n",
       "      <th>rooms</th>\n",
       "      <th>ceiling_height</th>\n",
       "      <th>floors_total</th>\n",
       "      <th>living_area</th>\n",
       "      <th>floor</th>\n",
       "      <th>is_apartment</th>\n",
       "      <th>...</th>\n",
       "      <th>ponds_nearest</th>\n",
       "      <th>days_exposition</th>\n",
       "      <th>square_metr_price</th>\n",
       "      <th>l/t_area</th>\n",
       "      <th>k/t_area</th>\n",
       "      <th>floors_level</th>\n",
       "      <th>year_day</th>\n",
       "      <th>month_day</th>\n",
       "      <th>weekday</th>\n",
       "      <th>km_centre</th>\n",
       "    </tr>\n",
       "  </thead>\n",
       "  <tbody>\n",
       "    <tr>\n",
       "      <td>4</td>\n",
       "      <td>2</td>\n",
       "      <td>10000000</td>\n",
       "      <td>100.0</td>\n",
       "      <td>2018-06-19</td>\n",
       "      <td>2</td>\n",
       "      <td>3.03</td>\n",
       "      <td>14.0</td>\n",
       "      <td>32</td>\n",
       "      <td>13</td>\n",
       "      <td>NaN</td>\n",
       "      <td>...</td>\n",
       "      <td>48.0</td>\n",
       "      <td>121.0</td>\n",
       "      <td>100000</td>\n",
       "      <td>0.320000</td>\n",
       "      <td>0.410000</td>\n",
       "      <td>другой</td>\n",
       "      <td>2018</td>\n",
       "      <td>6</td>\n",
       "      <td>1</td>\n",
       "      <td>8</td>\n",
       "    </tr>\n",
       "    <tr>\n",
       "      <td>9</td>\n",
       "      <td>18</td>\n",
       "      <td>5400000</td>\n",
       "      <td>61.0</td>\n",
       "      <td>2017-02-26</td>\n",
       "      <td>3</td>\n",
       "      <td>2.50</td>\n",
       "      <td>9.0</td>\n",
       "      <td>43</td>\n",
       "      <td>7</td>\n",
       "      <td>NaN</td>\n",
       "      <td>...</td>\n",
       "      <td>NaN</td>\n",
       "      <td>289.0</td>\n",
       "      <td>88524</td>\n",
       "      <td>0.704918</td>\n",
       "      <td>0.098361</td>\n",
       "      <td>другой</td>\n",
       "      <td>2017</td>\n",
       "      <td>2</td>\n",
       "      <td>6</td>\n",
       "      <td>15</td>\n",
       "    </tr>\n",
       "    <tr>\n",
       "      <td>10</td>\n",
       "      <td>5</td>\n",
       "      <td>5050000</td>\n",
       "      <td>39.6</td>\n",
       "      <td>2017-11-16</td>\n",
       "      <td>1</td>\n",
       "      <td>2.67</td>\n",
       "      <td>12.0</td>\n",
       "      <td>20</td>\n",
       "      <td>3</td>\n",
       "      <td>NaN</td>\n",
       "      <td>...</td>\n",
       "      <td>553.0</td>\n",
       "      <td>137.0</td>\n",
       "      <td>127525</td>\n",
       "      <td>0.505051</td>\n",
       "      <td>0.202020</td>\n",
       "      <td>другой</td>\n",
       "      <td>2017</td>\n",
       "      <td>11</td>\n",
       "      <td>3</td>\n",
       "      <td>13</td>\n",
       "    </tr>\n",
       "    <tr>\n",
       "      <td>16</td>\n",
       "      <td>11</td>\n",
       "      <td>6700000</td>\n",
       "      <td>82.0</td>\n",
       "      <td>2017-11-23</td>\n",
       "      <td>3</td>\n",
       "      <td>3.05</td>\n",
       "      <td>5.0</td>\n",
       "      <td>55</td>\n",
       "      <td>1</td>\n",
       "      <td>NaN</td>\n",
       "      <td>...</td>\n",
       "      <td>NaN</td>\n",
       "      <td>397.0</td>\n",
       "      <td>81707</td>\n",
       "      <td>0.670732</td>\n",
       "      <td>0.109756</td>\n",
       "      <td>первый</td>\n",
       "      <td>2017</td>\n",
       "      <td>11</td>\n",
       "      <td>3</td>\n",
       "      <td>10</td>\n",
       "    </tr>\n",
       "    <tr>\n",
       "      <td>18</td>\n",
       "      <td>8</td>\n",
       "      <td>3250000</td>\n",
       "      <td>31.0</td>\n",
       "      <td>2017-01-27</td>\n",
       "      <td>1</td>\n",
       "      <td>2.50</td>\n",
       "      <td>5.0</td>\n",
       "      <td>19</td>\n",
       "      <td>2</td>\n",
       "      <td>NaN</td>\n",
       "      <td>...</td>\n",
       "      <td>NaN</td>\n",
       "      <td>168.0</td>\n",
       "      <td>104838</td>\n",
       "      <td>0.612903</td>\n",
       "      <td>0.161290</td>\n",
       "      <td>другой</td>\n",
       "      <td>2017</td>\n",
       "      <td>1</td>\n",
       "      <td>4</td>\n",
       "      <td>10</td>\n",
       "    </tr>\n",
       "    <tr>\n",
       "      <td>19</td>\n",
       "      <td>16</td>\n",
       "      <td>14200000</td>\n",
       "      <td>121.0</td>\n",
       "      <td>2019-01-09</td>\n",
       "      <td>3</td>\n",
       "      <td>2.75</td>\n",
       "      <td>16.0</td>\n",
       "      <td>76</td>\n",
       "      <td>8</td>\n",
       "      <td>NaN</td>\n",
       "      <td>...</td>\n",
       "      <td>NaN</td>\n",
       "      <td>97.0</td>\n",
       "      <td>117355</td>\n",
       "      <td>0.628099</td>\n",
       "      <td>0.099174</td>\n",
       "      <td>последний</td>\n",
       "      <td>2019</td>\n",
       "      <td>1</td>\n",
       "      <td>2</td>\n",
       "      <td>12</td>\n",
       "    </tr>\n",
       "    <tr>\n",
       "      <td>23</td>\n",
       "      <td>11</td>\n",
       "      <td>2950000</td>\n",
       "      <td>32.0</td>\n",
       "      <td>2016-10-29</td>\n",
       "      <td>1</td>\n",
       "      <td>2.60</td>\n",
       "      <td>9.0</td>\n",
       "      <td>17</td>\n",
       "      <td>9</td>\n",
       "      <td>NaN</td>\n",
       "      <td>...</td>\n",
       "      <td>190.0</td>\n",
       "      <td>615.0</td>\n",
       "      <td>92187</td>\n",
       "      <td>0.531250</td>\n",
       "      <td>0.187500</td>\n",
       "      <td>другой</td>\n",
       "      <td>2016</td>\n",
       "      <td>10</td>\n",
       "      <td>5</td>\n",
       "      <td>14</td>\n",
       "    </tr>\n",
       "    <tr>\n",
       "      <td>25</td>\n",
       "      <td>3</td>\n",
       "      <td>6800000</td>\n",
       "      <td>76.0</td>\n",
       "      <td>2015-10-01</td>\n",
       "      <td>2</td>\n",
       "      <td>2.75</td>\n",
       "      <td>23.0</td>\n",
       "      <td>39</td>\n",
       "      <td>18</td>\n",
       "      <td>False</td>\n",
       "      <td>...</td>\n",
       "      <td>564.0</td>\n",
       "      <td>300.0</td>\n",
       "      <td>89473</td>\n",
       "      <td>0.513158</td>\n",
       "      <td>0.197368</td>\n",
       "      <td>другой</td>\n",
       "      <td>2015</td>\n",
       "      <td>10</td>\n",
       "      <td>3</td>\n",
       "      <td>14</td>\n",
       "    </tr>\n",
       "    <tr>\n",
       "      <td>27</td>\n",
       "      <td>20</td>\n",
       "      <td>7100000</td>\n",
       "      <td>70.0</td>\n",
       "      <td>2017-05-12</td>\n",
       "      <td>3</td>\n",
       "      <td>2.60</td>\n",
       "      <td>17.0</td>\n",
       "      <td>49</td>\n",
       "      <td>11</td>\n",
       "      <td>NaN</td>\n",
       "      <td>...</td>\n",
       "      <td>779.0</td>\n",
       "      <td>151.0</td>\n",
       "      <td>101428</td>\n",
       "      <td>0.700000</td>\n",
       "      <td>0.128571</td>\n",
       "      <td>другой</td>\n",
       "      <td>2017</td>\n",
       "      <td>5</td>\n",
       "      <td>4</td>\n",
       "      <td>11</td>\n",
       "    </tr>\n",
       "    <tr>\n",
       "      <td>31</td>\n",
       "      <td>8</td>\n",
       "      <td>7200000</td>\n",
       "      <td>67.9</td>\n",
       "      <td>2017-10-26</td>\n",
       "      <td>2</td>\n",
       "      <td>2.80</td>\n",
       "      <td>16.0</td>\n",
       "      <td>38</td>\n",
       "      <td>4</td>\n",
       "      <td>NaN</td>\n",
       "      <td>...</td>\n",
       "      <td>NaN</td>\n",
       "      <td>112.0</td>\n",
       "      <td>106038</td>\n",
       "      <td>0.559647</td>\n",
       "      <td>0.191458</td>\n",
       "      <td>другой</td>\n",
       "      <td>2017</td>\n",
       "      <td>10</td>\n",
       "      <td>3</td>\n",
       "      <td>12</td>\n",
       "    </tr>\n",
       "  </tbody>\n",
       "</table>\n",
       "<p>10 rows × 30 columns</p>\n",
       "</div>"
      ],
      "text/plain": [
       "    total_images  last_price  total_area first_day_exposition  rooms  \\\n",
       "4              2    10000000       100.0           2018-06-19      2   \n",
       "9             18     5400000        61.0           2017-02-26      3   \n",
       "10             5     5050000        39.6           2017-11-16      1   \n",
       "16            11     6700000        82.0           2017-11-23      3   \n",
       "18             8     3250000        31.0           2017-01-27      1   \n",
       "19            16    14200000       121.0           2019-01-09      3   \n",
       "23            11     2950000        32.0           2016-10-29      1   \n",
       "25             3     6800000        76.0           2015-10-01      2   \n",
       "27            20     7100000        70.0           2017-05-12      3   \n",
       "31             8     7200000        67.9           2017-10-26      2   \n",
       "\n",
       "    ceiling_height  floors_total  living_area  floor is_apartment  ...  \\\n",
       "4             3.03          14.0           32     13          NaN  ...   \n",
       "9             2.50           9.0           43      7          NaN  ...   \n",
       "10            2.67          12.0           20      3          NaN  ...   \n",
       "16            3.05           5.0           55      1          NaN  ...   \n",
       "18            2.50           5.0           19      2          NaN  ...   \n",
       "19            2.75          16.0           76      8          NaN  ...   \n",
       "23            2.60           9.0           17      9          NaN  ...   \n",
       "25            2.75          23.0           39     18        False  ...   \n",
       "27            2.60          17.0           49     11          NaN  ...   \n",
       "31            2.80          16.0           38      4          NaN  ...   \n",
       "\n",
       "    ponds_nearest  days_exposition  square_metr_price  l/t_area  k/t_area  \\\n",
       "4            48.0            121.0             100000  0.320000  0.410000   \n",
       "9             NaN            289.0              88524  0.704918  0.098361   \n",
       "10          553.0            137.0             127525  0.505051  0.202020   \n",
       "16            NaN            397.0              81707  0.670732  0.109756   \n",
       "18            NaN            168.0             104838  0.612903  0.161290   \n",
       "19            NaN             97.0             117355  0.628099  0.099174   \n",
       "23          190.0            615.0              92187  0.531250  0.187500   \n",
       "25          564.0            300.0              89473  0.513158  0.197368   \n",
       "27          779.0            151.0             101428  0.700000  0.128571   \n",
       "31            NaN            112.0             106038  0.559647  0.191458   \n",
       "\n",
       "    floors_level  year_day  month_day  weekday  km_centre  \n",
       "4         другой      2018          6        1          8  \n",
       "9         другой      2017          2        6         15  \n",
       "10        другой      2017         11        3         13  \n",
       "16        первый      2017         11        3         10  \n",
       "18        другой      2017          1        4         10  \n",
       "19     последний      2019          1        2         12  \n",
       "23        другой      2016         10        5         14  \n",
       "25        другой      2015         10        3         14  \n",
       "27        другой      2017          5        4         11  \n",
       "31        другой      2017         10        3         12  \n",
       "\n",
       "[10 rows x 30 columns]"
      ]
     },
     "metadata": {},
     "output_type": "display_data"
    }
   ],
   "source": [
    "# 6. Create a column with the distance to the center in kilometers: round to integer values\n",
    "# select apartments in St. Petersburg\n",
    "\n",
    "import warnings\n",
    "\n",
    "\n",
    "df =  df[df[\"locality_name\"] == \"Санкт-Петербург\"]\n",
    "# create a column in km\n",
    "df[\"km_centre\"] = df[\"cityCenters_nearest\"]/1000\n",
    "df[\"km_centre\"] = pd.to_numeric(df[\"km_centre\"])\n",
    "df[\"km_centre\"] = df[\"km_centre\"].fillna(0)\n",
    "df[\"km_centre\"] = df[\"km_centre\"].astype(\"int\")\n",
    "display(df.head(10))\n",
    "\n",
    "warnings.filterwarnings('ignore')"
   ]
  },
  {
   "cell_type": "code",
   "execution_count": 32,
   "metadata": {},
   "outputs": [
    {
     "data": {
      "text/plain": [
       "<matplotlib.axes._subplots.AxesSubplot at 0x7f2bf8ae4bd0>"
      ]
     },
     "execution_count": 32,
     "metadata": {},
     "output_type": "execute_result"
    },
    {
     "data": {
      "image/png": "[encoded data removed]",
      "text/plain": [
       "<Figure size 432x288 with 1 Axes>"
      ]
     },
     "metadata": {
      "needs_background": "light"
     },
     "output_type": "display_data"
    }
   ],
   "source": [
    "# calculate the average price for each kilometer\n",
    "d = df.pivot_table(index=\"km_centre\", values = \"last_price\", aggfunc = \"mean\")\n",
    "# let's look at it\n",
    "d.plot()\n",
    "# Here we have a clear dependence up to a certain period: the farther the apartment is from the center, the cheaper it is."
   ]
  },
  {
   "cell_type": "code",
   "execution_count": 33,
   "metadata": {},
   "outputs": [],
   "source": [
    "# 7. Highlight the factors that affect the cost of an apartment\n",
    "# select apartments that are in the center\n",
    "df = df[df[\"km_centre\"] <= 3]\n"
   ]
  },
  {
   "cell_type": "code",
   "execution_count": 34,
   "metadata": {},
   "outputs": [
    {
     "name": "stdout",
     "output_type": "stream",
     "text": [
      "0.48287003882895246\n"
     ]
    },
    {
     "data": {
      "image/png": "[encoded data removed]",
      "text/plain": [
       "<Figure size 432x288 with 1 Axes>"
      ]
     },
     "metadata": {
      "needs_background": "light"
     },
     "output_type": "display_data"
    }
   ],
   "source": [
    "# highlight the factors that affect the cost of the apartment\n",
    "df.groupby(\"rooms\")[\"last_price\"].median().plot()\n",
    "print(df['rooms'].corr(df['last_price']))# we see that the correlation does not differ much from the correlation in the city"
   ]
  },
  {
   "cell_type": "code",
   "execution_count": 35,
   "metadata": {},
   "outputs": [
    {
     "name": "stdout",
     "output_type": "stream",
     "text": [
      "0.6867126906442284\n"
     ]
    },
    {
     "data": {
      "image/png": "[encoded data removed]",
      "text/plain": [
       "<Figure size 432x288 with 1 Axes>"
      ]
     },
     "metadata": {
      "needs_background": "light"
     },
     "output_type": "display_data"
    }
   ],
   "source": [
    "df.plot(x=\"total_area\", y=\"last_price\", kind=\"scatter\")\n",
    "print(df[\"total_area\"].corr(df['last_price'])) # тут зависимость даже больше чем по городу "
   ]
  },
  {
   "cell_type": "code",
   "execution_count": 40,
   "metadata": {},
   "outputs": [
    {
     "data": {
      "text/plain": [
       "<matplotlib.axes._subplots.AxesSubplot at 0x7f2bf8c1d6d0>"
      ]
     },
     "execution_count": 40,
     "metadata": {},
     "output_type": "execute_result"
    },
    {
     "data": {
      "image/png": "[encoded data removed]",
      "text/plain": [
       "<Figure size 432x288 with 1 Axes>"
      ]
     },
     "metadata": {
      "needs_background": "light"
     },
     "output_type": "display_data"
    }
   ],
   "source": [
    "df.groupby(\"floors_level\")[\"last_price\"].median().plot()\n"
   ]
  },
  {
   "cell_type": "markdown",
   "metadata": {},
   "source": [
    "The same connection can be traced here as in the center."
   ]
  },
  {
   "cell_type": "code",
   "execution_count": 41,
   "metadata": {},
   "outputs": [
    {
     "data": {
      "image/png": "[encoded data removed]",
      "text/plain": [
       "<Figure size 432x288 with 1 Axes>"
      ]
     },
     "metadata": {
      "needs_background": "light"
     },
     "output_type": "display_data"
    },
    {
     "name": "stdout",
     "output_type": "stream",
     "text": [
      "-0.09145340205329107\n"
     ]
    }
   ],
   "source": [
    "# dependency on placement date\n",
    "\n",
    "df.groupby('year_day')['last_price'].median().plot()\n",
    "\n",
    "\n",
    "plt.title('price/year_dep')\n",
    "plt.xlabel('year')\n",
    "plt.ylabel('last_price')\n",
    "plt.show()\n",
    "# look at the correlation\n",
    "print(df['year_day'].corr(df['last_price']))"
   ]
  },
  {
   "cell_type": "markdown",
   "metadata": {},
   "source": [
    "# Findings:\n",
    " the dependence of price and floor in the center is similar to the dependence in the city\n",
    " but the dependence of the year has changed a lot:\n",
    "  there was a very large peak in 2016, and then from 2018 to 2019 the price began to fall, unlike the city, where the price began to rise."
   ]
  },
  {
   "cell_type": "markdown",
   "metadata": {},
   "source": [
    "## Conclusion"
   ]
  },
  {
   "cell_type": "markdown",
   "metadata": {},
   "source": [
    "So we conducted a study according to the Yandex.real estate service and can draw the following conclusions:\n",
    "    1. First of all, we studied the data and processed it where we could\n",
    "    2. Next, we looked at the dependences of various factors in the city and in the center, and they do not differ much\n",
    "    3. We can say that there is a very strong relationship between the area of ​​​​the apartment and the price (this relationship is the strongest)\n",
    "    4. There is also a relationship between the number of rooms and the price\n",
    "    5. We also realized that the closer the apartments are to the center, the more expensive they are.\n",
    "    6. The most expensive real estate in St. Petersburg, there are 80% of them"
   ]
  },
  {
   "cell_type": "code",
   "execution_count": null,
   "metadata": {},
   "outputs": [],
   "source": []
  }
 ],
 "metadata": {
  "ExecuteTimeLog": [
   {
    "duration": 939,
    "start_time": "2021-11-23T22:42:43.615Z"
   },
   {
    "duration": 79,
    "start_time": "2021-11-23T22:43:18.837Z"
   },
   {
    "duration": 443,
    "start_time": "2021-11-23T22:43:32.192Z"
   },
   {
    "duration": 79,
    "start_time": "2021-11-23T22:44:26.347Z"
   },
   {
    "duration": 448,
    "start_time": "2021-11-23T22:44:50.241Z"
   },
   {
    "duration": 115,
    "start_time": "2021-11-23T22:45:23.290Z"
   },
   {
    "duration": 1671,
    "start_time": "2021-11-23T22:45:30.572Z"
   },
   {
    "duration": 120,
    "start_time": "2021-11-23T22:46:16.392Z"
   },
   {
    "duration": 115,
    "start_time": "2021-11-23T22:46:28.562Z"
   },
   {
    "duration": 117,
    "start_time": "2021-11-23T22:46:32.052Z"
   },
   {
    "duration": 117,
    "start_time": "2021-11-23T22:46:33.938Z"
   },
   {
    "duration": 110,
    "start_time": "2021-11-23T22:46:49.828Z"
   },
   {
    "duration": 16,
    "start_time": "2021-11-23T22:49:09.154Z"
   },
   {
    "duration": 11,
    "start_time": "2021-11-23T22:51:28.313Z"
   },
   {
    "duration": 66,
    "start_time": "2021-11-23T23:00:35.432Z"
   },
   {
    "duration": 35,
    "start_time": "2021-11-23T23:08:04.918Z"
   },
   {
    "duration": 24,
    "start_time": "2021-11-23T23:08:19.997Z"
   },
   {
    "duration": 355,
    "start_time": "2021-11-23T23:12:09.199Z"
   },
   {
    "duration": 18,
    "start_time": "2021-11-23T23:12:17.138Z"
   },
   {
    "duration": 29,
    "start_time": "2021-11-23T23:12:25.918Z"
   },
   {
    "duration": 419,
    "start_time": "2021-11-23T23:18:07.788Z"
   },
   {
    "duration": 363,
    "start_time": "2021-11-23T23:18:23.645Z"
   },
   {
    "duration": 369,
    "start_time": "2021-11-23T23:18:28.930Z"
   },
   {
    "duration": 28,
    "start_time": "2021-11-23T23:18:38.180Z"
   },
   {
    "duration": 374,
    "start_time": "2021-11-23T23:18:45.562Z"
   },
   {
    "duration": 17,
    "start_time": "2021-11-23T23:20:48.973Z"
   },
   {
    "duration": 5,
    "start_time": "2021-11-23T23:22:38.739Z"
   },
   {
    "duration": 11,
    "start_time": "2021-11-23T23:26:55.005Z"
   },
   {
    "duration": 14,
    "start_time": "2021-11-23T23:27:13.411Z"
   },
   {
    "duration": 15,
    "start_time": "2021-11-23T23:30:00.549Z"
   },
   {
    "duration": 130,
    "start_time": "2021-11-23T23:32:25.253Z"
   },
   {
    "duration": 125,
    "start_time": "2021-11-23T23:33:10.636Z"
   },
   {
    "duration": 128,
    "start_time": "2021-11-23T23:33:33.585Z"
   },
   {
    "duration": 241,
    "start_time": "2021-11-23T23:34:00.545Z"
   },
   {
    "duration": 118,
    "start_time": "2021-11-23T23:34:18.604Z"
   },
   {
    "duration": 120,
    "start_time": "2021-11-23T23:34:28.613Z"
   },
   {
    "duration": 119,
    "start_time": "2021-11-23T23:35:31.520Z"
   },
   {
    "duration": 118,
    "start_time": "2021-11-23T23:35:41.547Z"
   },
   {
    "duration": 123,
    "start_time": "2021-11-23T23:36:23.112Z"
   },
   {
    "duration": 129,
    "start_time": "2021-11-23T23:37:35.988Z"
   },
   {
    "duration": 125,
    "start_time": "2021-11-23T23:37:52.126Z"
   },
   {
    "duration": 121,
    "start_time": "2021-11-23T23:39:06.199Z"
   },
   {
    "duration": 115,
    "start_time": "2021-11-23T23:39:48.454Z"
   },
   {
    "duration": 14,
    "start_time": "2021-11-23T23:40:07.091Z"
   },
   {
    "duration": 458,
    "start_time": "2021-11-23T23:41:40.644Z"
   },
   {
    "duration": 717,
    "start_time": "2021-11-23T23:42:00.007Z"
   },
   {
    "duration": 369,
    "start_time": "2021-11-23T23:44:00.848Z"
   },
   {
    "duration": 8,
    "start_time": "2021-11-23T23:44:41.953Z"
   },
   {
    "duration": 8,
    "start_time": "2021-11-23T23:45:47.362Z"
   },
   {
    "duration": 12,
    "start_time": "2021-11-23T23:45:53.815Z"
   },
   {
    "duration": 7,
    "start_time": "2021-11-23T23:45:54.339Z"
   },
   {
    "duration": 36,
    "start_time": "2021-11-23T23:47:19.219Z"
   },
   {
    "duration": 361,
    "start_time": "2021-11-24T11:30:03.994Z"
   },
   {
    "duration": 889,
    "start_time": "2021-11-24T11:30:14.479Z"
   },
   {
    "duration": 119,
    "start_time": "2021-11-24T11:30:15.371Z"
   },
   {
    "duration": 16,
    "start_time": "2021-11-24T11:30:15.492Z"
   },
   {
    "duration": 12,
    "start_time": "2021-11-24T11:30:15.511Z"
   },
   {
    "duration": 92,
    "start_time": "2021-11-24T11:30:15.525Z"
   },
   {
    "duration": 33,
    "start_time": "2021-11-24T11:30:15.620Z"
   },
   {
    "duration": 10,
    "start_time": "2021-11-24T11:30:15.668Z"
   },
   {
    "duration": 12,
    "start_time": "2021-11-24T11:30:15.681Z"
   },
   {
    "duration": 72,
    "start_time": "2021-11-24T11:30:15.696Z"
   },
   {
    "duration": 41,
    "start_time": "2021-11-24T11:30:15.770Z"
   },
   {
    "duration": 39,
    "start_time": "2021-11-24T11:32:09.764Z"
   },
   {
    "duration": 399,
    "start_time": "2021-11-24T11:37:10.170Z"
   },
   {
    "duration": 2097,
    "start_time": "2021-11-24T11:37:20.700Z"
   },
   {
    "duration": 2765,
    "start_time": "2021-11-24T11:38:15.949Z"
   },
   {
    "duration": 42,
    "start_time": "2021-11-24T11:39:01.606Z"
   },
   {
    "duration": 2041,
    "start_time": "2021-11-24T11:39:29.488Z"
   },
   {
    "duration": 43,
    "start_time": "2021-11-24T11:39:44.819Z"
   },
   {
    "duration": 870,
    "start_time": "2021-11-24T11:40:05.000Z"
   },
   {
    "duration": 116,
    "start_time": "2021-11-24T11:40:05.873Z"
   },
   {
    "duration": 17,
    "start_time": "2021-11-24T11:40:05.992Z"
   },
   {
    "duration": 13,
    "start_time": "2021-11-24T11:40:06.012Z"
   },
   {
    "duration": 97,
    "start_time": "2021-11-24T11:40:06.027Z"
   },
   {
    "duration": 46,
    "start_time": "2021-11-24T11:40:06.126Z"
   },
   {
    "duration": 8,
    "start_time": "2021-11-24T11:40:06.175Z"
   },
   {
    "duration": 14,
    "start_time": "2021-11-24T11:40:06.186Z"
   },
   {
    "duration": 67,
    "start_time": "2021-11-24T11:40:06.202Z"
   },
   {
    "duration": 48,
    "start_time": "2021-11-24T11:40:06.271Z"
   },
   {
    "duration": 43,
    "start_time": "2021-11-24T11:40:14.840Z"
   },
   {
    "duration": 45,
    "start_time": "2021-11-24T13:29:36.532Z"
   },
   {
    "duration": 46,
    "start_time": "2021-11-24T14:00:03.595Z"
   },
   {
    "duration": 47,
    "start_time": "2021-11-24T14:01:03.306Z"
   },
   {
    "duration": 378,
    "start_time": "2021-11-24T14:05:29.329Z"
   },
   {
    "duration": 305,
    "start_time": "2021-11-24T14:05:34.531Z"
   },
   {
    "duration": 22,
    "start_time": "2021-11-24T14:06:06.109Z"
   },
   {
    "duration": 23,
    "start_time": "2021-11-24T14:07:39.490Z"
   },
   {
    "duration": 2419,
    "start_time": "2021-11-24T14:07:54.448Z"
   },
   {
    "duration": 354,
    "start_time": "2021-11-24T14:08:33.445Z"
   },
   {
    "duration": 2011,
    "start_time": "2021-11-24T14:08:50.378Z"
   },
   {
    "duration": 1319,
    "start_time": "2021-11-24T14:10:36.881Z"
   },
   {
    "duration": 1328,
    "start_time": "2021-11-24T14:10:48.620Z"
   },
   {
    "duration": 2021,
    "start_time": "2021-11-24T14:11:50.312Z"
   },
   {
    "duration": 1439,
    "start_time": "2021-11-24T14:12:16.218Z"
   },
   {
    "duration": 1217,
    "start_time": "2021-11-24T14:12:52.296Z"
   },
   {
    "duration": 1377,
    "start_time": "2021-11-24T14:14:48.517Z"
   },
   {
    "duration": 1707,
    "start_time": "2021-11-24T14:14:53.134Z"
   },
   {
    "duration": 1403,
    "start_time": "2021-11-24T14:14:59.737Z"
   },
   {
    "duration": 1220,
    "start_time": "2021-11-24T14:15:03.642Z"
   },
   {
    "duration": 1353,
    "start_time": "2021-11-24T14:15:07.094Z"
   },
   {
    "duration": 1367,
    "start_time": "2021-11-24T14:15:11.513Z"
   },
   {
    "duration": 1239,
    "start_time": "2021-11-24T14:15:16.385Z"
   },
   {
    "duration": 1354,
    "start_time": "2021-11-24T14:15:44.215Z"
   },
   {
    "duration": 1309,
    "start_time": "2021-11-24T14:15:49.981Z"
   },
   {
    "duration": 1465,
    "start_time": "2021-11-24T14:18:36.548Z"
   },
   {
    "duration": 1311,
    "start_time": "2021-11-24T14:19:07.575Z"
   },
   {
    "duration": 1235,
    "start_time": "2021-11-24T14:19:18.036Z"
   },
   {
    "duration": 1154,
    "start_time": "2021-11-24T14:19:31.541Z"
   },
   {
    "duration": 1222,
    "start_time": "2021-11-24T14:19:47.459Z"
   },
   {
    "duration": 1398,
    "start_time": "2021-11-24T14:20:17.919Z"
   },
   {
    "duration": 1452,
    "start_time": "2021-11-24T14:20:27.970Z"
   },
   {
    "duration": 335,
    "start_time": "2021-11-24T14:21:28.764Z"
   },
   {
    "duration": 1464,
    "start_time": "2021-11-24T14:21:37.706Z"
   },
   {
    "duration": 1412,
    "start_time": "2021-11-24T14:21:41.329Z"
   },
   {
    "duration": 681,
    "start_time": "2021-11-24T14:23:13.844Z"
   },
   {
    "duration": 749,
    "start_time": "2021-11-24T14:23:51.880Z"
   },
   {
    "duration": 1199,
    "start_time": "2021-11-24T14:24:30.741Z"
   },
   {
    "duration": 1014,
    "start_time": "2021-11-24T14:24:44.895Z"
   },
   {
    "duration": 1016,
    "start_time": "2021-11-24T14:25:08.465Z"
   },
   {
    "duration": 1064,
    "start_time": "2021-11-24T14:25:17.620Z"
   },
   {
    "duration": 3916,
    "start_time": "2021-11-24T14:25:34.473Z"
   },
   {
    "duration": 1152,
    "start_time": "2021-11-24T14:25:42.572Z"
   },
   {
    "duration": 1369,
    "start_time": "2021-11-24T14:26:06.751Z"
   },
   {
    "duration": 1466,
    "start_time": "2021-11-24T14:26:22.485Z"
   },
   {
    "duration": 1420,
    "start_time": "2021-11-24T14:26:34.563Z"
   },
   {
    "duration": 1363,
    "start_time": "2021-11-24T14:26:52.259Z"
   },
   {
    "duration": 858,
    "start_time": "2021-11-24T14:28:22.397Z"
   },
   {
    "duration": 118,
    "start_time": "2021-11-24T14:28:23.258Z"
   },
   {
    "duration": 14,
    "start_time": "2021-11-24T14:28:23.379Z"
   },
   {
    "duration": 12,
    "start_time": "2021-11-24T14:28:23.396Z"
   },
   {
    "duration": 98,
    "start_time": "2021-11-24T14:28:23.411Z"
   },
   {
    "duration": 35,
    "start_time": "2021-11-24T14:28:23.511Z"
   },
   {
    "duration": 21,
    "start_time": "2021-11-24T14:28:23.548Z"
   },
   {
    "duration": 12,
    "start_time": "2021-11-24T14:28:23.572Z"
   },
   {
    "duration": 38,
    "start_time": "2021-11-24T14:28:23.587Z"
   },
   {
    "duration": 79,
    "start_time": "2021-11-24T14:28:23.627Z"
   },
   {
    "duration": 3,
    "start_time": "2021-11-24T14:28:23.709Z"
   },
   {
    "duration": 902,
    "start_time": "2021-11-24T14:29:21.250Z"
   },
   {
    "duration": 113,
    "start_time": "2021-11-24T14:29:22.155Z"
   },
   {
    "duration": 15,
    "start_time": "2021-11-24T14:29:22.271Z"
   },
   {
    "duration": 13,
    "start_time": "2021-11-24T14:29:22.289Z"
   },
   {
    "duration": 95,
    "start_time": "2021-11-24T14:29:22.305Z"
   },
   {
    "duration": 34,
    "start_time": "2021-11-24T14:29:22.403Z"
   },
   {
    "duration": 27,
    "start_time": "2021-11-24T14:29:22.440Z"
   },
   {
    "duration": 12,
    "start_time": "2021-11-24T14:29:22.471Z"
   },
   {
    "duration": 39,
    "start_time": "2021-11-24T14:29:22.485Z"
   },
   {
    "duration": 77,
    "start_time": "2021-11-24T14:29:22.526Z"
   },
   {
    "duration": 3,
    "start_time": "2021-11-24T14:29:22.605Z"
   },
   {
    "duration": 1537,
    "start_time": "2021-11-24T14:29:22.610Z"
   },
   {
    "duration": 937,
    "start_time": "2021-11-24T14:33:44.729Z"
   },
   {
    "duration": 122,
    "start_time": "2021-11-24T14:33:45.669Z"
   },
   {
    "duration": 16,
    "start_time": "2021-11-24T14:33:45.794Z"
   },
   {
    "duration": 11,
    "start_time": "2021-11-24T14:33:45.814Z"
   },
   {
    "duration": 101,
    "start_time": "2021-11-24T14:33:45.828Z"
   },
   {
    "duration": 47,
    "start_time": "2021-11-24T14:33:45.931Z"
   },
   {
    "duration": 9,
    "start_time": "2021-11-24T14:33:45.981Z"
   },
   {
    "duration": 23,
    "start_time": "2021-11-24T14:33:45.992Z"
   },
   {
    "duration": 55,
    "start_time": "2021-11-24T14:33:46.018Z"
   },
   {
    "duration": 48,
    "start_time": "2021-11-24T14:33:46.075Z"
   },
   {
    "duration": 3,
    "start_time": "2021-11-24T14:33:46.126Z"
   },
   {
    "duration": 933,
    "start_time": "2021-11-24T14:35:08.253Z"
   },
   {
    "duration": 115,
    "start_time": "2021-11-24T14:35:09.188Z"
   },
   {
    "duration": 16,
    "start_time": "2021-11-24T14:35:09.306Z"
   },
   {
    "duration": 11,
    "start_time": "2021-11-24T14:35:09.325Z"
   },
   {
    "duration": 91,
    "start_time": "2021-11-24T14:35:09.339Z"
   },
   {
    "duration": 48,
    "start_time": "2021-11-24T14:35:09.432Z"
   },
   {
    "duration": 8,
    "start_time": "2021-11-24T14:35:09.483Z"
   },
   {
    "duration": 18,
    "start_time": "2021-11-24T14:35:09.495Z"
   },
   {
    "duration": 68,
    "start_time": "2021-11-24T14:35:09.515Z"
   },
   {
    "duration": 52,
    "start_time": "2021-11-24T14:35:09.585Z"
   },
   {
    "duration": 2,
    "start_time": "2021-11-24T14:35:09.640Z"
   },
   {
    "duration": 896,
    "start_time": "2021-11-24T14:36:51.874Z"
   },
   {
    "duration": 113,
    "start_time": "2021-11-24T14:36:52.773Z"
   },
   {
    "duration": 18,
    "start_time": "2021-11-24T14:36:52.890Z"
   },
   {
    "duration": 15,
    "start_time": "2021-11-24T14:36:52.911Z"
   },
   {
    "duration": 99,
    "start_time": "2021-11-24T14:36:52.928Z"
   },
   {
    "duration": 51,
    "start_time": "2021-11-24T14:36:53.030Z"
   },
   {
    "duration": 9,
    "start_time": "2021-11-24T14:36:53.084Z"
   },
   {
    "duration": 15,
    "start_time": "2021-11-24T14:36:53.096Z"
   },
   {
    "duration": 61,
    "start_time": "2021-11-24T14:36:53.113Z"
   },
   {
    "duration": 51,
    "start_time": "2021-11-24T14:36:53.177Z"
   },
   {
    "duration": 2,
    "start_time": "2021-11-24T14:36:53.230Z"
   },
   {
    "duration": 1464,
    "start_time": "2021-11-24T14:36:53.235Z"
   },
   {
    "duration": 1380,
    "start_time": "2021-11-24T14:38:26.023Z"
   },
   {
    "duration": 1023,
    "start_time": "2021-11-24T14:38:43.227Z"
   },
   {
    "duration": 6,
    "start_time": "2021-11-24T14:40:00.979Z"
   },
   {
    "duration": 987,
    "start_time": "2021-11-24T14:44:52.557Z"
   },
   {
    "duration": 1141,
    "start_time": "2021-11-24T14:45:38.460Z"
   },
   {
    "duration": 1177,
    "start_time": "2021-11-24T14:45:47.690Z"
   },
   {
    "duration": 1027,
    "start_time": "2021-11-24T14:46:08.388Z"
   },
   {
    "duration": 871,
    "start_time": "2021-11-24T14:47:09.395Z"
   },
   {
    "duration": 1305,
    "start_time": "2021-11-24T14:47:36.601Z"
   },
   {
    "duration": 1034,
    "start_time": "2021-11-24T14:47:55.477Z"
   },
   {
    "duration": 1123,
    "start_time": "2021-11-24T14:48:12.679Z"
   },
   {
    "duration": 919,
    "start_time": "2021-11-24T14:48:36.049Z"
   },
   {
    "duration": 115,
    "start_time": "2021-11-24T14:48:36.971Z"
   },
   {
    "duration": 17,
    "start_time": "2021-11-24T14:48:37.089Z"
   },
   {
    "duration": 12,
    "start_time": "2021-11-24T14:48:37.109Z"
   },
   {
    "duration": 98,
    "start_time": "2021-11-24T14:48:37.124Z"
   },
   {
    "duration": 43,
    "start_time": "2021-11-24T14:48:37.225Z"
   },
   {
    "duration": 8,
    "start_time": "2021-11-24T14:48:37.271Z"
   },
   {
    "duration": 18,
    "start_time": "2021-11-24T14:48:37.282Z"
   },
   {
    "duration": 37,
    "start_time": "2021-11-24T14:48:37.302Z"
   },
   {
    "duration": 77,
    "start_time": "2021-11-24T14:48:37.342Z"
   },
   {
    "duration": 3,
    "start_time": "2021-11-24T14:48:37.422Z"
   },
   {
    "duration": 1240,
    "start_time": "2021-11-24T14:48:37.427Z"
   },
   {
    "duration": 4337,
    "start_time": "2021-11-24T14:48:38.669Z"
   },
   {
    "duration": 1429,
    "start_time": "2021-11-24T14:48:48.781Z"
   },
   {
    "duration": 1410,
    "start_time": "2021-11-24T14:49:13.651Z"
   },
   {
    "duration": 313,
    "start_time": "2021-11-24T14:49:28.374Z"
   },
   {
    "duration": 295,
    "start_time": "2021-11-24T14:49:42.491Z"
   },
   {
    "duration": 1018,
    "start_time": "2021-11-24T14:49:53.886Z"
   },
   {
    "duration": 602,
    "start_time": "2021-11-24T14:50:08.702Z"
   },
   {
    "duration": 302,
    "start_time": "2021-11-24T14:50:24.463Z"
   },
   {
    "duration": 317,
    "start_time": "2021-11-24T14:51:03.435Z"
   },
   {
    "duration": 297,
    "start_time": "2021-11-24T14:51:15.944Z"
   },
   {
    "duration": 305,
    "start_time": "2021-11-24T14:51:24.364Z"
   },
   {
    "duration": 4256,
    "start_time": "2021-11-24T14:51:40.493Z"
   },
   {
    "duration": 304,
    "start_time": "2021-11-24T14:51:52.793Z"
   },
   {
    "duration": 332,
    "start_time": "2021-11-24T14:52:02.742Z"
   },
   {
    "duration": 638,
    "start_time": "2021-11-24T14:52:09.497Z"
   },
   {
    "duration": 332,
    "start_time": "2021-11-24T14:52:20.659Z"
   },
   {
    "duration": 351,
    "start_time": "2021-11-24T14:52:54.547Z"
   },
   {
    "duration": 297,
    "start_time": "2021-11-24T14:53:05.130Z"
   },
   {
    "duration": 320,
    "start_time": "2021-11-24T14:53:26.250Z"
   },
   {
    "duration": 341,
    "start_time": "2021-11-24T14:55:27.666Z"
   },
   {
    "duration": 314,
    "start_time": "2021-11-24T14:55:40.760Z"
   },
   {
    "duration": 341,
    "start_time": "2021-11-24T14:55:45.956Z"
   },
   {
    "duration": 329,
    "start_time": "2021-11-24T14:57:19.325Z"
   },
   {
    "duration": 297,
    "start_time": "2021-11-24T15:03:30.735Z"
   },
   {
    "duration": 311,
    "start_time": "2021-11-24T15:04:48.084Z"
   },
   {
    "duration": 311,
    "start_time": "2021-11-24T15:06:22.695Z"
   },
   {
    "duration": 38,
    "start_time": "2021-11-24T15:06:28.570Z"
   },
   {
    "duration": 44,
    "start_time": "2021-11-24T15:07:22.132Z"
   },
   {
    "duration": 35,
    "start_time": "2021-11-24T15:07:48.552Z"
   },
   {
    "duration": 29,
    "start_time": "2021-11-24T15:10:09.802Z"
   },
   {
    "duration": 34,
    "start_time": "2021-11-24T15:10:13.955Z"
   },
   {
    "duration": 7416,
    "start_time": "2021-11-24T15:11:26.827Z"
   },
   {
    "duration": 35,
    "start_time": "2021-11-24T15:12:00.040Z"
   },
   {
    "duration": 7856,
    "start_time": "2021-11-24T15:12:38.279Z"
   },
   {
    "duration": 48,
    "start_time": "2021-11-24T15:14:49.696Z"
   },
   {
    "duration": 315,
    "start_time": "2021-11-24T15:15:58.093Z"
   },
   {
    "duration": 42,
    "start_time": "2021-11-24T15:16:19.778Z"
   },
   {
    "duration": 39,
    "start_time": "2021-11-24T15:16:33.299Z"
   },
   {
    "duration": 36,
    "start_time": "2021-11-24T15:16:43.761Z"
   },
   {
    "duration": 35,
    "start_time": "2021-11-24T15:17:58.922Z"
   },
   {
    "duration": 36,
    "start_time": "2021-11-24T15:18:26.896Z"
   },
   {
    "duration": 35,
    "start_time": "2021-11-24T15:18:43.429Z"
   },
   {
    "duration": 35,
    "start_time": "2021-11-24T15:18:55.981Z"
   },
   {
    "duration": 38,
    "start_time": "2021-11-24T15:19:09.653Z"
   },
   {
    "duration": 38,
    "start_time": "2021-11-24T15:19:14.618Z"
   },
   {
    "duration": 819,
    "start_time": "2021-11-24T15:21:44.497Z"
   },
   {
    "duration": 770,
    "start_time": "2021-11-24T15:22:11.459Z"
   },
   {
    "duration": 880,
    "start_time": "2021-11-24T15:22:40.291Z"
   },
   {
    "duration": 794,
    "start_time": "2021-11-24T15:22:48.950Z"
   },
   {
    "duration": 7089,
    "start_time": "2021-11-24T15:23:41.102Z"
   },
   {
    "duration": 9071,
    "start_time": "2021-11-24T15:24:01.884Z"
   },
   {
    "duration": 9024,
    "start_time": "2021-11-24T15:24:13.126Z"
   },
   {
    "duration": 768,
    "start_time": "2021-11-24T15:24:49.258Z"
   },
   {
    "duration": 39,
    "start_time": "2021-11-24T15:25:22.527Z"
   },
   {
    "duration": 313,
    "start_time": "2021-11-24T15:26:53.532Z"
   },
   {
    "duration": 317,
    "start_time": "2021-11-24T15:27:19.049Z"
   },
   {
    "duration": 32,
    "start_time": "2021-11-24T15:27:29.954Z"
   },
   {
    "duration": 9,
    "start_time": "2021-11-24T15:27:58.336Z"
   },
   {
    "duration": 6,
    "start_time": "2021-11-24T15:29:09.887Z"
   },
   {
    "duration": 39,
    "start_time": "2021-11-24T15:29:23.884Z"
   },
   {
    "duration": 346,
    "start_time": "2021-11-24T15:31:07.996Z"
   },
   {
    "duration": 418,
    "start_time": "2021-11-24T15:31:30.680Z"
   },
   {
    "duration": 292,
    "start_time": "2021-11-24T15:36:02.327Z"
   },
   {
    "duration": 12,
    "start_time": "2021-11-24T15:36:27.142Z"
   },
   {
    "duration": 12,
    "start_time": "2021-11-24T15:36:42.071Z"
   },
   {
    "duration": 11,
    "start_time": "2021-11-24T15:36:47.311Z"
   },
   {
    "duration": 29,
    "start_time": "2021-11-24T15:36:53.188Z"
   },
   {
    "duration": 45,
    "start_time": "2021-11-24T15:37:04.294Z"
   },
   {
    "duration": 51,
    "start_time": "2021-11-24T15:38:26.988Z"
   },
   {
    "duration": 702,
    "start_time": "2021-11-24T15:42:11.461Z"
   },
   {
    "duration": 8504,
    "start_time": "2021-11-24T15:45:03.444Z"
   },
   {
    "duration": 689,
    "start_time": "2021-11-24T15:45:18.537Z"
   },
   {
    "duration": 712,
    "start_time": "2021-11-24T15:46:26.549Z"
   },
   {
    "duration": 8366,
    "start_time": "2021-11-24T15:47:55.149Z"
   },
   {
    "duration": 657,
    "start_time": "2021-11-24T15:48:08.143Z"
   },
   {
    "duration": 727,
    "start_time": "2021-11-24T15:52:49.077Z"
   },
   {
    "duration": 290,
    "start_time": "2021-11-24T15:54:31.912Z"
   },
   {
    "duration": 747,
    "start_time": "2021-11-24T15:56:25.292Z"
   },
   {
    "duration": 711,
    "start_time": "2021-11-24T15:56:31.057Z"
   },
   {
    "duration": 337,
    "start_time": "2021-11-24T15:56:47.782Z"
   },
   {
    "duration": 1194,
    "start_time": "2021-11-24T15:56:57.811Z"
   },
   {
    "duration": 1223,
    "start_time": "2021-11-24T15:57:07.348Z"
   },
   {
    "duration": 294,
    "start_time": "2021-11-24T15:59:33.535Z"
   },
   {
    "duration": 1146,
    "start_time": "2021-11-24T16:00:09.525Z"
   },
   {
    "duration": 324,
    "start_time": "2021-11-24T16:00:29.980Z"
   },
   {
    "duration": 311,
    "start_time": "2021-11-24T16:01:29.766Z"
   },
   {
    "duration": 293,
    "start_time": "2021-11-24T16:01:39.679Z"
   },
   {
    "duration": 23,
    "start_time": "2021-11-24T16:01:50.692Z"
   },
   {
    "duration": 38,
    "start_time": "2021-11-24T16:01:59.021Z"
   },
   {
    "duration": 44,
    "start_time": "2021-11-24T16:02:22.473Z"
   },
   {
    "duration": 37,
    "start_time": "2021-11-24T16:02:48.767Z"
   },
   {
    "duration": 324,
    "start_time": "2021-11-24T16:03:22.934Z"
   },
   {
    "duration": 3085,
    "start_time": "2021-11-24T16:03:43.716Z"
   },
   {
    "duration": 407,
    "start_time": "2021-11-24T16:03:47.020Z"
   },
   {
    "duration": 882,
    "start_time": "2021-11-24T16:04:11.103Z"
   },
   {
    "duration": 118,
    "start_time": "2021-11-24T16:04:11.988Z"
   },
   {
    "duration": 16,
    "start_time": "2021-11-24T16:04:12.112Z"
   },
   {
    "duration": 39,
    "start_time": "2021-11-24T16:04:12.130Z"
   },
   {
    "duration": 66,
    "start_time": "2021-11-24T16:04:12.171Z"
   },
   {
    "duration": 54,
    "start_time": "2021-11-24T16:04:12.240Z"
   },
   {
    "duration": 9,
    "start_time": "2021-11-24T16:04:12.297Z"
   },
   {
    "duration": 19,
    "start_time": "2021-11-24T16:04:12.310Z"
   },
   {
    "duration": 65,
    "start_time": "2021-11-24T16:04:12.332Z"
   },
   {
    "duration": 51,
    "start_time": "2021-11-24T16:04:12.399Z"
   },
   {
    "duration": 15,
    "start_time": "2021-11-24T16:04:12.452Z"
   },
   {
    "duration": 433,
    "start_time": "2021-11-24T16:04:12.469Z"
   },
   {
    "duration": 1027,
    "start_time": "2021-11-24T16:04:12.904Z"
   },
   {
    "duration": 389,
    "start_time": "2021-11-24T16:04:13.934Z"
   },
   {
    "duration": 53,
    "start_time": "2021-11-24T16:04:14.326Z"
   },
   {
    "duration": 7,
    "start_time": "2021-11-24T16:04:14.382Z"
   },
   {
    "duration": 77,
    "start_time": "2021-11-24T16:04:14.391Z"
   },
   {
    "duration": 808,
    "start_time": "2021-11-24T16:04:14.471Z"
   },
   {
    "duration": 695,
    "start_time": "2021-11-24T16:04:15.282Z"
   },
   {
    "duration": 697,
    "start_time": "2021-11-24T16:04:15.981Z"
   },
   {
    "duration": 700,
    "start_time": "2021-11-24T16:04:16.681Z"
   },
   {
    "duration": 474,
    "start_time": "2021-11-24T16:06:10.740Z"
   },
   {
    "duration": 17,
    "start_time": "2021-11-24T16:07:07.868Z"
   },
   {
    "duration": 1689,
    "start_time": "2021-11-24T16:08:00.142Z"
   },
   {
    "duration": 303,
    "start_time": "2021-11-24T16:11:32.097Z"
   },
   {
    "duration": 5,
    "start_time": "2021-11-24T16:11:36.044Z"
   },
   {
    "duration": 6,
    "start_time": "2021-11-24T16:11:43.929Z"
   },
   {
    "duration": 379,
    "start_time": "2021-11-24T16:12:12.845Z"
   },
   {
    "duration": 17,
    "start_time": "2021-11-24T16:12:34.768Z"
   },
   {
    "duration": 27,
    "start_time": "2021-11-24T16:12:41.534Z"
   },
   {
    "duration": 39,
    "start_time": "2021-11-24T16:12:50.415Z"
   },
   {
    "duration": 8481,
    "start_time": "2021-11-24T16:13:08.920Z"
   },
   {
    "duration": 340,
    "start_time": "2021-11-24T16:13:22.932Z"
   },
   {
    "duration": 8339,
    "start_time": "2021-11-24T16:13:28.137Z"
   },
   {
    "duration": 42,
    "start_time": "2021-11-24T16:13:38.732Z"
   },
   {
    "duration": 38,
    "start_time": "2021-11-24T16:13:47.355Z"
   },
   {
    "duration": 305,
    "start_time": "2021-11-24T16:14:14.737Z"
   },
   {
    "duration": 110,
    "start_time": "2021-11-24T16:14:24.073Z"
   },
   {
    "duration": 1298,
    "start_time": "2021-11-24T16:14:29.425Z"
   },
   {
    "duration": 35,
    "start_time": "2021-11-24T16:15:29.742Z"
   },
   {
    "duration": 290,
    "start_time": "2021-11-24T16:15:52.542Z"
   },
   {
    "duration": 36,
    "start_time": "2021-11-24T16:16:00.409Z"
   },
   {
    "duration": 353,
    "start_time": "2021-11-24T16:17:31.064Z"
   },
   {
    "duration": 37,
    "start_time": "2021-11-24T16:17:37.872Z"
   },
   {
    "duration": 28,
    "start_time": "2021-11-24T16:19:46.163Z"
   },
   {
    "duration": 33,
    "start_time": "2021-11-24T16:19:51.601Z"
   },
   {
    "duration": 30,
    "start_time": "2021-11-24T16:20:01.032Z"
   },
   {
    "duration": 401,
    "start_time": "2021-11-24T16:20:40.626Z"
   },
   {
    "duration": 31,
    "start_time": "2021-11-24T16:20:55.134Z"
   },
   {
    "duration": 30,
    "start_time": "2021-11-24T16:21:33.885Z"
   },
   {
    "duration": 2094,
    "start_time": "2021-11-24T16:22:21.874Z"
   },
   {
    "duration": 32,
    "start_time": "2021-11-24T16:22:28.121Z"
   },
   {
    "duration": 34,
    "start_time": "2021-11-24T16:22:50.872Z"
   },
   {
    "duration": 32,
    "start_time": "2021-11-24T16:23:08.909Z"
   },
   {
    "duration": 323,
    "start_time": "2021-11-24T16:36:08.909Z"
   },
   {
    "duration": 9,
    "start_time": "2021-11-24T16:36:17.225Z"
   },
   {
    "duration": 36,
    "start_time": "2021-11-24T16:37:18.896Z"
   },
   {
    "duration": 13,
    "start_time": "2021-11-24T16:38:20.158Z"
   },
   {
    "duration": 7,
    "start_time": "2021-11-24T16:38:37.087Z"
   },
   {
    "duration": 16,
    "start_time": "2021-11-24T16:38:42.351Z"
   },
   {
    "duration": 12,
    "start_time": "2021-11-24T16:38:51.423Z"
   },
   {
    "duration": 14,
    "start_time": "2021-11-24T16:39:20.598Z"
   },
   {
    "duration": 8096,
    "start_time": "2021-11-24T16:40:05.626Z"
   },
   {
    "duration": 289,
    "start_time": "2021-11-24T16:40:16.627Z"
   },
   {
    "duration": 123,
    "start_time": "2021-11-24T16:40:51.663Z"
   },
   {
    "duration": 12,
    "start_time": "2021-11-24T16:41:03.523Z"
   },
   {
    "duration": 7807,
    "start_time": "2021-11-24T18:36:26.261Z"
   },
   {
    "duration": 38,
    "start_time": "2021-11-24T18:37:15.369Z"
   },
   {
    "duration": 1328,
    "start_time": "2021-11-24T18:40:40.915Z"
   },
   {
    "duration": 345,
    "start_time": "2021-11-24T18:41:47.317Z"
   },
   {
    "duration": 93,
    "start_time": "2021-11-24T18:42:00.972Z"
   },
   {
    "duration": 11,
    "start_time": "2021-11-24T18:42:14.948Z"
   },
   {
    "duration": 12,
    "start_time": "2021-11-24T18:42:34.195Z"
   },
   {
    "duration": 31,
    "start_time": "2021-11-24T18:42:47.488Z"
   },
   {
    "duration": 38,
    "start_time": "2021-11-24T18:42:55.491Z"
   },
   {
    "duration": 615,
    "start_time": "2021-11-24T18:43:08.897Z"
   },
   {
    "duration": 50,
    "start_time": "2021-11-24T18:43:18.688Z"
   },
   {
    "duration": 898,
    "start_time": "2021-11-24T18:43:39.985Z"
   },
   {
    "duration": 121,
    "start_time": "2021-11-24T18:43:40.886Z"
   },
   {
    "duration": 17,
    "start_time": "2021-11-24T18:43:41.010Z"
   },
   {
    "duration": 11,
    "start_time": "2021-11-24T18:43:41.030Z"
   },
   {
    "duration": 67,
    "start_time": "2021-11-24T18:43:41.067Z"
   },
   {
    "duration": 52,
    "start_time": "2021-11-24T18:43:41.136Z"
   },
   {
    "duration": 9,
    "start_time": "2021-11-24T18:43:41.190Z"
   },
   {
    "duration": 16,
    "start_time": "2021-11-24T18:43:41.201Z"
   },
   {
    "duration": 72,
    "start_time": "2021-11-24T18:43:41.221Z"
   },
   {
    "duration": 52,
    "start_time": "2021-11-24T18:43:41.296Z"
   },
   {
    "duration": 18,
    "start_time": "2021-11-24T18:43:41.350Z"
   },
   {
    "duration": 413,
    "start_time": "2021-11-24T18:43:41.370Z"
   },
   {
    "duration": 1022,
    "start_time": "2021-11-24T18:43:41.785Z"
   },
   {
    "duration": 385,
    "start_time": "2021-11-24T18:43:42.810Z"
   },
   {
    "duration": 38,
    "start_time": "2021-11-24T18:43:43.198Z"
   },
   {
    "duration": 29,
    "start_time": "2021-11-24T18:43:43.239Z"
   },
   {
    "duration": 51,
    "start_time": "2021-11-24T18:43:43.270Z"
   },
   {
    "duration": 727,
    "start_time": "2021-11-24T18:43:43.323Z"
   },
   {
    "duration": 714,
    "start_time": "2021-11-24T18:43:44.053Z"
   },
   {
    "duration": 703,
    "start_time": "2021-11-24T18:43:44.769Z"
   },
   {
    "duration": 711,
    "start_time": "2021-11-24T18:43:45.475Z"
   },
   {
    "duration": 31,
    "start_time": "2021-11-24T18:43:46.189Z"
   },
   {
    "duration": 11,
    "start_time": "2021-11-24T18:43:46.223Z"
   },
   {
    "duration": 453,
    "start_time": "2021-11-24T18:43:46.237Z"
   },
   {
    "duration": 42,
    "start_time": "2021-11-24T18:44:26.279Z"
   },
   {
    "duration": 44,
    "start_time": "2021-11-24T18:44:32.782Z"
   },
   {
    "duration": 355,
    "start_time": "2021-11-24T18:44:50.217Z"
   },
   {
    "duration": 9,
    "start_time": "2021-11-24T18:44:57.985Z"
   },
   {
    "duration": 64,
    "start_time": "2021-11-24T18:46:07.785Z"
   },
   {
    "duration": 296,
    "start_time": "2021-11-24T18:46:28.106Z"
   },
   {
    "duration": 45,
    "start_time": "2021-11-24T18:46:33.119Z"
   },
   {
    "duration": 301,
    "start_time": "2021-11-24T18:51:02.022Z"
   },
   {
    "duration": 19,
    "start_time": "2021-11-24T18:51:06.912Z"
   },
   {
    "duration": 7775,
    "start_time": "2021-11-24T18:52:26.169Z"
   },
   {
    "duration": 524,
    "start_time": "2021-11-24T18:53:18.911Z"
   },
   {
    "duration": 455,
    "start_time": "2021-11-24T18:53:34.574Z"
   },
   {
    "duration": 295,
    "start_time": "2021-11-24T18:54:42.349Z"
   },
   {
    "duration": 15,
    "start_time": "2021-11-24T18:54:45.693Z"
   },
   {
    "duration": 16,
    "start_time": "2021-11-24T18:55:19.228Z"
   },
   {
    "duration": 48,
    "start_time": "2021-11-24T18:55:26.268Z"
   },
   {
    "duration": 659,
    "start_time": "2021-11-24T18:56:17.674Z"
   },
   {
    "duration": 50,
    "start_time": "2021-11-24T18:57:29.787Z"
   },
   {
    "duration": 70,
    "start_time": "2021-11-24T18:57:40.229Z"
   },
   {
    "duration": 518,
    "start_time": "2021-11-24T18:57:54.739Z"
   },
   {
    "duration": 90,
    "start_time": "2021-11-24T18:59:05.106Z"
   },
   {
    "duration": 128,
    "start_time": "2021-11-24T18:59:14.159Z"
   },
   {
    "duration": 327,
    "start_time": "2021-11-24T18:59:20.656Z"
   },
   {
    "duration": 5,
    "start_time": "2021-11-24T19:06:28.911Z"
   },
   {
    "duration": 40,
    "start_time": "2021-11-24T19:06:40.838Z"
   },
   {
    "duration": 80,
    "start_time": "2021-11-24T19:06:55.102Z"
   },
   {
    "duration": 7400,
    "start_time": "2021-11-24T19:07:01.904Z"
   },
   {
    "duration": 70,
    "start_time": "2021-11-24T19:07:18.871Z"
   },
   {
    "duration": 716,
    "start_time": "2021-11-24T19:11:40.997Z"
   },
   {
    "duration": 658,
    "start_time": "2021-11-24T19:11:58.928Z"
   },
   {
    "duration": 287,
    "start_time": "2021-11-24T19:12:49.822Z"
   },
   {
    "duration": 960,
    "start_time": "2021-11-24T19:13:02.366Z"
   },
   {
    "duration": 915,
    "start_time": "2021-11-24T19:13:25.561Z"
   },
   {
    "duration": 1285,
    "start_time": "2021-11-24T19:13:59.770Z"
   },
   {
    "duration": 310,
    "start_time": "2021-11-24T19:14:49.748Z"
   },
   {
    "duration": 546,
    "start_time": "2021-11-24T19:14:58.764Z"
   },
   {
    "duration": 597,
    "start_time": "2021-11-24T19:15:16.508Z"
   },
   {
    "duration": 624,
    "start_time": "2021-11-24T19:15:33.105Z"
   },
   {
    "duration": 601,
    "start_time": "2021-11-24T19:16:55.974Z"
   },
   {
    "duration": 833,
    "start_time": "2021-11-24T19:17:19.767Z"
   },
   {
    "duration": 914,
    "start_time": "2021-11-24T19:17:30.895Z"
   },
   {
    "duration": 308,
    "start_time": "2021-11-24T19:18:47.879Z"
   },
   {
    "duration": 70,
    "start_time": "2021-11-24T19:19:23.912Z"
   },
   {
    "duration": 130,
    "start_time": "2021-11-24T19:19:33.500Z"
   },
   {
    "duration": 64,
    "start_time": "2021-11-24T19:19:53.698Z"
   },
   {
    "duration": 23,
    "start_time": "2021-11-24T19:20:15.580Z"
   },
   {
    "duration": 280,
    "start_time": "2021-11-24T19:22:15.395Z"
   },
   {
    "duration": 494,
    "start_time": "2021-11-24T19:22:24.398Z"
   },
   {
    "duration": 347,
    "start_time": "2021-11-24T19:24:43.886Z"
   },
   {
    "duration": 98,
    "start_time": "2021-11-24T19:27:13.354Z"
   },
   {
    "duration": 333,
    "start_time": "2021-11-24T19:27:29.068Z"
   },
   {
    "duration": 370,
    "start_time": "2021-11-24T19:31:16.084Z"
   },
   {
    "duration": 288,
    "start_time": "2021-11-24T19:31:36.163Z"
   },
   {
    "duration": 7480,
    "start_time": "2021-11-24T19:32:40.664Z"
   },
   {
    "duration": 684,
    "start_time": "2021-11-24T19:33:11.407Z"
   },
   {
    "duration": 296,
    "start_time": "2021-11-24T19:33:32.550Z"
   },
   {
    "duration": 684,
    "start_time": "2021-11-24T19:34:10.341Z"
   },
   {
    "duration": 7289,
    "start_time": "2021-11-24T19:34:22.538Z"
   },
   {
    "duration": 856,
    "start_time": "2021-11-24T19:34:36.442Z"
   },
   {
    "duration": 846,
    "start_time": "2021-11-24T19:35:19.842Z"
   },
   {
    "duration": 854,
    "start_time": "2021-11-24T19:36:15.588Z"
   },
   {
    "duration": 123,
    "start_time": "2021-11-24T19:36:16.445Z"
   },
   {
    "duration": 16,
    "start_time": "2021-11-24T19:36:16.571Z"
   },
   {
    "duration": 12,
    "start_time": "2021-11-24T19:36:16.590Z"
   },
   {
    "duration": 99,
    "start_time": "2021-11-24T19:36:16.605Z"
   },
   {
    "duration": 35,
    "start_time": "2021-11-24T19:36:16.706Z"
   },
   {
    "duration": 25,
    "start_time": "2021-11-24T19:36:16.744Z"
   },
   {
    "duration": 11,
    "start_time": "2021-11-24T19:36:16.772Z"
   },
   {
    "duration": 38,
    "start_time": "2021-11-24T19:36:16.788Z"
   },
   {
    "duration": 85,
    "start_time": "2021-11-24T19:36:16.829Z"
   },
   {
    "duration": 3,
    "start_time": "2021-11-24T19:36:16.918Z"
   },
   {
    "duration": 460,
    "start_time": "2021-11-24T19:36:16.925Z"
   },
   {
    "duration": 1167,
    "start_time": "2021-11-24T19:36:17.388Z"
   },
   {
    "duration": 524,
    "start_time": "2021-11-24T19:36:18.557Z"
   },
   {
    "duration": 39,
    "start_time": "2021-11-24T19:36:19.085Z"
   },
   {
    "duration": 6,
    "start_time": "2021-11-24T19:36:19.127Z"
   },
   {
    "duration": 54,
    "start_time": "2021-11-24T19:36:19.167Z"
   },
   {
    "duration": 707,
    "start_time": "2021-11-24T19:36:19.224Z"
   },
   {
    "duration": 755,
    "start_time": "2021-11-24T19:36:19.934Z"
   },
   {
    "duration": 718,
    "start_time": "2021-11-24T19:36:20.692Z"
   },
   {
    "duration": 711,
    "start_time": "2021-11-24T19:36:21.413Z"
   },
   {
    "duration": 54,
    "start_time": "2021-11-24T19:36:22.126Z"
   },
   {
    "duration": 11,
    "start_time": "2021-11-24T19:36:22.183Z"
   },
   {
    "duration": 404,
    "start_time": "2021-11-24T19:36:22.196Z"
   },
   {
    "duration": -1823,
    "start_time": "2021-11-24T19:36:24.426Z"
   },
   {
    "duration": -1830,
    "start_time": "2021-11-24T19:36:24.435Z"
   },
   {
    "duration": 45,
    "start_time": "2021-11-24T19:36:53.429Z"
   },
   {
    "duration": 330,
    "start_time": "2021-11-24T19:37:13.730Z"
   },
   {
    "duration": 43,
    "start_time": "2021-11-24T19:37:24.065Z"
   },
   {
    "duration": 55,
    "start_time": "2021-11-24T19:37:31.812Z"
   },
   {
    "duration": 44,
    "start_time": "2021-11-24T19:37:42.446Z"
   },
   {
    "duration": 1298,
    "start_time": "2021-11-24T19:37:58.817Z"
   },
   {
    "duration": 44,
    "start_time": "2021-11-24T19:38:38.495Z"
   },
   {
    "duration": 415,
    "start_time": "2021-11-24T19:38:44.034Z"
   },
   {
    "duration": 57,
    "start_time": "2021-11-24T19:39:43.746Z"
   },
   {
    "duration": 310,
    "start_time": "2021-11-24T19:39:48.601Z"
   },
   {
    "duration": 9734,
    "start_time": "2021-11-24T19:40:28.700Z"
   },
   {
    "duration": 8001,
    "start_time": "2021-11-24T19:40:47.784Z"
   },
   {
    "duration": 7,
    "start_time": "2021-11-24T19:41:05.047Z"
   },
   {
    "duration": 39,
    "start_time": "2021-11-24T19:41:28.299Z"
   },
   {
    "duration": 107,
    "start_time": "2021-11-24T19:42:30.284Z"
   },
   {
    "duration": 7498,
    "start_time": "2021-11-24T19:42:34.983Z"
   },
   {
    "duration": 572,
    "start_time": "2021-11-24T19:42:44.104Z"
   },
   {
    "duration": 561,
    "start_time": "2021-11-24T19:43:10.731Z"
   },
   {
    "duration": 574,
    "start_time": "2021-11-24T19:43:17.032Z"
   },
   {
    "duration": 596,
    "start_time": "2021-11-24T19:43:31.881Z"
   },
   {
    "duration": 1117,
    "start_time": "2021-11-24T19:43:39.036Z"
   },
   {
    "duration": 602,
    "start_time": "2021-11-24T19:43:44.412Z"
   },
   {
    "duration": 583,
    "start_time": "2021-11-24T19:44:03.305Z"
   },
   {
    "duration": 683,
    "start_time": "2021-11-24T19:44:26.093Z"
   },
   {
    "duration": 588,
    "start_time": "2021-11-24T19:45:27.568Z"
   },
   {
    "duration": 629,
    "start_time": "2021-11-24T19:45:37.659Z"
   },
   {
    "duration": 8,
    "start_time": "2021-11-24T19:47:31.776Z"
   },
   {
    "duration": 775,
    "start_time": "2021-11-24T19:47:45.443Z"
   },
   {
    "duration": 611,
    "start_time": "2021-11-24T19:47:55.594Z"
   },
   {
    "duration": 911,
    "start_time": "2021-11-24T19:48:08.504Z"
   },
   {
    "duration": 351,
    "start_time": "2021-11-24T19:50:30.767Z"
   },
   {
    "duration": 906,
    "start_time": "2021-11-24T19:50:36.443Z"
   },
   {
    "duration": 131,
    "start_time": "2021-11-24T19:50:37.351Z"
   },
   {
    "duration": 17,
    "start_time": "2021-11-24T19:50:37.485Z"
   },
   {
    "duration": 11,
    "start_time": "2021-11-24T19:50:37.505Z"
   },
   {
    "duration": 96,
    "start_time": "2021-11-24T19:50:37.519Z"
   },
   {
    "duration": 35,
    "start_time": "2021-11-24T19:50:37.617Z"
   },
   {
    "duration": 18,
    "start_time": "2021-11-24T19:50:37.654Z"
   },
   {
    "duration": 12,
    "start_time": "2021-11-24T19:50:37.676Z"
   },
   {
    "duration": 38,
    "start_time": "2021-11-24T19:50:37.692Z"
   },
   {
    "duration": 85,
    "start_time": "2021-11-24T19:50:37.732Z"
   },
   {
    "duration": 4,
    "start_time": "2021-11-24T19:50:37.819Z"
   },
   {
    "duration": 432,
    "start_time": "2021-11-24T19:50:37.825Z"
   },
   {
    "duration": 1030,
    "start_time": "2021-11-24T19:50:38.268Z"
   },
   {
    "duration": 401,
    "start_time": "2021-11-24T19:50:39.300Z"
   },
   {
    "duration": 38,
    "start_time": "2021-11-24T19:50:39.704Z"
   },
   {
    "duration": 24,
    "start_time": "2021-11-24T19:50:39.745Z"
   },
   {
    "duration": 51,
    "start_time": "2021-11-24T19:50:39.772Z"
   },
   {
    "duration": 751,
    "start_time": "2021-11-24T19:50:39.826Z"
   },
   {
    "duration": 696,
    "start_time": "2021-11-24T19:50:40.579Z"
   },
   {
    "duration": 701,
    "start_time": "2021-11-24T19:50:41.278Z"
   },
   {
    "duration": 700,
    "start_time": "2021-11-24T19:50:41.982Z"
   },
   {
    "duration": 34,
    "start_time": "2021-11-24T19:50:42.684Z"
   },
   {
    "duration": 12,
    "start_time": "2021-11-24T19:50:42.722Z"
   },
   {
    "duration": 50,
    "start_time": "2021-11-24T19:50:42.767Z"
   },
   {
    "duration": 332,
    "start_time": "2021-11-24T19:50:42.820Z"
   },
   {
    "duration": 13,
    "start_time": "2021-11-24T19:50:43.154Z"
   },
   {
    "duration": 948,
    "start_time": "2021-11-24T19:54:30.259Z"
   },
   {
    "duration": 116,
    "start_time": "2021-11-24T19:54:31.210Z"
   },
   {
    "duration": 18,
    "start_time": "2021-11-24T19:54:31.329Z"
   },
   {
    "duration": 14,
    "start_time": "2021-11-24T19:54:31.366Z"
   },
   {
    "duration": 85,
    "start_time": "2021-11-24T19:54:31.382Z"
   },
   {
    "duration": 34,
    "start_time": "2021-11-24T19:54:31.469Z"
   },
   {
    "duration": 9,
    "start_time": "2021-11-24T19:54:31.505Z"
   },
   {
    "duration": 13,
    "start_time": "2021-11-24T19:54:31.518Z"
   },
   {
    "duration": 68,
    "start_time": "2021-11-24T19:54:31.535Z"
   },
   {
    "duration": 72,
    "start_time": "2021-11-24T19:54:31.605Z"
   },
   {
    "duration": 3,
    "start_time": "2021-11-24T19:54:31.679Z"
   },
   {
    "duration": 410,
    "start_time": "2021-11-24T19:54:31.685Z"
   },
   {
    "duration": 1021,
    "start_time": "2021-11-24T19:54:32.098Z"
   },
   {
    "duration": 416,
    "start_time": "2021-11-24T19:54:33.121Z"
   },
   {
    "duration": 49,
    "start_time": "2021-11-24T19:54:33.540Z"
   },
   {
    "duration": 5,
    "start_time": "2021-11-24T19:54:33.592Z"
   },
   {
    "duration": 93,
    "start_time": "2021-11-24T19:54:33.600Z"
   },
   {
    "duration": 699,
    "start_time": "2021-11-24T19:54:33.695Z"
   },
   {
    "duration": 707,
    "start_time": "2021-11-24T19:54:34.396Z"
   },
   {
    "duration": 674,
    "start_time": "2021-11-24T19:54:35.105Z"
   },
   {
    "duration": 701,
    "start_time": "2021-11-24T19:54:35.782Z"
   },
   {
    "duration": 33,
    "start_time": "2021-11-24T19:54:36.485Z"
   },
   {
    "duration": 22,
    "start_time": "2021-11-24T19:54:36.523Z"
   },
   {
    "duration": 66,
    "start_time": "2021-11-24T19:54:36.548Z"
   },
   {
    "duration": 320,
    "start_time": "2021-11-24T19:54:36.616Z"
   },
   {
    "duration": 10,
    "start_time": "2021-11-24T19:54:36.938Z"
   },
   {
    "duration": 584,
    "start_time": "2021-11-24T19:54:36.968Z"
   },
   {
    "duration": 625,
    "start_time": "2021-11-24T19:56:43.089Z"
   },
   {
    "duration": 560,
    "start_time": "2021-11-24T19:58:17.531Z"
   },
   {
    "duration": 567,
    "start_time": "2021-11-24T20:00:16.757Z"
   },
   {
    "duration": 550,
    "start_time": "2021-11-24T20:01:34.467Z"
   },
   {
    "duration": 663,
    "start_time": "2021-11-24T20:02:14.051Z"
   },
   {
    "duration": 1112,
    "start_time": "2021-11-24T20:03:57.984Z"
   },
   {
    "duration": 2209,
    "start_time": "2021-11-24T20:04:17.444Z"
   },
   {
    "duration": 858,
    "start_time": "2021-11-25T05:49:30.879Z"
   },
   {
    "duration": 102,
    "start_time": "2021-11-25T05:49:31.740Z"
   },
   {
    "duration": 26,
    "start_time": "2021-11-25T05:49:31.845Z"
   },
   {
    "duration": 12,
    "start_time": "2021-11-25T05:49:31.874Z"
   },
   {
    "duration": 90,
    "start_time": "2021-11-25T05:49:31.889Z"
   },
   {
    "duration": 34,
    "start_time": "2021-11-25T05:49:31.982Z"
   },
   {
    "duration": 9,
    "start_time": "2021-11-25T05:49:32.019Z"
   },
   {
    "duration": 34,
    "start_time": "2021-11-25T05:49:32.031Z"
   },
   {
    "duration": 37,
    "start_time": "2021-11-25T05:49:32.070Z"
   },
   {
    "duration": 75,
    "start_time": "2021-11-25T05:49:32.110Z"
   },
   {
    "duration": 3,
    "start_time": "2021-11-25T05:49:32.187Z"
   },
   {
    "duration": 403,
    "start_time": "2021-11-25T05:49:32.193Z"
   },
   {
    "duration": 1063,
    "start_time": "2021-11-25T05:49:32.599Z"
   },
   {
    "duration": 380,
    "start_time": "2021-11-25T05:49:33.664Z"
   },
   {
    "duration": 42,
    "start_time": "2021-11-25T05:49:34.047Z"
   },
   {
    "duration": 6,
    "start_time": "2021-11-25T05:49:34.092Z"
   },
   {
    "duration": 81,
    "start_time": "2021-11-25T05:49:34.100Z"
   },
   {
    "duration": 699,
    "start_time": "2021-11-25T05:49:34.184Z"
   },
   {
    "duration": 668,
    "start_time": "2021-11-25T05:49:34.886Z"
   },
   {
    "duration": 691,
    "start_time": "2021-11-25T05:49:35.560Z"
   },
   {
    "duration": 665,
    "start_time": "2021-11-25T05:49:36.254Z"
   },
   {
    "duration": 46,
    "start_time": "2021-11-25T05:49:36.922Z"
   },
   {
    "duration": 12,
    "start_time": "2021-11-25T05:49:36.971Z"
   },
   {
    "duration": 73,
    "start_time": "2021-11-25T05:49:36.986Z"
   },
   {
    "duration": 307,
    "start_time": "2021-11-25T05:49:37.062Z"
   },
   {
    "duration": 8,
    "start_time": "2021-11-25T05:49:37.372Z"
   },
   {
    "duration": 619,
    "start_time": "2021-11-25T05:49:37.385Z"
   },
   {
    "duration": 582,
    "start_time": "2021-11-25T05:49:38.007Z"
   },
   {
    "duration": 613,
    "start_time": "2021-11-25T05:49:38.592Z"
   },
   {
    "duration": 102,
    "start_time": "2021-11-25T05:49:39.207Z"
   },
   {
    "duration": 32,
    "start_time": "2021-11-25T05:55:41.680Z"
   },
   {
    "duration": 23,
    "start_time": "2021-11-25T05:56:03.336Z"
   },
   {
    "duration": 646,
    "start_time": "2021-11-25T05:59:24.708Z"
   },
   {
    "duration": 281,
    "start_time": "2021-11-25T05:59:33.356Z"
   },
   {
    "duration": 675,
    "start_time": "2021-11-25T15:20:54.517Z"
   },
   {
    "duration": 59,
    "start_time": "2021-11-25T15:20:55.194Z"
   },
   {
    "duration": 10,
    "start_time": "2021-11-25T15:20:55.255Z"
   },
   {
    "duration": 22,
    "start_time": "2021-11-25T15:20:55.267Z"
   },
   {
    "duration": 43,
    "start_time": "2021-11-25T15:20:55.290Z"
   },
   {
    "duration": 24,
    "start_time": "2021-11-25T15:20:55.334Z"
   },
   {
    "duration": 6,
    "start_time": "2021-11-25T15:20:55.359Z"
   },
   {
    "duration": 27,
    "start_time": "2021-11-25T15:20:55.367Z"
   },
   {
    "duration": 22,
    "start_time": "2021-11-25T15:20:55.397Z"
   },
   {
    "duration": 50,
    "start_time": "2021-11-25T15:20:55.421Z"
   },
   {
    "duration": 3,
    "start_time": "2021-11-25T15:20:55.488Z"
   },
   {
    "duration": 231,
    "start_time": "2021-11-25T15:20:55.500Z"
   },
   {
    "duration": 540,
    "start_time": "2021-11-25T15:20:55.733Z"
   },
   {
    "duration": 223,
    "start_time": "2021-11-25T15:20:56.274Z"
   },
   {
    "duration": 22,
    "start_time": "2021-11-25T15:20:56.499Z"
   },
   {
    "duration": 3,
    "start_time": "2021-11-25T15:20:56.522Z"
   },
   {
    "duration": 30,
    "start_time": "2021-11-25T15:20:56.527Z"
   },
   {
    "duration": 34,
    "start_time": "2021-11-25T15:20:56.558Z"
   },
   {
    "duration": 434,
    "start_time": "2021-11-25T15:20:56.594Z"
   },
   {
    "duration": 231,
    "start_time": "2021-11-25T15:20:57.030Z"
   },
   {
    "duration": 434,
    "start_time": "2021-11-25T15:20:57.262Z"
   },
   {
    "duration": 417,
    "start_time": "2021-11-25T15:20:57.698Z"
   },
   {
    "duration": 19,
    "start_time": "2021-11-25T15:20:58.117Z"
   },
   {
    "duration": 7,
    "start_time": "2021-11-25T15:20:58.138Z"
   },
   {
    "duration": 48,
    "start_time": "2021-11-25T15:20:58.146Z"
   },
   {
    "duration": 170,
    "start_time": "2021-11-25T15:20:58.195Z"
   },
   {
    "duration": 6,
    "start_time": "2021-11-25T15:20:58.368Z"
   },
   {
    "duration": 378,
    "start_time": "2021-11-25T15:20:58.375Z"
   },
   {
    "duration": 383,
    "start_time": "2021-11-25T15:20:58.755Z"
   },
   {
    "duration": 401,
    "start_time": "2021-11-25T15:20:59.139Z"
   },
   {
    "duration": 84,
    "start_time": "2021-11-25T15:20:59.542Z"
   },
   {
    "duration": 114,
    "start_time": "2021-11-25T15:27:59.664Z"
   },
   {
    "duration": 133,
    "start_time": "2021-11-25T15:28:16.495Z"
   },
   {
    "duration": 130,
    "start_time": "2021-11-25T15:28:33.529Z"
   },
   {
    "duration": 455,
    "start_time": "2021-11-25T15:32:16.318Z"
   },
   {
    "duration": 163,
    "start_time": "2021-11-25T15:32:25.944Z"
   },
   {
    "duration": 214,
    "start_time": "2021-11-25T15:34:24.702Z"
   },
   {
    "duration": 395,
    "start_time": "2021-11-25T15:34:51.019Z"
   },
   {
    "duration": 165,
    "start_time": "2021-11-25T15:35:04.589Z"
   },
   {
    "duration": 162,
    "start_time": "2021-11-25T15:35:18.537Z"
   },
   {
    "duration": 160,
    "start_time": "2021-11-25T15:35:23.564Z"
   },
   {
    "duration": 170,
    "start_time": "2021-11-25T15:35:38.083Z"
   },
   {
    "duration": 157,
    "start_time": "2021-11-25T15:35:51.596Z"
   },
   {
    "duration": 176,
    "start_time": "2021-11-25T15:36:00.785Z"
   },
   {
    "duration": 182,
    "start_time": "2021-11-25T15:36:03.851Z"
   },
   {
    "duration": 259,
    "start_time": "2021-11-25T15:38:52.808Z"
   },
   {
    "duration": 28,
    "start_time": "2021-11-25T15:40:32.245Z"
   },
   {
    "duration": 818,
    "start_time": "2021-11-25T15:41:02.341Z"
   },
   {
    "duration": 402,
    "start_time": "2021-11-25T15:41:35.329Z"
   },
   {
    "duration": 200,
    "start_time": "2021-11-25T15:41:49.936Z"
   },
   {
    "duration": 424,
    "start_time": "2021-11-25T15:44:46.882Z"
   },
   {
    "duration": 139,
    "start_time": "2021-11-25T15:44:57.326Z"
   },
   {
    "duration": 147,
    "start_time": "2021-11-25T15:47:13.535Z"
   },
   {
    "duration": 22,
    "start_time": "2021-11-25T15:47:27.347Z"
   },
   {
    "duration": 881,
    "start_time": "2021-11-25T15:47:48.367Z"
   },
   {
    "duration": 125,
    "start_time": "2021-11-25T15:48:16.816Z"
   },
   {
    "duration": 260,
    "start_time": "2021-11-25T15:52:33.641Z"
   },
   {
    "duration": 6332,
    "start_time": "2021-11-25T15:53:02.261Z"
   },
   {
    "duration": 254,
    "start_time": "2021-11-25T15:54:24.208Z"
   },
   {
    "duration": 9,
    "start_time": "2021-11-25T15:54:28.527Z"
   },
   {
    "duration": 29,
    "start_time": "2021-11-25T15:55:13.966Z"
   },
   {
    "duration": 13,
    "start_time": "2021-11-25T15:55:23.026Z"
   },
   {
    "duration": 650,
    "start_time": "2021-11-25T15:55:43.052Z"
   },
   {
    "duration": 71,
    "start_time": "2021-11-25T15:55:43.704Z"
   },
   {
    "duration": 11,
    "start_time": "2021-11-25T15:55:43.788Z"
   },
   {
    "duration": 12,
    "start_time": "2021-11-25T15:55:43.801Z"
   },
   {
    "duration": 44,
    "start_time": "2021-11-25T15:55:43.815Z"
   },
   {
    "duration": 26,
    "start_time": "2021-11-25T15:55:43.887Z"
   },
   {
    "duration": 8,
    "start_time": "2021-11-25T15:55:43.915Z"
   },
   {
    "duration": 20,
    "start_time": "2021-11-25T15:55:43.925Z"
   },
   {
    "duration": 27,
    "start_time": "2021-11-25T15:55:43.948Z"
   },
   {
    "duration": 31,
    "start_time": "2021-11-25T15:55:43.988Z"
   },
   {
    "duration": 391,
    "start_time": "2021-11-25T15:55:44.020Z"
   },
   {
    "duration": 364,
    "start_time": "2021-11-25T15:55:44.413Z"
   },
   {
    "duration": 260,
    "start_time": "2021-11-25T15:55:44.779Z"
   },
   {
    "duration": 339,
    "start_time": "2021-11-25T15:55:45.041Z"
   },
   {
    "duration": 371,
    "start_time": "2021-11-25T15:55:45.388Z"
   },
   {
    "duration": 304,
    "start_time": "2021-11-25T15:55:45.761Z"
   },
   {
    "duration": 43,
    "start_time": "2021-11-25T15:55:46.067Z"
   },
   {
    "duration": 4,
    "start_time": "2021-11-25T15:55:46.112Z"
   },
   {
    "duration": 58,
    "start_time": "2021-11-25T15:55:46.118Z"
   },
   {
    "duration": 166,
    "start_time": "2021-11-25T15:55:46.178Z"
   },
   {
    "duration": 19,
    "start_time": "2021-11-25T15:55:46.346Z"
   },
   {
    "duration": 395,
    "start_time": "2021-11-25T15:55:46.368Z"
   },
   {
    "duration": 169,
    "start_time": "2021-11-25T15:55:46.766Z"
   },
   {
    "duration": 12,
    "start_time": "2021-11-25T15:55:46.936Z"
   },
   {
    "duration": 342,
    "start_time": "2021-11-25T15:55:46.950Z"
   },
   {
    "duration": -2061,
    "start_time": "2021-11-25T15:55:49.355Z"
   },
   {
    "duration": -2074,
    "start_time": "2021-11-25T15:55:49.370Z"
   },
   {
    "duration": -2076,
    "start_time": "2021-11-25T15:55:49.373Z"
   },
   {
    "duration": -2075,
    "start_time": "2021-11-25T15:55:49.374Z"
   },
   {
    "duration": -2076,
    "start_time": "2021-11-25T15:55:49.376Z"
   },
   {
    "duration": -2077,
    "start_time": "2021-11-25T15:55:49.378Z"
   },
   {
    "duration": -2077,
    "start_time": "2021-11-25T15:55:49.380Z"
   },
   {
    "duration": -2078,
    "start_time": "2021-11-25T15:55:49.382Z"
   },
   {
    "duration": -2078,
    "start_time": "2021-11-25T15:55:49.384Z"
   },
   {
    "duration": -2079,
    "start_time": "2021-11-25T15:55:49.386Z"
   },
   {
    "duration": 21,
    "start_time": "2021-11-25T15:58:05.609Z"
   },
   {
    "duration": 255,
    "start_time": "2021-11-25T15:58:15.754Z"
   },
   {
    "duration": 6082,
    "start_time": "2021-11-25T15:58:32.020Z"
   },
   {
    "duration": 276,
    "start_time": "2021-11-25T15:58:59.887Z"
   },
   {
    "duration": 7,
    "start_time": "2021-11-25T15:59:55.462Z"
   },
   {
    "duration": 13,
    "start_time": "2021-11-25T16:00:02.311Z"
   },
   {
    "duration": 507,
    "start_time": "2021-11-25T16:00:07.187Z"
   },
   {
    "duration": 387,
    "start_time": "2021-11-25T16:00:34.886Z"
   },
   {
    "duration": 144,
    "start_time": "2021-11-25T16:01:06.974Z"
   },
   {
    "duration": 139,
    "start_time": "2021-11-25T16:03:27.922Z"
   },
   {
    "duration": 151,
    "start_time": "2021-11-25T16:04:05.097Z"
   },
   {
    "duration": 163,
    "start_time": "2021-11-25T16:05:05.556Z"
   },
   {
    "duration": 584,
    "start_time": "2021-11-25T16:05:47.542Z"
   },
   {
    "duration": 68,
    "start_time": "2021-11-25T16:05:48.129Z"
   },
   {
    "duration": 8,
    "start_time": "2021-11-25T16:05:48.199Z"
   },
   {
    "duration": 7,
    "start_time": "2021-11-25T16:05:48.209Z"
   },
   {
    "duration": 44,
    "start_time": "2021-11-25T16:05:48.217Z"
   },
   {
    "duration": 42,
    "start_time": "2021-11-25T16:05:48.263Z"
   },
   {
    "duration": 6,
    "start_time": "2021-11-25T16:05:48.307Z"
   },
   {
    "duration": 11,
    "start_time": "2021-11-25T16:05:48.315Z"
   },
   {
    "duration": 21,
    "start_time": "2021-11-25T16:05:48.328Z"
   },
   {
    "duration": 48,
    "start_time": "2021-11-25T16:05:48.351Z"
   },
   {
    "duration": 241,
    "start_time": "2021-11-25T16:05:48.400Z"
   },
   {
    "duration": 211,
    "start_time": "2021-11-25T16:05:48.643Z"
   },
   {
    "duration": 156,
    "start_time": "2021-11-25T16:05:48.856Z"
   },
   {
    "duration": 198,
    "start_time": "2021-11-25T16:05:49.013Z"
   },
   {
    "duration": 224,
    "start_time": "2021-11-25T16:05:49.213Z"
   },
   {
    "duration": 181,
    "start_time": "2021-11-25T16:05:49.438Z"
   },
   {
    "duration": 21,
    "start_time": "2021-11-25T16:05:49.621Z"
   },
   {
    "duration": 3,
    "start_time": "2021-11-25T16:05:49.643Z"
   },
   {
    "duration": 48,
    "start_time": "2021-11-25T16:05:49.647Z"
   },
   {
    "duration": 148,
    "start_time": "2021-11-25T16:05:49.696Z"
   },
   {
    "duration": 14,
    "start_time": "2021-11-25T16:05:49.846Z"
   },
   {
    "duration": 379,
    "start_time": "2021-11-25T16:05:49.861Z"
   },
   {
    "duration": 167,
    "start_time": "2021-11-25T16:05:50.243Z"
   },
   {
    "duration": 23,
    "start_time": "2021-11-25T16:05:50.413Z"
   },
   {
    "duration": 171,
    "start_time": "2021-11-25T16:05:50.437Z"
   },
   {
    "duration": 155,
    "start_time": "2021-11-25T16:05:50.610Z"
   },
   {
    "duration": 163,
    "start_time": "2021-11-25T16:05:50.767Z"
   },
   {
    "duration": 149,
    "start_time": "2021-11-25T16:05:50.931Z"
   },
   {
    "duration": 19,
    "start_time": "2021-11-25T16:05:51.087Z"
   },
   {
    "duration": 9,
    "start_time": "2021-11-25T16:05:51.107Z"
   },
   {
    "duration": 27,
    "start_time": "2021-11-25T16:05:51.118Z"
   },
   {
    "duration": 175,
    "start_time": "2021-11-25T16:05:51.147Z"
   },
   {
    "duration": 5,
    "start_time": "2021-11-25T16:05:51.324Z"
   },
   {
    "duration": 374,
    "start_time": "2021-11-25T16:05:51.330Z"
   },
   {
    "duration": 400,
    "start_time": "2021-11-25T16:05:51.706Z"
   },
   {
    "duration": 329,
    "start_time": "2021-11-25T16:05:52.108Z"
   },
   {
    "duration": 88,
    "start_time": "2021-11-25T16:05:52.439Z"
   },
   {
    "duration": 6273,
    "start_time": "2021-11-25T16:06:08.625Z"
   },
   {
    "duration": 147,
    "start_time": "2021-11-25T16:06:18.915Z"
   },
   {
    "duration": 142,
    "start_time": "2021-11-25T16:08:17.951Z"
   },
   {
    "duration": 6,
    "start_time": "2021-11-25T16:11:23.713Z"
   },
   {
    "duration": 5,
    "start_time": "2021-11-25T16:11:34.338Z"
   },
   {
    "duration": 255,
    "start_time": "2021-11-25T16:12:11.525Z"
   },
   {
    "duration": 253,
    "start_time": "2021-11-25T16:12:50.585Z"
   },
   {
    "duration": 3,
    "start_time": "2021-11-25T16:12:59.857Z"
   },
   {
    "duration": 243,
    "start_time": "2021-11-25T16:13:38.180Z"
   },
   {
    "duration": 230,
    "start_time": "2021-11-25T16:14:07.323Z"
   },
   {
    "duration": 244,
    "start_time": "2021-11-25T16:14:13.317Z"
   },
   {
    "duration": 235,
    "start_time": "2021-11-25T16:14:25.130Z"
   },
   {
    "duration": 250,
    "start_time": "2021-11-25T16:14:40.078Z"
   },
   {
    "duration": 236,
    "start_time": "2021-11-25T16:15:38.651Z"
   },
   {
    "duration": 8,
    "start_time": "2021-11-25T16:15:45.525Z"
   },
   {
    "duration": 267,
    "start_time": "2021-11-25T16:16:07.970Z"
   },
   {
    "duration": 242,
    "start_time": "2021-11-25T16:17:21.211Z"
   },
   {
    "duration": 7,
    "start_time": "2021-11-25T16:17:39.257Z"
   },
   {
    "duration": 227,
    "start_time": "2021-11-25T16:18:24.541Z"
   },
   {
    "duration": 265,
    "start_time": "2021-11-25T16:18:42.449Z"
   },
   {
    "duration": 7,
    "start_time": "2021-11-25T16:19:43.585Z"
   },
   {
    "duration": 159,
    "start_time": "2021-11-25T16:23:28.171Z"
   },
   {
    "duration": 242,
    "start_time": "2021-11-25T16:24:40.773Z"
   },
   {
    "duration": 556,
    "start_time": "2021-11-25T16:25:33.572Z"
   },
   {
    "duration": 249,
    "start_time": "2021-11-25T16:26:18.597Z"
   },
   {
    "duration": 6,
    "start_time": "2021-11-25T16:26:28.503Z"
   },
   {
    "duration": 7,
    "start_time": "2021-11-25T16:26:34.050Z"
   },
   {
    "duration": 30,
    "start_time": "2021-11-25T16:26:50.018Z"
   },
   {
    "duration": 250,
    "start_time": "2021-11-25T16:27:08.983Z"
   },
   {
    "duration": 8,
    "start_time": "2021-11-25T16:27:45.148Z"
   },
   {
    "duration": 10,
    "start_time": "2021-11-25T16:28:21.630Z"
   },
   {
    "duration": 10,
    "start_time": "2021-11-25T16:28:44.951Z"
   },
   {
    "duration": 10,
    "start_time": "2021-11-25T16:29:12.231Z"
   },
   {
    "duration": 1039,
    "start_time": "2021-11-25T16:30:10.193Z"
   },
   {
    "duration": 284,
    "start_time": "2021-11-25T16:30:25.703Z"
   },
   {
    "duration": 235,
    "start_time": "2021-11-25T16:30:47.484Z"
   },
   {
    "duration": 30,
    "start_time": "2021-11-25T16:31:17.803Z"
   },
   {
    "duration": 242,
    "start_time": "2021-11-25T16:31:30.408Z"
   },
   {
    "duration": 4,
    "start_time": "2021-11-25T16:31:44.970Z"
   },
   {
    "duration": 9,
    "start_time": "2021-11-25T16:31:53.226Z"
   },
   {
    "duration": 6,
    "start_time": "2021-11-25T16:32:06.535Z"
   },
   {
    "duration": 648,
    "start_time": "2021-11-25T16:32:13.478Z"
   },
   {
    "duration": 61,
    "start_time": "2021-11-25T16:32:14.128Z"
   },
   {
    "duration": 9,
    "start_time": "2021-11-25T16:32:14.191Z"
   },
   {
    "duration": 8,
    "start_time": "2021-11-25T16:32:14.202Z"
   },
   {
    "duration": 45,
    "start_time": "2021-11-25T16:32:14.211Z"
   },
   {
    "duration": 43,
    "start_time": "2021-11-25T16:32:14.257Z"
   },
   {
    "duration": 6,
    "start_time": "2021-11-25T16:32:14.302Z"
   },
   {
    "duration": 8,
    "start_time": "2021-11-25T16:32:14.309Z"
   },
   {
    "duration": 22,
    "start_time": "2021-11-25T16:32:14.319Z"
   },
   {
    "duration": 52,
    "start_time": "2021-11-25T16:32:14.343Z"
   },
   {
    "duration": 257,
    "start_time": "2021-11-25T16:32:14.397Z"
   },
   {
    "duration": 217,
    "start_time": "2021-11-25T16:32:14.655Z"
   },
   {
    "duration": 167,
    "start_time": "2021-11-25T16:32:14.874Z"
   },
   {
    "duration": 199,
    "start_time": "2021-11-25T16:32:15.042Z"
   },
   {
    "duration": 229,
    "start_time": "2021-11-25T16:32:15.243Z"
   },
   {
    "duration": 178,
    "start_time": "2021-11-25T16:32:15.474Z"
   },
   {
    "duration": 21,
    "start_time": "2021-11-25T16:32:15.654Z"
   },
   {
    "duration": 13,
    "start_time": "2021-11-25T16:32:15.676Z"
   },
   {
    "duration": 29,
    "start_time": "2021-11-25T16:32:15.690Z"
   },
   {
    "duration": 153,
    "start_time": "2021-11-25T16:32:15.720Z"
   },
   {
    "duration": 22,
    "start_time": "2021-11-25T16:32:15.875Z"
   },
   {
    "duration": 353,
    "start_time": "2021-11-25T16:32:15.898Z"
   },
   {
    "duration": 158,
    "start_time": "2021-11-25T16:32:16.252Z"
   },
   {
    "duration": 22,
    "start_time": "2021-11-25T16:32:16.411Z"
   },
   {
    "duration": 162,
    "start_time": "2021-11-25T16:32:16.435Z"
   },
   {
    "duration": 161,
    "start_time": "2021-11-25T16:32:16.598Z"
   },
   {
    "duration": 170,
    "start_time": "2021-11-25T16:32:16.762Z"
   },
   {
    "duration": 148,
    "start_time": "2021-11-25T16:32:16.934Z"
   },
   {
    "duration": 7,
    "start_time": "2021-11-25T16:32:17.087Z"
   },
   {
    "duration": 19,
    "start_time": "2021-11-25T16:32:17.096Z"
   },
   {
    "duration": 7,
    "start_time": "2021-11-25T16:32:17.117Z"
   },
   {
    "duration": 28,
    "start_time": "2021-11-25T16:32:17.125Z"
   },
   {
    "duration": 182,
    "start_time": "2021-11-25T16:32:17.154Z"
   },
   {
    "duration": 5,
    "start_time": "2021-11-25T16:32:17.338Z"
   },
   {
    "duration": 371,
    "start_time": "2021-11-25T16:32:17.345Z"
   },
   {
    "duration": 394,
    "start_time": "2021-11-25T16:32:17.718Z"
   },
   {
    "duration": 313,
    "start_time": "2021-11-25T16:32:18.114Z"
   },
   {
    "duration": 82,
    "start_time": "2021-11-25T16:32:18.429Z"
   },
   {
    "duration": 282,
    "start_time": "2021-11-25T16:33:33.399Z"
   },
   {
    "duration": 9,
    "start_time": "2021-11-25T16:33:53.103Z"
   },
   {
    "duration": 641,
    "start_time": "2021-11-25T16:34:16.009Z"
   },
   {
    "duration": 61,
    "start_time": "2021-11-25T16:34:16.652Z"
   },
   {
    "duration": 8,
    "start_time": "2021-11-25T16:34:16.717Z"
   },
   {
    "duration": 7,
    "start_time": "2021-11-25T16:34:16.727Z"
   },
   {
    "duration": 60,
    "start_time": "2021-11-25T16:34:16.735Z"
   },
   {
    "duration": 22,
    "start_time": "2021-11-25T16:34:16.796Z"
   },
   {
    "duration": 5,
    "start_time": "2021-11-25T16:34:16.820Z"
   },
   {
    "duration": 11,
    "start_time": "2021-11-25T16:34:16.827Z"
   },
   {
    "duration": 21,
    "start_time": "2021-11-25T16:34:16.840Z"
   },
   {
    "duration": 48,
    "start_time": "2021-11-25T16:34:16.862Z"
   },
   {
    "duration": 239,
    "start_time": "2021-11-25T16:34:16.911Z"
   },
   {
    "duration": 227,
    "start_time": "2021-11-25T16:34:17.151Z"
   },
   {
    "duration": 161,
    "start_time": "2021-11-25T16:34:17.379Z"
   },
   {
    "duration": 205,
    "start_time": "2021-11-25T16:34:17.542Z"
   },
   {
    "duration": 226,
    "start_time": "2021-11-25T16:34:17.748Z"
   },
   {
    "duration": 178,
    "start_time": "2021-11-25T16:34:17.975Z"
   },
   {
    "duration": 22,
    "start_time": "2021-11-25T16:34:18.154Z"
   },
   {
    "duration": 12,
    "start_time": "2021-11-25T16:34:18.177Z"
   },
   {
    "duration": 34,
    "start_time": "2021-11-25T16:34:18.190Z"
   },
   {
    "duration": 149,
    "start_time": "2021-11-25T16:34:18.226Z"
   },
   {
    "duration": 19,
    "start_time": "2021-11-25T16:34:18.377Z"
   },
   {
    "duration": 351,
    "start_time": "2021-11-25T16:34:18.398Z"
   },
   {
    "duration": 155,
    "start_time": "2021-11-25T16:34:18.751Z"
   },
   {
    "duration": 19,
    "start_time": "2021-11-25T16:34:18.907Z"
   },
   {
    "duration": 157,
    "start_time": "2021-11-25T16:34:18.927Z"
   },
   {
    "duration": 163,
    "start_time": "2021-11-25T16:34:19.087Z"
   },
   {
    "duration": 170,
    "start_time": "2021-11-25T16:34:19.252Z"
   },
   {
    "duration": 152,
    "start_time": "2021-11-25T16:34:19.424Z"
   },
   {
    "duration": 15,
    "start_time": "2021-11-25T16:34:19.578Z"
   },
   {
    "duration": 17,
    "start_time": "2021-11-25T16:34:19.595Z"
   },
   {
    "duration": 7,
    "start_time": "2021-11-25T16:34:19.613Z"
   },
   {
    "duration": 25,
    "start_time": "2021-11-25T16:34:19.621Z"
   },
   {
    "duration": 182,
    "start_time": "2021-11-25T16:34:19.648Z"
   },
   {
    "duration": 5,
    "start_time": "2021-11-25T16:34:19.832Z"
   },
   {
    "duration": 394,
    "start_time": "2021-11-25T16:34:19.838Z"
   },
   {
    "duration": 401,
    "start_time": "2021-11-25T16:34:20.234Z"
   },
   {
    "duration": 354,
    "start_time": "2021-11-25T16:34:20.637Z"
   },
   {
    "duration": 87,
    "start_time": "2021-11-25T16:34:20.993Z"
   },
   {
    "duration": 323,
    "start_time": "2021-11-25T16:41:50.132Z"
   },
   {
    "duration": 9,
    "start_time": "2021-11-25T16:42:06.968Z"
   },
   {
    "duration": 595,
    "start_time": "2021-11-25T16:42:28.845Z"
   },
   {
    "duration": 67,
    "start_time": "2021-11-25T16:42:29.441Z"
   },
   {
    "duration": 9,
    "start_time": "2021-11-25T16:42:29.509Z"
   },
   {
    "duration": 9,
    "start_time": "2021-11-25T16:42:29.520Z"
   },
   {
    "duration": 60,
    "start_time": "2021-11-25T16:42:29.530Z"
   },
   {
    "duration": 23,
    "start_time": "2021-11-25T16:42:29.591Z"
   },
   {
    "duration": 6,
    "start_time": "2021-11-25T16:42:29.615Z"
   },
   {
    "duration": 8,
    "start_time": "2021-11-25T16:42:29.623Z"
   },
   {
    "duration": 22,
    "start_time": "2021-11-25T16:42:29.632Z"
   },
   {
    "duration": 57,
    "start_time": "2021-11-25T16:42:29.655Z"
   },
   {
    "duration": 234,
    "start_time": "2021-11-25T16:42:29.713Z"
   },
   {
    "duration": 218,
    "start_time": "2021-11-25T16:42:29.949Z"
   },
   {
    "duration": 157,
    "start_time": "2021-11-25T16:42:30.169Z"
   },
   {
    "duration": 207,
    "start_time": "2021-11-25T16:42:30.327Z"
   },
   {
    "duration": 222,
    "start_time": "2021-11-25T16:42:30.536Z"
   },
   {
    "duration": 178,
    "start_time": "2021-11-25T16:42:30.760Z"
   },
   {
    "duration": 22,
    "start_time": "2021-11-25T16:42:30.939Z"
   },
   {
    "duration": 3,
    "start_time": "2021-11-25T16:42:30.962Z"
   },
   {
    "duration": 46,
    "start_time": "2021-11-25T16:42:30.967Z"
   },
   {
    "duration": 148,
    "start_time": "2021-11-25T16:42:31.015Z"
   },
   {
    "duration": 24,
    "start_time": "2021-11-25T16:42:31.164Z"
   },
   {
    "duration": 357,
    "start_time": "2021-11-25T16:42:31.190Z"
   },
   {
    "duration": 158,
    "start_time": "2021-11-25T16:42:31.551Z"
   },
   {
    "duration": 20,
    "start_time": "2021-11-25T16:42:31.711Z"
   },
   {
    "duration": 159,
    "start_time": "2021-11-25T16:42:31.732Z"
   },
   {
    "duration": 230,
    "start_time": "2021-11-25T16:42:31.892Z"
   },
   {
    "duration": 235,
    "start_time": "2021-11-25T16:42:32.123Z"
   },
   {
    "duration": 210,
    "start_time": "2021-11-25T16:42:32.360Z"
   },
   {
    "duration": 23,
    "start_time": "2021-11-25T16:42:32.572Z"
   },
   {
    "duration": 36,
    "start_time": "2021-11-25T16:42:32.596Z"
   },
   {
    "duration": 171,
    "start_time": "2021-11-25T16:42:32.633Z"
   },
   {
    "duration": 5,
    "start_time": "2021-11-25T16:42:32.805Z"
   },
   {
    "duration": 329,
    "start_time": "2021-11-25T16:42:32.812Z"
   },
   {
    "duration": 381,
    "start_time": "2021-11-25T16:42:33.143Z"
   },
   {
    "duration": 333,
    "start_time": "2021-11-25T16:42:33.525Z"
   },
   {
    "duration": 10,
    "start_time": "2021-11-25T16:48:12.485Z"
   },
   {
    "duration": 603,
    "start_time": "2021-11-25T16:50:03.642Z"
   },
   {
    "duration": 70,
    "start_time": "2021-11-25T16:50:04.247Z"
   },
   {
    "duration": 9,
    "start_time": "2021-11-25T16:50:04.319Z"
   },
   {
    "duration": 7,
    "start_time": "2021-11-25T16:50:04.330Z"
   },
   {
    "duration": 62,
    "start_time": "2021-11-25T16:50:04.339Z"
   },
   {
    "duration": 22,
    "start_time": "2021-11-25T16:50:04.402Z"
   },
   {
    "duration": 10,
    "start_time": "2021-11-25T16:50:04.426Z"
   },
   {
    "duration": 27,
    "start_time": "2021-11-25T16:50:04.439Z"
   },
   {
    "duration": 23,
    "start_time": "2021-11-25T16:50:04.468Z"
   },
   {
    "duration": 32,
    "start_time": "2021-11-25T16:50:04.493Z"
   },
   {
    "duration": 251,
    "start_time": "2021-11-25T16:50:04.526Z"
   },
   {
    "duration": 220,
    "start_time": "2021-11-25T16:50:04.778Z"
   },
   {
    "duration": 174,
    "start_time": "2021-11-25T16:50:05.000Z"
   },
   {
    "duration": 195,
    "start_time": "2021-11-25T16:50:05.176Z"
   },
   {
    "duration": 225,
    "start_time": "2021-11-25T16:50:05.373Z"
   },
   {
    "duration": 190,
    "start_time": "2021-11-25T16:50:05.600Z"
   },
   {
    "duration": 23,
    "start_time": "2021-11-25T16:50:05.791Z"
   },
   {
    "duration": 4,
    "start_time": "2021-11-25T16:50:05.815Z"
   },
   {
    "duration": 29,
    "start_time": "2021-11-25T16:50:05.821Z"
   },
   {
    "duration": 163,
    "start_time": "2021-11-25T16:50:05.852Z"
   },
   {
    "duration": 15,
    "start_time": "2021-11-25T16:50:06.017Z"
   },
   {
    "duration": 430,
    "start_time": "2021-11-25T16:50:06.033Z"
   },
   {
    "duration": 159,
    "start_time": "2021-11-25T16:50:06.466Z"
   },
   {
    "duration": 19,
    "start_time": "2021-11-25T16:50:06.627Z"
   },
   {
    "duration": 266,
    "start_time": "2021-11-25T16:50:06.648Z"
   },
   {
    "duration": 162,
    "start_time": "2021-11-25T16:50:06.915Z"
   },
   {
    "duration": 174,
    "start_time": "2021-11-25T16:50:07.079Z"
   },
   {
    "duration": 145,
    "start_time": "2021-11-25T16:50:07.255Z"
   },
   {
    "duration": 11,
    "start_time": "2021-11-25T16:50:07.402Z"
   },
   {
    "duration": 26,
    "start_time": "2021-11-25T16:50:07.415Z"
   },
   {
    "duration": 186,
    "start_time": "2021-11-25T16:50:07.443Z"
   },
   {
    "duration": 7,
    "start_time": "2021-11-25T16:50:07.631Z"
   },
   {
    "duration": 402,
    "start_time": "2021-11-25T16:50:07.640Z"
   },
   {
    "duration": 381,
    "start_time": "2021-11-25T16:50:08.044Z"
   },
   {
    "duration": 327,
    "start_time": "2021-11-25T16:50:08.427Z"
   },
   {
    "duration": 11,
    "start_time": "2021-11-25T16:52:11.193Z"
   },
   {
    "duration": 725,
    "start_time": "2021-11-25T16:52:18.052Z"
   },
   {
    "duration": 83,
    "start_time": "2021-11-25T16:52:18.779Z"
   },
   {
    "duration": 21,
    "start_time": "2021-11-25T16:52:18.867Z"
   },
   {
    "duration": 8,
    "start_time": "2021-11-25T16:52:18.889Z"
   },
   {
    "duration": 43,
    "start_time": "2021-11-25T16:52:18.899Z"
   },
   {
    "duration": 22,
    "start_time": "2021-11-25T16:52:18.943Z"
   },
   {
    "duration": 25,
    "start_time": "2021-11-25T16:52:18.966Z"
   },
   {
    "duration": 8,
    "start_time": "2021-11-25T16:52:18.993Z"
   },
   {
    "duration": 24,
    "start_time": "2021-11-25T16:52:19.003Z"
   },
   {
    "duration": 27,
    "start_time": "2021-11-25T16:52:19.028Z"
   },
   {
    "duration": 259,
    "start_time": "2021-11-25T16:52:19.056Z"
   },
   {
    "duration": 229,
    "start_time": "2021-11-25T16:52:19.317Z"
   },
   {
    "duration": 166,
    "start_time": "2021-11-25T16:52:19.547Z"
   },
   {
    "duration": 204,
    "start_time": "2021-11-25T16:52:19.715Z"
   },
   {
    "duration": 229,
    "start_time": "2021-11-25T16:52:19.920Z"
   },
   {
    "duration": 180,
    "start_time": "2021-11-25T16:52:20.151Z"
   },
   {
    "duration": 24,
    "start_time": "2021-11-25T16:52:20.332Z"
   },
   {
    "duration": 3,
    "start_time": "2021-11-25T16:52:20.357Z"
   },
   {
    "duration": 49,
    "start_time": "2021-11-25T16:52:20.362Z"
   },
   {
    "duration": 145,
    "start_time": "2021-11-25T16:52:20.413Z"
   },
   {
    "duration": 27,
    "start_time": "2021-11-25T16:52:20.560Z"
   },
   {
    "duration": 392,
    "start_time": "2021-11-25T16:52:20.589Z"
   },
   {
    "duration": 156,
    "start_time": "2021-11-25T16:52:20.983Z"
   },
   {
    "duration": 20,
    "start_time": "2021-11-25T16:52:21.141Z"
   },
   {
    "duration": 162,
    "start_time": "2021-11-25T16:52:21.162Z"
   },
   {
    "duration": 176,
    "start_time": "2021-11-25T16:52:21.327Z"
   },
   {
    "duration": 169,
    "start_time": "2021-11-25T16:52:21.504Z"
   },
   {
    "duration": 152,
    "start_time": "2021-11-25T16:52:21.674Z"
   },
   {
    "duration": 12,
    "start_time": "2021-11-25T16:52:21.828Z"
   },
   {
    "duration": 27,
    "start_time": "2021-11-25T16:52:21.841Z"
   },
   {
    "duration": 181,
    "start_time": "2021-11-25T16:52:21.870Z"
   },
   {
    "duration": 5,
    "start_time": "2021-11-25T16:52:22.053Z"
   },
   {
    "duration": 362,
    "start_time": "2021-11-25T16:52:22.060Z"
   },
   {
    "duration": 401,
    "start_time": "2021-11-25T16:52:22.424Z"
   },
   {
    "duration": 329,
    "start_time": "2021-11-25T16:52:22.827Z"
   },
   {
    "duration": 25,
    "start_time": "2021-11-25T16:53:43.823Z"
   },
   {
    "duration": 4,
    "start_time": "2021-11-25T16:54:43.052Z"
   },
   {
    "duration": 5,
    "start_time": "2021-11-25T16:55:32.567Z"
   },
   {
    "duration": 5,
    "start_time": "2021-11-25T16:59:17.056Z"
   },
   {
    "duration": 139,
    "start_time": "2021-11-25T17:00:03.841Z"
   },
   {
    "duration": 153,
    "start_time": "2021-11-25T17:00:35.544Z"
   },
   {
    "duration": 375,
    "start_time": "2021-11-25T17:01:11.688Z"
   },
   {
    "duration": 162,
    "start_time": "2021-11-25T17:01:20.470Z"
   },
   {
    "duration": 82,
    "start_time": "2021-11-25T17:02:41.994Z"
   },
   {
    "duration": 657,
    "start_time": "2021-11-25T17:03:54.404Z"
   },
   {
    "duration": 65,
    "start_time": "2021-11-25T17:03:55.063Z"
   },
   {
    "duration": 10,
    "start_time": "2021-11-25T17:03:55.129Z"
   },
   {
    "duration": 7,
    "start_time": "2021-11-25T17:03:55.141Z"
   },
   {
    "duration": 62,
    "start_time": "2021-11-25T17:03:55.149Z"
   },
   {
    "duration": 22,
    "start_time": "2021-11-25T17:03:55.213Z"
   },
   {
    "duration": 6,
    "start_time": "2021-11-25T17:03:55.236Z"
   },
   {
    "duration": 11,
    "start_time": "2021-11-25T17:03:55.244Z"
   },
   {
    "duration": 42,
    "start_time": "2021-11-25T17:03:55.257Z"
   },
   {
    "duration": 27,
    "start_time": "2021-11-25T17:03:55.301Z"
   },
   {
    "duration": 278,
    "start_time": "2021-11-25T17:03:55.329Z"
   },
   {
    "duration": 217,
    "start_time": "2021-11-25T17:03:55.609Z"
   },
   {
    "duration": 161,
    "start_time": "2021-11-25T17:03:55.828Z"
   },
   {
    "duration": 205,
    "start_time": "2021-11-25T17:03:55.991Z"
   },
   {
    "duration": 232,
    "start_time": "2021-11-25T17:03:56.197Z"
   },
   {
    "duration": 189,
    "start_time": "2021-11-25T17:03:56.431Z"
   },
   {
    "duration": 24,
    "start_time": "2021-11-25T17:03:56.621Z"
   },
   {
    "duration": 4,
    "start_time": "2021-11-25T17:03:56.646Z"
   },
   {
    "duration": 55,
    "start_time": "2021-11-25T17:03:56.652Z"
   },
   {
    "duration": 147,
    "start_time": "2021-11-25T17:03:56.709Z"
   },
   {
    "duration": 15,
    "start_time": "2021-11-25T17:03:56.858Z"
   },
   {
    "duration": 393,
    "start_time": "2021-11-25T17:03:56.874Z"
   },
   {
    "duration": 151,
    "start_time": "2021-11-25T17:03:57.270Z"
   },
   {
    "duration": 20,
    "start_time": "2021-11-25T17:03:57.422Z"
   },
   {
    "duration": 159,
    "start_time": "2021-11-25T17:03:57.443Z"
   },
   {
    "duration": 159,
    "start_time": "2021-11-25T17:03:57.604Z"
   },
   {
    "duration": 168,
    "start_time": "2021-11-25T17:03:57.765Z"
   },
   {
    "duration": 146,
    "start_time": "2021-11-25T17:03:57.934Z"
   },
   {
    "duration": 15,
    "start_time": "2021-11-25T17:03:58.081Z"
   },
   {
    "duration": 10,
    "start_time": "2021-11-25T17:03:58.098Z"
   },
   {
    "duration": 27,
    "start_time": "2021-11-25T17:03:58.110Z"
   },
   {
    "duration": 168,
    "start_time": "2021-11-25T17:03:58.138Z"
   },
   {
    "duration": 4,
    "start_time": "2021-11-25T17:03:58.307Z"
   },
   {
    "duration": 148,
    "start_time": "2021-11-25T17:03:58.312Z"
   },
   {
    "duration": 344,
    "start_time": "2021-11-25T17:03:58.462Z"
   },
   {
    "duration": 163,
    "start_time": "2021-11-25T17:03:58.808Z"
   },
   {
    "duration": 1461,
    "start_time": "2021-11-26T08:39:31.124Z"
   },
   {
    "duration": 67,
    "start_time": "2021-11-26T08:39:32.588Z"
   },
   {
    "duration": 11,
    "start_time": "2021-11-26T08:39:32.657Z"
   },
   {
    "duration": 27,
    "start_time": "2021-11-26T08:39:32.670Z"
   },
   {
    "duration": 49,
    "start_time": "2021-11-26T08:39:32.699Z"
   },
   {
    "duration": 41,
    "start_time": "2021-11-26T08:39:32.750Z"
   },
   {
    "duration": 7,
    "start_time": "2021-11-26T08:39:32.793Z"
   },
   {
    "duration": 14,
    "start_time": "2021-11-26T08:39:32.803Z"
   },
   {
    "duration": 24,
    "start_time": "2021-11-26T08:39:32.819Z"
   },
   {
    "duration": 53,
    "start_time": "2021-11-26T08:39:32.844Z"
   },
   {
    "duration": 251,
    "start_time": "2021-11-26T08:39:32.898Z"
   },
   {
    "duration": 247,
    "start_time": "2021-11-26T08:39:33.151Z"
   },
   {
    "duration": 193,
    "start_time": "2021-11-26T08:39:33.400Z"
   },
   {
    "duration": 232,
    "start_time": "2021-11-26T08:39:33.594Z"
   },
   {
    "duration": 266,
    "start_time": "2021-11-26T08:39:33.828Z"
   },
   {
    "duration": 207,
    "start_time": "2021-11-26T08:39:34.095Z"
   },
   {
    "duration": 25,
    "start_time": "2021-11-26T08:39:34.303Z"
   },
   {
    "duration": 3,
    "start_time": "2021-11-26T08:39:34.330Z"
   },
   {
    "duration": 58,
    "start_time": "2021-11-26T08:39:34.335Z"
   },
   {
    "duration": 169,
    "start_time": "2021-11-26T08:39:34.394Z"
   },
   {
    "duration": 28,
    "start_time": "2021-11-26T08:39:34.565Z"
   },
   {
    "duration": 390,
    "start_time": "2021-11-26T08:39:34.595Z"
   },
   {
    "duration": 203,
    "start_time": "2021-11-26T08:39:34.992Z"
   },
   {
    "duration": 22,
    "start_time": "2021-11-26T08:39:35.198Z"
   },
   {
    "duration": 181,
    "start_time": "2021-11-26T08:39:35.222Z"
   },
   {
    "duration": 188,
    "start_time": "2021-11-26T08:39:35.405Z"
   },
   {
    "duration": 194,
    "start_time": "2021-11-26T08:39:35.595Z"
   },
   {
    "duration": 170,
    "start_time": "2021-11-26T08:39:35.792Z"
   },
   {
    "duration": 13,
    "start_time": "2021-11-26T08:39:35.964Z"
   },
   {
    "duration": 17,
    "start_time": "2021-11-26T08:39:35.978Z"
   },
   {
    "duration": 30,
    "start_time": "2021-11-26T08:39:35.997Z"
   },
   {
    "duration": 198,
    "start_time": "2021-11-26T08:39:36.029Z"
   },
   {
    "duration": 5,
    "start_time": "2021-11-26T08:39:36.228Z"
   },
   {
    "duration": 176,
    "start_time": "2021-11-26T08:39:36.234Z"
   },
   {
    "duration": 403,
    "start_time": "2021-11-26T08:39:36.412Z"
   },
   {
    "duration": 186,
    "start_time": "2021-11-26T08:39:36.817Z"
   },
   {
    "duration": 173,
    "start_time": "2021-11-26T08:40:22.587Z"
   },
   {
    "duration": 141,
    "start_time": "2021-11-26T08:40:29.864Z"
   },
   {
    "duration": 728,
    "start_time": "2021-11-26T08:40:37.422Z"
   },
   {
    "duration": 144,
    "start_time": "2021-11-26T08:40:42.416Z"
   },
   {
    "duration": 178,
    "start_time": "2021-11-26T08:44:27.757Z"
   }
  ],
  "kernelspec": {
   "display_name": "Python 3 (ipykernel)",
   "language": "python",
   "name": "python3"
  },
  "language_info": {
   "codemirror_mode": {
    "name": "ipython",
    "version": 3
   },
   "file_extension": ".py",
   "mimetype": "text/x-python",
   "name": "python",
   "nbconvert_exporter": "python",
   "pygments_lexer": "ipython3",
   "version": "3.7.6"
  },
  "toc": {
   "base_numbering": 1,
   "nav_menu": {},
   "number_sections": true,
   "sideBar": true,
   "skip_h1_title": true,
   "title_cell": "Содержание",
   "title_sidebar": "Contents",
   "toc_cell": true,
   "toc_position": {
    "height": "calc(100% - 180px)",
    "left": "10px",
    "top": "150px",
    "width": "242.083px"
   },
   "toc_section_display": true,
   "toc_window_display": true
  }
 },
 "nbformat": 4,
 "nbformat_minor": 2
}
